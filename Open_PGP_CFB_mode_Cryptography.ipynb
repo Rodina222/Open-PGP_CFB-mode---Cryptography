{
  "nbformat": 4,
  "nbformat_minor": 0,
  "metadata": {
    "colab": {
      "provenance": [],
      "gpuType": "T4"
    },
    "kernelspec": {
      "name": "python3",
      "display_name": "Python 3"
    },
    "language_info": {
      "name": "python"
    },
    "gpuClass": "standard"
  },
  "cells": [
    {
      "cell_type": "markdown",
      "source": [
        "## Imports:"
      ],
      "metadata": {
        "id": "1bluTTJQI_aY"
      }
    },
    {
      "cell_type": "code",
      "source": [
        "! pip install pycryptodome"
      ],
      "metadata": {
        "colab": {
          "base_uri": "https://localhost:8080/"
        },
        "id": "Nd-EKQ7FGGhp",
        "outputId": "8bd1a89c-c9d7-4dbd-edb3-b17406cd3058"
      },
      "execution_count": null,
      "outputs": [
        {
          "output_type": "stream",
          "name": "stdout",
          "text": [
            "Looking in indexes: https://pypi.org/simple, https://us-python.pkg.dev/colab-wheels/public/simple/\n",
            "Requirement already satisfied: pycryptodome in /usr/local/lib/python3.10/dist-packages (3.17)\n"
          ]
        }
      ]
    },
    {
      "cell_type": "code",
      "source": [
        "import csv\n",
        "from Crypto.Util.number import getPrime\n",
        "from Crypto.Util.number import inverse\n",
        "from Crypto.Random.random import randrange\n",
        "from Crypto.Cipher import AES\n",
        "from Crypto.Random import get_random_bytes\n",
        "from math import gcd\n",
        "import os\n",
        "import time\n",
        "import numpy as np\n",
        "from random import randbytes\n",
        "from Crypto.Cipher import AES\n",
        "from Crypto.Util.Padding import pad, unpad"
      ],
      "metadata": {
        "id": "73ACz8S9I-Wd"
      },
      "execution_count": null,
      "outputs": []
    },
    {
      "cell_type": "markdown",
      "source": [
        "## Reading the input files:\n",
        "\n",
        "\n",
        "\n"
      ],
      "metadata": {
        "id": "iY3laxLgLKO7"
      }
    },
    {
      "cell_type": "code",
      "source": [
        "def Reading_file(file_name):\n",
        "\n",
        "  with open(file_name ,'rb') as file:\n",
        "    lines = file.read()\n",
        "\n",
        "  splitted_bytes = [lines[i:i+14] for i in range(0, len(lines), 14)]\n",
        "  \n",
        "  return (list(splitted_bytes))\n",
        "\n"
      ],
      "metadata": {
        "id": "K2aRK3nnLTDY"
      },
      "execution_count": null,
      "outputs": []
    },
    {
      "cell_type": "code",
      "source": [
        "bytes_1KB= Reading_file('1KB_file.txt')\n"
      ],
      "metadata": {
        "id": "Jj_NDiHIKaGr"
      },
      "execution_count": null,
      "outputs": []
    },
    {
      "cell_type": "code",
      "source": [
        "bytes_5KB= Reading_file('5KB_file.txt')"
      ],
      "metadata": {
        "id": "sxCPrUkK6c33"
      },
      "execution_count": null,
      "outputs": []
    },
    {
      "cell_type": "code",
      "source": [
        "bytes_10KB= Reading_file('10KB_file.txt')"
      ],
      "metadata": {
        "id": "QFUWY7q_7rlj"
      },
      "execution_count": null,
      "outputs": []
    },
    {
      "cell_type": "code",
      "source": [
        "bytes_100KB= Reading_file('100KB_file.txt')"
      ],
      "metadata": {
        "id": "foRwVbC68LEX"
      },
      "execution_count": null,
      "outputs": []
    },
    {
      "cell_type": "markdown",
      "source": [
        "## Generating the key:"
      ],
      "metadata": {
        "id": "31faCnOKHdxL"
      }
    },
    {
      "cell_type": "code",
      "source": [
        "key= os.urandom(32)\n",
        "print(key)"
      ],
      "metadata": {
        "id": "RSBoQq9ISpXz",
        "colab": {
          "base_uri": "https://localhost:8080/"
        },
        "outputId": "119b548d-f0b1-47ea-841e-655a6ca5af9e"
      },
      "execution_count": null,
      "outputs": [
        {
          "output_type": "stream",
          "name": "stdout",
          "text": [
            "b'\\x02\\xcc\\xb6\\xdeR\\xdfz\\x00z)J\\x82\\xcc\\x01\\x0f\\xae\\xe6..\\xd4uz\\x88\\xd7\\xf1\\xe2hs\\xec\\x8f\\x91\\x06'\n"
          ]
        }
      ]
    },
    {
      "cell_type": "markdown",
      "source": [
        "## Generating the BS+2 random data:"
      ],
      "metadata": {
        "id": "9I0BET8LXjTE"
      }
    },
    {
      "cell_type": "code",
      "source": [
        "random_bytes = randbytes(14)\n",
        "random_bytes[-2:]\n",
        "added_2_bytes= random_bytes[-2:]\n",
        "random_BS=random_bytes+added_2_bytes\n",
        "print(random_BS)"
      ],
      "metadata": {
        "colab": {
          "base_uri": "https://localhost:8080/"
        },
        "id": "ucsXtA07Pei1",
        "outputId": "96eda1ef-31da-4aaa-ab6e-17ee8ce1687b"
      },
      "execution_count": null,
      "outputs": [
        {
          "output_type": "stream",
          "name": "stdout",
          "text": [
            "b'\\x9d\\xf6w\\x9b\\x1a4\\xecI=\\x13\\x9d\\xe5\\x97\\x90\\x97\\x90'\n"
          ]
        }
      ]
    },
    {
      "cell_type": "markdown",
      "source": [
        "## Concatenating the random bytes with the plaintext:"
      ],
      "metadata": {
        "id": "lPDgHSh2Xs_m"
      }
    },
    {
      "cell_type": "code",
      "source": [
        "bytes_1KB.insert(0,random_BS)\n",
        "bytes_5KB.insert(0,random_BS)\n",
        "bytes_10KB.insert(0,random_BS)\n",
        "bytes_100KB.insert(0,random_BS)"
      ],
      "metadata": {
        "id": "wnJZWVytTmmQ"
      },
      "execution_count": null,
      "outputs": []
    },
    {
      "cell_type": "markdown",
      "source": [
        "## Encryption and decryption using AES:"
      ],
      "metadata": {
        "id": "Uh4okUV6YCIX"
      }
    },
    {
      "cell_type": "code",
      "source": [
        "def AES_Encrypt(key,FR):\n",
        "\n",
        "  \n",
        "  E_cipher = AES.new(key, AES.MODE_ECB) # ECB mode\n",
        "  modified_data = E_cipher.encrypt(FR)\n",
        "\n",
        "  return modified_data\n"
      ],
      "metadata": {
        "id": "_m6FRx9HBLYY"
      },
      "execution_count": null,
      "outputs": []
    },
    {
      "cell_type": "markdown",
      "source": [
        "## ِAuxiliary Functions:"
      ],
      "metadata": {
        "id": "R-V6jFg3cmVo"
      }
    },
    {
      "cell_type": "markdown",
      "source": [
        "## Generating the Initial vector (IV):"
      ],
      "metadata": {
        "id": "kyHo9EOMXYlr"
      }
    },
    {
      "cell_type": "code",
      "source": [
        "IV = bytearray(16)\n",
        "print(IV)\n"
      ],
      "metadata": {
        "colab": {
          "base_uri": "https://localhost:8080/"
        },
        "id": "pe3BUpefJYbU",
        "outputId": "96bced9e-6e6e-4d29-c5c1-7eac49ced735"
      },
      "execution_count": null,
      "outputs": [
        {
          "output_type": "stream",
          "name": "stdout",
          "text": [
            "bytearray(b'\\x00\\x00\\x00\\x00\\x00\\x00\\x00\\x00\\x00\\x00\\x00\\x00\\x00\\x00\\x00\\x00')\n"
          ]
        }
      ]
    },
    {
      "cell_type": "code",
      "source": [
        "FR= IV  # feedback register is initially set to the initial vector"
      ],
      "metadata": {
        "id": "wlRUQ6zVcUlu"
      },
      "execution_count": null,
      "outputs": []
    },
    {
      "cell_type": "markdown",
      "source": [
        "## XORing operation:"
      ],
      "metadata": {
        "id": "wadLB2DDvES5"
      }
    },
    {
      "cell_type": "code",
      "source": [
        "def XOR(plaintext,ciphertext):\n",
        "  \n",
        "  # convert the input bytearrays to numpy arrays\n",
        "  plaintext= np.frombuffer(plaintext, dtype=np.uint8)\n",
        "  ciphertext = np.frombuffer(ciphertext, dtype=np.uint8)\n",
        "\n",
        "  # XOR them element-wise and convert the result to a bytes object\n",
        "  result = np.bitwise_xor(plaintext,ciphertext).tobytes()\n",
        "\n",
        "  return result\n"
      ],
      "metadata": {
        "id": "ScfZHuRA11rN"
      },
      "execution_count": null,
      "outputs": []
    },
    {
      "cell_type": "markdown",
      "source": [
        "## Updating the feedback register:"
      ],
      "metadata": {
        "id": "Nf9mQIrvvJP8"
      }
    },
    {
      "cell_type": "code",
      "source": [
        "def Register_update(FR, ciphertext):\n",
        "  ciphertext = bytearray(ciphertext)\n",
        "  FR = bytearray(FR)\n",
        "\n",
        "  # Get the size of t\n",
        "  size = len(ciphertext)\n",
        "\n",
        "  # Shift c to the left by the size of t\n",
        "  for i in range(size, len(FR)):\n",
        "      FR[i - size] = FR[i]\n",
        "\n",
        "  for i in range(len(FR) - size, len(FR)):\n",
        "      FR[i] = ciphertext[i-len(FR)]\n",
        "\n",
        "  # Convert the result back to bytes\n",
        "  result = bytes(FR)\n",
        "\n",
        "  return result\n"
      ],
      "metadata": {
        "id": "bZMLamNCVPX1"
      },
      "execution_count": null,
      "outputs": []
    },
    {
      "cell_type": "markdown",
      "source": [
        "## Unpadding Function:"
      ],
      "metadata": {
        "id": "EqH4JyYzwROP"
      }
    },
    {
      "cell_type": "code",
      "source": [
        "def Unpadding(data):\n",
        "\n",
        "  last_block= (data[-1])   # accessing the last block\n",
        "  index= last_block.find(last_block[-1])  #accessing the last character (padding character)\n",
        "  last_block= last_block[:index]   # removing the padding characters\n",
        "  data[-1] =last_block    # updating the input data with the unpadded last block\n",
        "\n",
        "  return data\n"
      ],
      "metadata": {
        "id": "7Ti-qyg4syK3"
      },
      "execution_count": null,
      "outputs": []
    },
    {
      "cell_type": "markdown",
      "source": [
        "## Main Function:"
      ],
      "metadata": {
        "id": "QGS3qTzqwZeV"
      }
    },
    {
      "cell_type": "markdown",
      "source": [
        "## PGP_CFB Mode:"
      ],
      "metadata": {
        "id": "gB9vM-dJvU0i"
      }
    },
    {
      "cell_type": "code",
      "source": [
        "def PGP_CFBmode(plaintext,FR,key):\n",
        "\n",
        "  ciphertext=[]\n",
        "  BS= 14\n",
        " \n",
        "  \n",
        "  for i in range(len(plaintext)):\n",
        "    \n",
        "    # Handling the 1st case of PGP mode 16 bytes instead of 14 bytes \n",
        "      #  1. Handling the 14 bytes\n",
        "    if i == 0:\n",
        "     plain_block= plaintext[0]\n",
        "     plain_block=plain_block[:BS]\n",
        "\n",
        "     FRE= AES_Encrypt(key,FR)\n",
        "     FRE= FRE [:BS]\n",
        "     cipher_block1= XOR(plain_block,FRE)\n",
        "      \n",
        "      #  2. Handling the rest 2 bytes\n",
        "\n",
        "     plain_block= plaintext[0]\n",
        "     plain_block=plain_block[BS:BS+2]\n",
        "\n",
        "     FRE= AES_Encrypt(key,FR)\n",
        "     FRE= FRE [:2]\n",
        "     cipher_block2= XOR(plain_block,FRE)\n",
        "\n",
        "     # adding the 2 cipher blocks as they represent the 1st cipher block\n",
        "     added_cipher=cipher_block1+cipher_block2\n",
        "     ciphertext.append(added_cipher)\n",
        "\n",
        "\n",
        "    else:\n",
        "      if i == len(plaintext)-1 and len(plaintext[i])<14:  # flag is an indicator that the current block is the last block so it needs padding\n",
        "        plain_block =pad(plaintext[i],BS)    #PKCS7 padding\n",
        "\n",
        "      \n",
        "      else:\n",
        "        # take the current plain_block\n",
        "        plain_block= plaintext[i]\n",
        "\n",
        "      #encrypt the FR (feedback register):\n",
        "      encrypted_FR= AES_Encrypt(key,FR)\n",
        "      encrypted_FR= encrypted_FR[:BS] \n",
        "\n",
        "      # Xoring current plain_block with the encrypted_FR\n",
        "      cipher_block= XOR(plain_block,encrypted_FR)\n",
        "      ciphertext.append(cipher_block)\n",
        "\n",
        "      #updating the FR using the current cipher_block \n",
        "      Register_update(FR,cipher_block)\n",
        "\n",
        "      \n",
        "\n",
        "  return ciphertext\n"
      ],
      "metadata": {
        "id": "nQzW6IIwkKOO"
      },
      "execution_count": null,
      "outputs": []
    },
    {
      "cell_type": "markdown",
      "source": [
        "## Evaluate the performance of the PGP-CFB mode for Encryption and Decryption:"
      ],
      "metadata": {
        "id": "j7WuG_bRLFob"
      }
    },
    {
      "cell_type": "markdown",
      "source": [
        "## 1KB file:"
      ],
      "metadata": {
        "id": "DimhKFcYSJ86"
      }
    },
    {
      "cell_type": "code",
      "source": [
        "# Encryption part: \n",
        "\n",
        "start_time_encrypt = time.time() \n",
        "cipher_1KB= PGP_CFBmode(bytes_1KB,FR,key)\n",
        "end_time_encrypt = time.time() \n",
        "#print(cipher_1KB)\n",
        "print(\"Time taken for encyption: \",\"{:.4f}\".format(end_time_encrypt - start_time_encrypt), \"seconds\")\n",
        "\n",
        "# Decryption part:\n",
        "\n",
        "start_time_decrypt = time.time() \n",
        "decrypted_1KB= PGP_CFBmode(cipher_1KB,FR,key)\n",
        "end_time_decypt = time.time()\n",
        "#print(decrypted_1KB)\n",
        "print(\"Time taken for decryption: \",\"{:.4f}\".format(end_time_decypt - start_time_decrypt), \"seconds\")"
      ],
      "metadata": {
        "colab": {
          "base_uri": "https://localhost:8080/"
        },
        "id": "pbth6VJ2PbsI",
        "outputId": "2735ddce-63d0-43ca-f7af-923fc6be2d8f"
      },
      "execution_count": null,
      "outputs": [
        {
          "output_type": "stream",
          "name": "stdout",
          "text": [
            "Time taken for encyption:  0.0095 seconds\n",
            "Time taken for decryption:  0.0026 seconds\n"
          ]
        }
      ]
    },
    {
      "cell_type": "code",
      "source": [
        "print(\"Before Unpadding:\",decrypted_1KB)\n",
        "Unpadded_1KB= Unpadding(decrypted_1KB)\n",
        "print(\"Before Unpadding:\",Unpadded_1KB)\n"
      ],
      "metadata": {
        "colab": {
          "base_uri": "https://localhost:8080/"
        },
        "id": "eO4iomtVs-I_",
        "outputId": "acbc192f-e8e2-4887-fd80-2952b127ea6f"
      },
      "execution_count": null,
      "outputs": [
        {
          "output_type": "stream",
          "name": "stdout",
          "text": [
            "Before Unpadding: [b'\\x9d\\xf6w\\x9b\\x1a4\\xecI=\\x13\\x9d\\xe5\\x97\\x90\\x97\\x90', b'Victory seemed', b' unlikely. Mou', b'nt Saint Micha', b'el were two se', b'ts down and St', b'. Leo\\xe2\\x80\\x99s cert', b'ainly had the ', b'upper hand in ', b'the third set,', b' dominating 9 ', b'points to 2. E', b'ach time St. L', b'eo\\xe2\\x80\\x99s scored,', b' they pounded ', b'the ground in ', b'unison, furthe', b'r intimidating', b' an already sh', b'aky Claremorri', b's team. So how', b', in these cir', b'cumstances, di', b'd they snatch ', b'victory from t', b'he jaws of alm', b'ost certain de', b'feat?\\r\\n\\r\\n\\r\\n\\r\\n\\r', b'\\n\\r\\n\\r\\nThe first', b' set seemed to', b' suggest two t', b'eams who were ', b'equally matche', b'd. Michael\\xe2\\x80\\x99s', b' fought point ', b'for point agai', b'nst a Leo\\xe2\\x80\\x99s ', b'team whose def', b'ence was almos', b't impenetrable', b', yet Edel Nol', b'an managed to ', b'hit home some ', b'impressive spi', b'kes. However, ', b'as the set dre', b'w to a close, ', b'they found the', b'mselves unable', b' to finish the', b' job and St Le', b'o\\xe2\\x80\\x99s stormed ', b'into the secon', b'd set with a 2', b'5-22 win in th', b'e first set un', b'der their belt', b'.\\r\\n\\r\\n\\r\\n\\x07\\x07\\x07\\x07\\x07\\x07\\x07']\n",
            "Before Unpadding: [b'\\x9d\\xf6w\\x9b\\x1a4\\xecI=\\x13\\x9d\\xe5\\x97\\x90\\x97\\x90', b'Victory seemed', b' unlikely. Mou', b'nt Saint Micha', b'el were two se', b'ts down and St', b'. Leo\\xe2\\x80\\x99s cert', b'ainly had the ', b'upper hand in ', b'the third set,', b' dominating 9 ', b'points to 2. E', b'ach time St. L', b'eo\\xe2\\x80\\x99s scored,', b' they pounded ', b'the ground in ', b'unison, furthe', b'r intimidating', b' an already sh', b'aky Claremorri', b's team. So how', b', in these cir', b'cumstances, di', b'd they snatch ', b'victory from t', b'he jaws of alm', b'ost certain de', b'feat?\\r\\n\\r\\n\\r\\n\\r\\n\\r', b'\\n\\r\\n\\r\\nThe first', b' set seemed to', b' suggest two t', b'eams who were ', b'equally matche', b'd. Michael\\xe2\\x80\\x99s', b' fought point ', b'for point agai', b'nst a Leo\\xe2\\x80\\x99s ', b'team whose def', b'ence was almos', b't impenetrable', b', yet Edel Nol', b'an managed to ', b'hit home some ', b'impressive spi', b'kes. However, ', b'as the set dre', b'w to a close, ', b'they found the', b'mselves unable', b' to finish the', b' job and St Le', b'o\\xe2\\x80\\x99s stormed ', b'into the secon', b'd set with a 2', b'5-22 win in th', b'e first set un', b'der their belt', b'.\\r\\n\\r\\n\\r\\n']\n"
          ]
        }
      ]
    },
    {
      "cell_type": "code",
      "source": [
        "with open('output_1KB.txt', 'wb') as f:\n",
        "\n",
        "    # write the bytes object to the file\n",
        "   for i in range(1,len(Unpadded_1KB)):\n",
        "     decrypted_data = Unpadded_1KB[i]\n",
        "     f.write(decrypted_data)"
      ],
      "metadata": {
        "id": "RuG-tauF8c_E"
      },
      "execution_count": null,
      "outputs": []
    },
    {
      "cell_type": "markdown",
      "source": [
        "## 5KB file:"
      ],
      "metadata": {
        "id": "edFsCyidSS73"
      }
    },
    {
      "cell_type": "code",
      "source": [
        "# Encryption part: \n",
        "\n",
        "start_time_encrypt = time.time() \n",
        "cipher_5KB= PGP_CFBmode(bytes_5KB,FR,key)\n",
        "end_time_encrypt = time.time() \n",
        "#print(cipher_5KB)\n",
        "print(\"Time taken for encyption: \",\"{:.4f}\".format(end_time_encrypt - start_time_encrypt), \"seconds\")\n",
        "\n",
        "\n",
        "# Decryption part:\n",
        "\n",
        "start_time_decrypt = time.time() \n",
        "decrypted_5KB= PGP_CFBmode(cipher_5KB,FR,key)\n",
        "end_time_decypt = time.time()\n",
        "#print(decrypted_5KB)\n",
        "print(\"Time taken for decryption: \",\"{:.4f}\".format(end_time_decypt - start_time_decrypt), \"seconds\")"
      ],
      "metadata": {
        "colab": {
          "base_uri": "https://localhost:8080/"
        },
        "id": "N9mBjS57sNfx",
        "outputId": "7d798ab6-1b23-4c37-b8d2-5db2145c8252"
      },
      "execution_count": null,
      "outputs": [
        {
          "output_type": "stream",
          "name": "stdout",
          "text": [
            "Time taken for encyption:  0.0374 seconds\n",
            "Time taken for decryption:  0.0346 seconds\n"
          ]
        }
      ]
    },
    {
      "cell_type": "code",
      "source": [
        "Unpadded_5KB= Unpadding(decrypted_5KB)\n",
        "print(Unpadded_5KB)"
      ],
      "metadata": {
        "colab": {
          "base_uri": "https://localhost:8080/"
        },
        "id": "xpuq0Ah9gKB3",
        "outputId": "8d957b9c-abe7-44a1-cace-8c6f3f7fce3a"
      },
      "execution_count": null,
      "outputs": [
        {
          "output_type": "stream",
          "name": "stdout",
          "text": [
            "[b'\\x9d\\xf6w\\x9b\\x1a4\\xecI=\\x13\\x9d\\xe5\\x97\\x90\\x97\\x90', b'Victory seemed', b' unlikely. Mou', b'nt Saint Micha', b'el were two se', b'ts down and St', b'. Leo\\xe2\\x80\\x99s cert', b'ainly had the ', b'upper hand in ', b'the third set,', b' dominating 9 ', b'points to 2. E', b'ach time St. L', b'eo\\xe2\\x80\\x99s scored,', b' they pounded ', b'the ground in ', b'unison, furthe', b'r intimidating', b' an already sh', b'aky Claremorri', b's team. So how', b', in these cir', b'cumstances, di', b'd they snatch ', b'victory from t', b'he jaws of alm', b'ost certain de', b'feat?\\r\\n\\r\\n\\r\\n\\r\\n\\r', b'\\n\\r\\nAs it final', b'ly dawned that', b' Claremorris c', b'ould actually ', b'win this match', b', the exciteme', b'nt and tension', b' in the arena ', b'reached fever ', b'pitch, and the', b' daddies on th', b'e sideline (Ge', b'rry Croghan & ', b'Con Nolan) ril', b'ed up the crow', b'd, ably assist', b'ed by vice-pri', b'ncipal Margare', b't Burke. Howev', b'er, St Leo\\xe2\\x80\\x99s', b' finally reali', b'sed that it wa', b's still all to', b' play for and ', b'once again the', b'ir defence, le', b'd by Sinead Ru', b'th, became nea', b'r-impossible t', b'o break down. ', b'Edel Nolan mad', b'e three excell', b'ent spikes in ', b'a row only to ', b'find each and ', b'every one retu', b'rned. Long ral', b'lies defined t', b'he 5th and fin', b'al set (first ', b'to 15 points b', b'ut the team mu', b'st win by 2 po', b'ints) and ever', b'y time Claremo', b'rris inched ah', b'ead St Leo\\xe2\\x80\\x99s', b' reeled them i', b'n again. Final', b'ly, however, t', b'hey reached 14', b' \\xe2\\x80\\x93 13 and fa', b'ced their firs', b't match point.', b' Sinead Crogha', b'n, whose stren', b'gth was such a', b' defining feat', b'ure of her pla', b'y up to this p', b'oint, unfortun', b'ately hit the ', b'serve long and', b' it was back t', b'o stalemate. T', b'wo more match ', b'points followe', b'd, but Mount S', b't Michael coul', b'dn\\xe2\\x80\\x99t seem to', b' finish Leo\\xe2\\x80\\x99', b's off. At last', b', with 2 sets ', b'all and 17-16 ', b'on the scorebo', b'ard, Nikki Han', b'ley served, ra', b'ced forward to', b' set the ball ', b'and Edel Nolan', b' spiked the gi', b'rls to the swe', b'etest victory ', b'of their lives', b'. No wonder, t', b'hen, she was n', b'amed Most Valu', b'able Player of', b' the match.Vic', b'tory seemed un', b'likely. Mount ', b'Saint Michael ', b'were two sets ', b'down and St. L', b'eo\\xe2\\x80\\x99s certain', b'ly had the upp', b'er hand in the', b' third set, do', b'minating 9 poi', b'nts to 2. Each', b' time St. Leo\\xe2', b'\\x80\\x99s scored, th', b'ey pounded the', b' ground in uni', b'son, further i', b'ntimidating an', b' already shaky', b' Claremorris t', b'eam. So how, i', b'n these circum', b'stances, did t', b'hey snatch vic', b'tory from the ', b'jaws of almost', b' certain defea', b't?\\r\\n\\r\\nThe firs', b't set seemed t', b'o suggest two ', b'teams who were', b' equally match', b'ed. Michael\\xe2\\x80\\x99', b's fought point', b' for point aga', b'inst a Leo\\xe2\\x80\\x99s', b' team whose de', b'fence was almo', b'st impenetrabl', b'e, yet Edel No', b'lan managed to', b' hit home some', b' impressive sp', b'ikes. However,', b' as the set dr', b'ew to a close,', b' they found th', b'emselves unabl', b'e to finish th', b'e job and St L', b'eo\\xe2\\x80\\x99s stormed', b' into the seco', b'nd set with a ', b'25-22 win in t', b'he first set u', b'nder their bel', b't.\\r\\n\\r\\nThis is ', b'where it all w', b'ent wrong for ', b'Claremorris. H', b'aving lost the', b' first set, th', b'eir nerves too', b'k over and the', b'ir difficulty ', b'settling into ', b'the match was ', b'evident in a p', b'lethora of unf', b'orced errors, ', b'despite excell', b'ent positionin', b'g by Nikki Han', b'ley and impact', b' substitutions', b' by Lisa McGre', b'al and Jackie ', b'Prendergast. T', b'hey lost the s', b'econd set 25-1', b'9 and hope beg', b'an to fade for', b' their 200+ su', b'pporters.\\r\\n\\r\\nT', b'he third set b', b'egan in simila', b'r fashion but ', b'sensing that t', b'hey now had no', b'thing to lose ', b'\\xe2\\x80\\x93 except of ', b'course the All', b'-Ireland Title', b' \\xe2\\x80\\x93 the team ', b'lifted their g', b'ame tremendous', b'ly, aided by t', b'he now deafeni', b'ng cries of th', b'eir desperate ', b'supporters, le', b'd by Lisa Bret', b't and Chloe Hu', b'ghes. Strategi', b'c use of time ', b'outs by coach ', b'Fionnghuala Ki', b'ng saw the gir', b'ls finally set', b'tle into the m', b'atch. She no d', b'oubt reminded ', b'them of their ', b'team mantra \\xe2\\x80', b'\\x93 no matter ho', b'w badly things', b' seem to be go', b'ing \\xe2\\x80\\x98don\\xe2\\x80\\x99t', b' lose your mar', b'bles\\xe2\\x80\\x99. Steph', b'anie Mellet ha', b'd a great run ', b'of serves and ', b'made a stunnin', b'g save at this', b' crucial point', b' in the set. A', b'isling Croghan', b' made some unb', b'elievable hits', b' from the wing', b's and Edel Nol', b'an shone as th', b'e driving forc', b'e behind Mount', b' St Michael\\xe2\\x80\\x99', b's incredible c', b'omeback. They ', b'won the third ', b'set 25-16 and ', b'St Leo\\xe2\\x80\\x99s gam', b'e began to fal', b'l apart.\\r\\n\\r\\nA ', b'fear of losing', b' now defined t', b'heir play, and', b' they frequent', b'ly only used t', b'wo of their th', b'ree hits, eage', b'r to simply ge', b't the ball acr', b'oss the net. M', b'eanwhile, Clar', b'emorris grew i', b'n confidence, ', b'scoring a reso', b'unding victory', b' in the fourth', b' set 25-13.\\r\\n\\r', b'\\nAs it finally', b' dawned that C', b'laremorris cou', b'ld actually wi', b'n this match, ', b'the excitement', b' and tension i', b'n the arena re', b'ached fever pi', b'tch, and the d', b'addies on the ', b'sideline (Gerr', b'y Croghan & Co', b'n Nolan) riled', b' up the crowd,', b' ably assisted', b' by vice-princ', b'ipal Margaret ', b'Burke. However', b', St Leo\\xe2\\x80\\x99s f', b'inally realise', b'd that it was ', b'still all to p', b'lay for and on', b'ce again their', b' defence, led ', b'by Sinead Ruth', b', became near-', b'impossible to ', b'break down. Ed', b'el Nolan made ', b'three excellen', b't spikes in a ', b'row only to fi', b'nd each and ev', b'ery one return', b'ed. Long ralli', b'es defined the', b' 5th and final', b' set (first to', b' 15 points but', b' the team must', b' win by 2 poin', b'ts) and every ', b'time Claremorr', b'is inched ahea', b'd St Leo\\xe2\\x80\\x99s r', b'eeled them in ', b'again. Finally', b', however, the', b'y reached 14 \\xe2', b'\\x80\\x93 13 and face', b'd their first ', b'match point. S', b'inead Croghan,', b' whose strengt', b'h was such a d', b'efining featur', b'e of her play ', b'up to this poi', b'nt, unfortunat', b'ely hit the se', b'rve long and i', b't was back to ', b'stalemate. Two', b' more match po', b'ints followed,', b' but Mount St ', b'Michael couldn', b'\\xe2\\x80\\x99t seem to f', b'inish Leo\\xe2\\x80\\x99s ', b'off. At last, ', b'with 2 sets al', b'l and 17-16 on', b' the scoreboar', b'd, Nikki Hanle', b'y served, race', b'd forward to s', b'et the ball an', b'd Edel Nolan s', b'piked the girl', b's to the sweet', b'est victory of', b' their lives. ', b'No wonder, the', b'n, she was nam', b'ed Most Valuab', b'le Player of t', b'he match.']\n"
          ]
        }
      ]
    },
    {
      "cell_type": "code",
      "source": [
        "with open('output_5KB.txt', 'wb') as f:\n",
        "\n",
        "    # write the bytes object to the file\n",
        "   for i in range(1,len(Unpadded_5KB)):\n",
        "     decrypted_data = Unpadded_5KB[i]\n",
        "     f.write( decrypted_data)"
      ],
      "metadata": {
        "id": "s_va1Wmv5yks"
      },
      "execution_count": null,
      "outputs": []
    },
    {
      "cell_type": "markdown",
      "source": [
        "## 10KB file:"
      ],
      "metadata": {
        "id": "ZSafLO36SVvl"
      }
    },
    {
      "cell_type": "code",
      "source": [
        "# Encryption part: \n",
        "\n",
        "start_time_encrypt = time.time() \n",
        "cipher_10KB= PGP_CFBmode(bytes_10KB,FR,key)\n",
        "end_time_encrypt = time.time() \n",
        "#print(cipher_10KB)\n",
        "print(\"Time taken for encyption: \",\"{:.4f}\".format(end_time_encrypt - start_time_encrypt), \"seconds\")\n",
        "\n",
        "\n",
        "# Decryption part:\n",
        "\n",
        "start_time_decrypt = time.time() \n",
        "decrypted_10KB= PGP_CFBmode(cipher_10KB,FR,key)\n",
        "end_time_decypt = time.time()\n",
        "#print(decrypted_10KB)\n",
        "print(\"Time taken for decryption: \",\"{:.4f}\".format(end_time_decypt - start_time_decrypt), \"seconds\")"
      ],
      "metadata": {
        "id": "K_oF1sZ8sevs",
        "colab": {
          "base_uri": "https://localhost:8080/"
        },
        "outputId": "fb4b5b4d-7f21-4c93-f2b3-75c341bc117d"
      },
      "execution_count": null,
      "outputs": [
        {
          "output_type": "stream",
          "name": "stdout",
          "text": [
            "Time taken for encyption:  0.0458 seconds\n",
            "Time taken for decryption:  0.0729 seconds\n"
          ]
        }
      ]
    },
    {
      "cell_type": "code",
      "source": [
        "Unpadded_10KB= Unpadding(decrypted_10KB)\n",
        "print(Unpadded_10KB)"
      ],
      "metadata": {
        "id": "F6hsqOI3xHvD",
        "colab": {
          "base_uri": "https://localhost:8080/"
        },
        "outputId": "2b079b6d-638e-4036-947b-b42489a9a8e3"
      },
      "execution_count": null,
      "outputs": [
        {
          "output_type": "stream",
          "name": "stdout",
          "text": [
            "[b'\\x9d\\xf6w\\x9b\\x1a4\\xecI=\\x13\\x9d\\xe5\\x97\\x90\\x97\\x90', b'Victory seemed', b' unlikely. Mou', b'nt Saint Micha', b'el were two se', b'ts down and St', b'. Leo\\xe2\\x80\\x99s cert', b'ainly had the ', b'upper hand in ', b'the third set,', b' dominating 9 ', b'points to 2. E', b'ach time St. L', b'eo\\xe2\\x80\\x99s scored,', b' they pounded ', b'the ground in ', b'unison, furthe', b'r intimidating', b' an already sh', b'aky Claremorri', b's team. So how', b', in these cir', b'cumstances, di', b'd they snatch ', b'victory from t', b'he jaws of alm', b'ost certain de', b'feat?\\r\\n\\r\\nThe f', b'irst set seeme', b'd to suggest t', b'wo teams who w', b'ere equally ma', b'tched. Michael', b'\\xe2\\x80\\x99s fought po', b'int for point ', b'against a Leo\\xe2', b'\\x80\\x99s team whose', b' defence was a', b'lmost impenetr', b'able, yet Edel', b' Nolan managed', b' to hit home s', b'ome impressive', b' spikes. Howev', b'er, as the set', b' drew to a clo', b'se, they found', b' themselves un', b'able to finish', b' the job and S', b't Leo\\xe2\\x80\\x99s stor', b'med into the s', b'econd set with', b' a 25-22 win i', b'n the first se', b't under their ', b'belt.\\r\\n\\r\\nThis ', b'is where it al', b'l went wrong f', b'or Claremorris', b'. Having lost ', b'the first set,', b' their nerves ', b'took over and ', b'their difficul', b'ty settling in', b'to the match w', b'as evident in ', b'a plethora of ', b'unforced error', b's, despite exc', b'ellent positio', b'ning by Nikki ', b'Hanley and imp', b'act substituti', b'ons by Lisa Mc', b'Greal and Jack', b'ie Prendergast', b'. They lost th', b'e second set 2', b'5-19 and hope ', b'began to fade ', b'for their 200+', b' supporters.\\r\\n', b'\\r\\nThe third se', b't began in sim', b'ilar fashion b', b'ut sensing tha', b't they now had', b' nothing to lo', b'se \\xe2\\x80\\x93 except ', b'of course the ', b'All-Ireland Ti', b'tle \\xe2\\x80\\x93 the te', b'am lifted thei', b'r game tremend', b'ously, aided b', b'y the now deaf', b'ening cries of', b' their despera', b'te supporters,', b' led by Lisa B', b'rett and Chloe', b' Hughes. Strat', b'egic use of ti', b'me outs by coa', b'ch Fionnghuala', b' King saw the ', b'girls finally ', b'settle into th', b'e match. She n', b'o doubt remind', b'ed them of the', b'ir team mantra', b' \\xe2\\x80\\x93 no matter', b' how badly thi', b'ngs seem to be', b' going \\xe2\\x80\\x98don\\xe2', b'\\x80\\x99t lose your ', b'marbles\\xe2\\x80\\x99. St', b'ephanie Mellet', b' had a great r', b'un of serves a', b'nd made a stun', b'ning save at t', b'his crucial po', b'int in the set', b'. Aisling Crog', b'han made some ', b'unbelievable h', b'its from the w', b'ings and Edel ', b'Nolan shone as', b' the driving f', b'orce behind Mo', b'unt St Michael', b'\\xe2\\x80\\x99s incredibl', b'e comeback. Th', b'ey won the thi', b'rd set 25-16 a', b'nd St Leo\\xe2\\x80\\x99s ', b'game began to ', b'fall apart.\\r\\n\\r', b'\\nA fear of los', b'ing now define', b'd their play, ', b'and they frequ', b'ently only use', b'd two of their', b' three hits, e', b'ager to simply', b' get the ball ', b'across the net', b'. Meanwhile, C', b'laremorris gre', b'w in confidenc', b'e, scoring a r', b'esounding vict', b'ory in the fou', b'rth set 25-13.', b'\\r\\n\\r\\nThe first ', b'set seemed to ', b'suggest two te', b'ams who were e', b'qually matched', b'. Michael\\xe2\\x80\\x99s ', b'fought point f', b'or point again', b'st a Leo\\xe2\\x80\\x99s t', b'eam whose defe', b'nce was almost', b' impenetrable,', b' yet Edel Nola', b'n managed to h', b'it home some i', b'mpressive spik', b'es. However, a', b's the set drew', b' to a close, t', b'hey found them', b'selves unable ', b'to finish the ', b'job and St Leo', b'\\xe2\\x80\\x99s stormed i', b'nto the second', b' set with a 25', b'-22 win in the', b' first set und', b'er their belt.', b'\\r\\nThe first se', b't seemed to su', b'ggest two team', b's who were equ', b'ally matched. ', b'Michael\\xe2\\x80\\x99s fo', b'ught point for', b' point against', b' a Leo\\xe2\\x80\\x99s tea', b'm whose defenc', b'e was almost i', b'mpenetrable, y', b'et Edel Nolan ', b'managed to hit', b' home some imp', b'ressive spikes', b'. However, as ', b'the set drew t', b'o a close, the', b'y found themse', b'lves unable to', b' finish the jo', b'b and St Leo\\xe2\\x80', b'\\x99s stormed int', b'o the second s', b'et with a 25-2', b'2 win in the f', b'irst set under', b' their belt.\\r\\n', b'\\r\\nThe first se', b't seemed to su', b'ggest two team', b's who were equ', b'ally matched. ', b'Michael\\xe2\\x80\\x99s fo', b'ught point for', b' point against', b' a Leo\\xe2\\x80\\x99s tea', b'm whose defenc', b'e was almost i', b'mpenetrable, y', b'et Edel Nolan ', b'managed to hit', b' home some imp', b'ressive spikes', b'. However, as ', b'the set drew t', b'o a close, the', b'y found themse', b'lves unable to', b' finish the jo', b'b and St Leo\\xe2\\x80', b'\\x99s stormed int', b'o the second s', b'et with a 25-2', b'2 win in the f', b'irst set under', b' their belt.\\r\\n', b'\\r\\nThis is wher', b'e it all went ', b'wrong for Clar', b'emorris. Havin', b'g lost the fir', b'st set, their ', b'nerves took ov', b'er and their d', b'ifficulty sett', b'ling into the ', b'match was evid', b'ent in a pleth', b'ora of unforce', b'd errors, desp', b'ite excellent ', b'positioning by', b' Nikki Hanley ', b'and impact sub', b'stitutions by ', b'Lisa McGreal a', b'nd Jackie Pren', b'dergast. They ', b'lost the secon', b'd set 25-19 an', b'd hope began t', b'o fade for the', b'ir 200+ suppor', b'ters.\\r\\n\\r\\nThe t', b'hird set began', b' in similar fa', b'shion but sens', b'ing that they ', b'now had nothin', b'g to lose \\xe2\\x80\\x93 ', b'except of cour', b'se the All-Ire', b'land Title \\xe2\\x80\\x93', b' the team lift', b'ed their game ', b'tremendously, ', b'aided by the n', b'ow deafening c', b'ries of their ', b'desperate supp', b'orters, led by', b' Lisa Brett an', b'd Chloe Hughes', b'. Strategic us', b'e of time outs', b' by coach Fion', b'nghuala King s', b'aw the girls f', b'inally settle ', b'into the match', b'. She no doubt', b' reminded them', b' of their team', b' mantra \\xe2\\x80\\x93 no', b' matter how ba', b'dly things see', b'm to be going ', b'\\xe2\\x80\\x98don\\xe2\\x80\\x99t los', b'e your marbles', b'\\xe2\\x80\\x99. Stephanie', b' Mellet had a ', b'great run of s', b'erves and made', b' a stunning sa', b've at this cru', b'cial point in ', b'the set. Aisli', b'ng Croghan mad', b'e some unbelie', b'vable hits fro', b'm the wings an', b'd Edel Nolan s', b'hone as the dr', b'iving force be', b'hind Mount St ', b'Michael\\xe2\\x80\\x99s in', b'credible comeb', b'ack. They won ', b'the third set ', b'25-16 and St L', b'eo\\xe2\\x80\\x99s game be', b'gan to fall ap', b'art.\\r\\n\\r\\nA fear', b' of losing now', b' defined their', b' play, and the', b'y frequently o', b'nly used two o', b'f their three ', b'hits, eager to', b' simply get th', b'e ball across ', b'the net. Meanw', b'hile, Claremor', b'ris grew in co', b'nfidence, scor', b'ing a resoundi', b'ng victory in ', b'the fourth set', b' 25-13.\\r\\n\\r\\nAs ', b'it finally daw', b'ned that Clare', b'morris could a', b'ctually win th', b'is match, the ', b'excitement and', b' tension in th', b'e arena reache', b'd fever pitch,', b' and the daddi', b'es on the side', b'line (Gerry Cr', b'oghan & Con No', b'lan) riled up ', b'the crowd, abl', b'y assisted by ', b'vice-principal', b' Margaret Burk', b'e. However, St', b' Leo\\xe2\\x80\\x99s final', b'ly realised th', b'at it was stil', b'l all to play ', b'for and once a', b'gain their def', b'ence, led by S', b'inead Ruth, be', b'came near-impo', b'ssible to brea', b'k down. Edel N', b'olan made thre', b'e excellent sp', b'ikes in a row ', b'only to find e', b'ach and every ', b'one returned. ', b'Long rallies d', b'efined the 5th', b' and final set', b' (first to 15 ', b'points but the', b' team must win', b' by 2 points) ', b'and every time', b' Claremorris i', b'nched ahead St', b' Leo\\xe2\\x80\\x99s reele', b'd them in agai', b'n. Finally, ho', b'wever, they re', b'ached 14 \\xe2\\x80\\x93 1', b'3 and faced th', b'eir first matc', b'h point. Sinea', b'd Croghan, who', b'se strength wa', b's such a defin', b'ing feature of', b' her play up t', b'o this point, ', b'unfortunately ', b'hit the serve ', b'long and it wa', b's back to stal', b'emate. Two mor', b'e match points', b' followed, but', b' Mount St Mich', b'ael couldn\\xe2\\x80\\x99t', b' seem to finis', b'h Leo\\xe2\\x80\\x99s off.', b' At last, with', b' 2 sets all an', b'd 17-16 on the', b' scoreboard, N', b'ikki Hanley se', b'rved, raced fo', b'rward to set t', b'he ball and Ed', b'el Nolan spike', b'd the girls to', b' the sweetest ', b'victory of the', b'ir lives. No w', b'onder, then, s', b'he was named M', b'ost Valuable P', b'layer of the m', b'atch.Victory s', b'eemed unlikely', b'. Mount Saint ', b'Michael were t', b'wo sets down a', b'nd St. Leo\\xe2\\x80\\x99s', b' certainly had', b' the upper han', b'd in the third', b' set, dominati', b'ng 9 points to', b' 2. Each time ', b'St. Leo\\xe2\\x80\\x99s sc', b'ored, they pou', b'nded the groun', b'd in unison, f', b'urther intimid', b'ating an alrea', b'dy shaky Clare', b'morris team. S', b'o how, in thes', b'e circumstance', b's, did they sn', b'atch victory f', b'rom the jaws o', b'f almost certa', b'in defeat?\\r\\n\\r\\n', b'The first set ', b'seemed to sugg', b'est two teams ', b'who were equal', b'ly matched. Mi', b'chael\\xe2\\x80\\x99s foug', b'ht point for p', b'oint against a', b' Leo\\xe2\\x80\\x99s team ', b'whose defence ', b'was almost imp', b'enetrable, yet', b' Edel Nolan ma', b'naged to hit h', b'ome some impre', b'ssive spikes. ', b'However, as th', b'e set drew to ', b'a close, they ', b'found themselv', b'es unable to f', b'inish the job ', b'and St Leo\\xe2\\x80\\x99s', b' stormed into ', b'the second set', b' with a 25-22 ', b'win in the fir', b'st set under t', b'heir belt.\\r\\n\\r\\n', b'This is where ', b'it all went wr', b'ong for Clarem', b'orris. Having ', b'lost the first', b' set, their ne', b'rves took over', b' and their dif', b'ficulty settli', b'ng into the ma', b'tch was eviden', b't in a plethor', b'a of unforced ', b'errors, despit', b'e excellent po', b'sitioning by N', b'ikki Hanley an', b'd impact subst', b'itutions by Li', b'sa McGreal and', b' Jackie Prende', b'rgast. They lo', b'st the second ', b'set 25-19 and ', b'hope began to ', b'fade for their', b' 200+ supporte', b'rs.\\r\\n\\r\\nThe thi', b'rd set began i', b'n similar fash', b'ion but sensin', b'g that they no', b'w had nothing ', b'to lose \\xe2\\x80\\x93 ex', b'cept of course', b' the All-Irela', b'nd Title \\xe2\\x80\\x93 t', b'he team lifted', b' their game tr', b'emendously, ai', b'ded by the now', b' deafening cri', b'es of their de', b'sperate suppor', b'ters, led by L', b'isa Brett and ', b'Chloe Hughes. ', b'Strategic use ', b'of time outs b', b'y coach Fionng', b'huala King saw', b' the girls fin', b'ally settle in', b'to the match. ', b'She no doubt r', b'eminded them o', b'f their team m', b'antra \\xe2\\x80\\x93 no m', b'atter how badl', b'y things seem ', b'to be going \\xe2\\x80', b'\\x98don\\xe2\\x80\\x99t lose ', b'your marbles\\xe2\\x80', b'\\x99. Stephanie M', b'ellet had a gr', b'eat run of ser', b'ves and made a', b' stunning save', b' at this cruci', b'al point in th', b'e set. Aisling', b' Croghan made ', b'some unbelieva', b'ble hits from ', b'the wings and ', b'Edel Nolan sho', b'ne as the driv', b'ing force behi', b'nd Mount St Mi', b'chael\\xe2\\x80\\x99s incr', b'edible comebac', b'k. They won th', b'e third set 25', b'-16 and St Leo', b'\\xe2\\x80\\x99s game bega', b'n to fall apar', b't.\\r\\n\\r\\nA fear o', b'f losing now d', b'efined their p', b'lay, and they ', b'frequently onl', b'y used two of ', b'their three hi', b'ts, eager to s', b'imply get the ', b'ball across th', b'e net. Meanwhi', b'le, Claremorri', b's grew in conf', b'idence, scorin', b'g a resounding', b' victory in th', b'e fourth set 2', b'5-13.\\r\\n\\r\\nAs it', b' finally dawne', b'd that Claremo', b'rris could act', b'ually win this', b' match, the ex', b'citement and t', b'ension in the ', b'arena reached ', b'fever pitch, a', b'nd the daddies', b' on the sideli', b'ne (Gerry Crog', b'han & Con Nola', b'n) riled up th', b'e crowd, ably ', b'assisted by vi', b'ce-principal M', b'argaret Burke.', b' However, St L', b'eo\\xe2\\x80\\x99s finally', b' realised that', b' it was still ', b'all to play fo', b'r and once aga', b'in their defen', b'ce, led by Sin', b'ead Ruth, beca', b'me near-imposs', b'ible to break ', b'down. Edel Nol', b'an made three ', b'excellent spik', b'es in a row on', b'ly to find eac', b'h and every on', b'e returned. Lo', b'ng rallies def', b'ined the 5th a', b'nd final set (', b'first to 15 po', b'ints but the t', b'eam must win b', b'y 2 points) an', b'd every time C', b'laremorris inc', b'hed ahead St L', b'eo\\xe2\\x80\\x99s reeled ', b'them in again.', b' Finally, howe', b'ver, they reac', b'hed 14 \\xe2\\x80\\x93 13 ', b'and faced thei', b'r first match ', b'point. Sinead ', b'Croghan, whose', b' strength was ', b'such a definin', b'g feature of h', b'er play up to ', b'this point, un', b'fortunately hi', b't the serve lo', b'ng and it was ', b'back to stalem', b'ate. Two more ', b'match points f', b'ollowed, but M', b'ount St Michae', b'l couldn\\xe2\\x80\\x99t s', b'eem to finish ', b'Leo\\xe2\\x80\\x99s off. A', b't last, with 2', b' sets all and ', b'17-16 on the s', b'coreboard, Nik', b'ki Hanley serv', b'ed, raced forw', b'ard to set the', b' ball and Edel', b' Nolan spiked ', b'the girls to t', b'he sweetest vi', b'ctory of their', b' lives. No won', b'der, then, she', b' was named Mos', b't Valuable Pla', b'yer of the mat', b'ch.']\n"
          ]
        }
      ]
    },
    {
      "cell_type": "code",
      "source": [
        "with open('output_10KB.txt', 'wb') as f:\n",
        "\n",
        "    # write the bytes object to the file\n",
        "   for i in range(1,len(Unpadded_10KB)):\n",
        "     decrypted_data = Unpadded_10KB[i]\n",
        "     f.write(decrypted_data)"
      ],
      "metadata": {
        "id": "ZnBSpH7-7lw2"
      },
      "execution_count": null,
      "outputs": []
    },
    {
      "cell_type": "markdown",
      "source": [
        "## 100KB file:"
      ],
      "metadata": {
        "id": "WZMK7AiiSazF"
      }
    },
    {
      "cell_type": "code",
      "source": [
        "# Encryption part: \n",
        "\n",
        "start_time_encrypt = time.time() \n",
        "cipher_100KB= PGP_CFBmode(bytes_100KB,FR,key)\n",
        "end_time_encrypt = time.time() \n",
        "#print(cipher_100KB)\n",
        "print(\"Time taken for encyption: \",\"{:.4f}\".format(end_time_encrypt - start_time_encrypt), \"seconds\")\n",
        "\n",
        "\n",
        "# Decryption part:\n",
        "\n",
        "start_time_decrypt = time.time() \n",
        "decrypted_100KB= PGP_CFBmode(cipher_100KB,FR,key)\n",
        "end_time_decypt = time.time()\n",
        "#print(decrypted_100KB)\n",
        "print(\"Time taken for decryption: \",\"{:.4f}\".format(end_time_decypt - start_time_decrypt), \"seconds\")"
      ],
      "metadata": {
        "id": "A5RYdu46sqwB",
        "colab": {
          "base_uri": "https://localhost:8080/"
        },
        "outputId": "1f03ddfd-3459-4151-93f4-8c100ec8bd62"
      },
      "execution_count": null,
      "outputs": [
        {
          "output_type": "stream",
          "name": "stdout",
          "text": [
            "Time taken for encyption:  0.4814 seconds\n",
            "Time taken for decryption:  0.2215 seconds\n"
          ]
        }
      ]
    },
    {
      "cell_type": "code",
      "source": [
        "Unpadded_100KB= Unpadding(decrypted_100KB)\n",
        "print(Unpadded_100KB)"
      ],
      "metadata": {
        "id": "bjiZRyKYxvYv",
        "colab": {
          "base_uri": "https://localhost:8080/"
        },
        "outputId": "271b0857-bfac-4925-b7f8-2e27e07de439"
      },
      "execution_count": null,
      "outputs": [
        {
          "output_type": "stream",
          "name": "stdout",
          "text": [
            "[b'\\x9d\\xf6w\\x9b\\x1a4\\xecI=\\x13\\x9d\\xe5\\x97\\x90\\x97\\x90', b'Victory seemed', b' unlikely. Mou', b'nt Saint Micha', b'el were two se', b'ts down and St', b'. Leo\\xe2\\x80\\x99s cert', b'ainly had the ', b'upper hand in ', b'the third set,', b' dominating 9 ', b'points to 2. E', b'ach time St. L', b'eo\\xe2\\x80\\x99s scored,', b' they pounded ', b'the ground in ', b'unison, furthe', b'r intimidating', b' an already sh', b'aky Claremorri', b's team. So how', b', in these cir', b'cumstances, di', b'd they snatch ', b'victory from t', b'he jaws of alm', b'ost certain de', b'feat?\\r\\n\\r\\nThe f', b'irst set seeme', b'd to suggest t', b'wo teams who w', b'ere equally ma', b'tched. Michael', b'\\xe2\\x80\\x99s fought po', b'int for point ', b'against a Leo\\xe2', b'\\x80\\x99s team whose', b' defence was a', b'lmost impenetr', b'able, yet Edel', b' Nolan managed', b' to hit home s', b'ome impressive', b' spikes. Howev', b'er, as the set', b' drew to a clo', b'se, they found', b' themselves un', b'able to finish', b' the job and S', b't Leo\\xe2\\x80\\x99s stor', b'med into the s', b'econd set with', b' a 25-22 win i', b'n the first se', b't under their ', b'belt.\\r\\n\\r\\nThis ', b'is where it al', b'l went wrong f', b'or Claremorris', b'. Having lost ', b'the first set,', b' their nerves ', b'took over and ', b'their difficul', b'ty settling in', b'to the match w', b'as evident in ', b'a plethora of ', b'unforced error', b's, despite exc', b'ellent positio', b'ning by Nikki ', b'Hanley and imp', b'act substituti', b'ons by Lisa Mc', b'Greal and Jack', b'ie Prendergast', b'. They lost th', b'e second set 2', b'5-19 and hope ', b'began to fade ', b'for their 200+', b' supporters.\\r\\n', b'\\r\\nThe third se', b't began in sim', b'ilar fashion b', b'ut sensing tha', b't they now had', b' nothing to lo', b'se \\xe2\\x80\\x93 except ', b'of course the ', b'All-Ireland Ti', b'tle \\xe2\\x80\\x93 the te', b'am lifted thei', b'r game tremend', b'ously, aided b', b'y the now deaf', b'ening cries of', b' their despera', b'te supporters,', b' led by Lisa B', b'rett and Chloe', b' Hughes. Strat', b'egic use of ti', b'me outs by coa', b'ch Fionnghuala', b' King saw the ', b'girls finally ', b'settle into th', b'e match. She n', b'o doubt remind', b'ed them of the', b'ir team mantra', b' \\xe2\\x80\\x93 no matter', b' how badly thi', b'ngs seem to be', b' going \\xe2\\x80\\x98don\\xe2', b'\\x80\\x99t lose your ', b'marbles\\xe2\\x80\\x99. St', b'ephanie Mellet', b' had a great r', b'un of serves a', b'nd made a stun', b'ning save at t', b'his crucial po', b'int in the set', b'. Aisling Crog', b'han made some ', b'unbelievable h', b'its from the w', b'ings and Edel ', b'Nolan shone as', b' the driving f', b'orce behind Mo', b'unt St Michael', b'\\xe2\\x80\\x99s incredibl', b'e comeback. Th', b'ey won the thi', b'rd set 25-16 a', b'nd St Leo\\xe2\\x80\\x99s ', b'game began to ', b'fall apart.\\r\\n\\r', b'\\nA fear of los', b'ing now define', b'd their play, ', b'and they frequ', b'ently only use', b'd two of their', b' three hits, e', b'ager to simply', b' get the ball ', b'across the net', b'. Meanwhile, C', b'laremorris gre', b'w in confidenc', b'e, scoring a r', b'esounding vict', b'ory in the fou', b'rth set 25-13.', b'\\r\\n\\r\\nThe first ', b'set seemed to ', b'suggest two te', b'ams who were e', b'qually matched', b'. Michael\\xe2\\x80\\x99s ', b'fought point f', b'or point again', b'st a Leo\\xe2\\x80\\x99s t', b'eam whose defe', b'nce was almost', b' impenetrable,', b' yet Edel Nola', b'n managed to h', b'it home some i', b'mpressive spik', b'es. However, a', b's the set drew', b' to a close, t', b'hey found them', b'selves unable ', b'to finish the ', b'job and St Leo', b'\\xe2\\x80\\x99s stormed i', b'nto the second', b' set with a 25', b'-22 win in the', b' first set und', b'er their belt.', b'\\r\\nThe first se', b't seemed to su', b'ggest two team', b's who were equ', b'ally matched. ', b'Michael\\xe2\\x80\\x99s fo', b'ught point for', b' point against', b' a Leo\\xe2\\x80\\x99s tea', b'm whose defenc', b'e was almost i', b'mpenetrable, y', b'et Edel Nolan ', b'managed to hit', b' home some imp', b'ressive spikes', b'. However, as ', b'the set drew t', b'o a close, the', b'y found themse', b'lves unable to', b' finish the jo', b'b and St Leo\\xe2\\x80', b'\\x99s stormed int', b'o the second s', b'et with a 25-2', b'2 win in the f', b'irst set under', b' their belt.\\r\\n', b'\\r\\nThe first se', b't seemed to su', b'ggest two team', b's who were equ', b'ally matched. ', b'Michael\\xe2\\x80\\x99s fo', b'ught point for', b' point against', b' a Leo\\xe2\\x80\\x99s tea', b'm whose defenc', b'e was almost i', b'mpenetrable, y', b'et Edel Nolan ', b'managed to hit', b' home some imp', b'ressive spikes', b'. However, as ', b'the set drew t', b'o a close, the', b'y found themse', b'lves unable to', b' finish the jo', b'b and St Leo\\xe2\\x80', b'\\x99s stormed int', b'o the second s', b'et with a 25-2', b'2 win in the f', b'irst set under', b' their belt.\\r\\n', b'\\r\\nThis is wher', b'e it all went ', b'wrong for Clar', b'emorris. Havin', b'g lost the fir', b'st set, their ', b'nerves took ov', b'er and their d', b'ifficulty sett', b'ling into the ', b'match was evid', b'ent in a pleth', b'ora of unforce', b'd errors, desp', b'ite excellent ', b'positioning by', b' Nikki Hanley ', b'and impact sub', b'stitutions by ', b'Lisa McGreal a', b'nd Jackie Pren', b'dergast. They ', b'lost the secon', b'd set 25-19 an', b'd hope began t', b'o fade for the', b'ir 200+ suppor', b'ters.\\r\\n\\r\\nThe t', b'hird set began', b' in similar fa', b'shion but sens', b'ing that they ', b'now had nothin', b'g to lose \\xe2\\x80\\x93 ', b'except of cour', b'se the All-Ire', b'land Title \\xe2\\x80\\x93', b' the team lift', b'ed their game ', b'tremendously, ', b'aided by the n', b'ow deafening c', b'ries of their ', b'desperate supp', b'orters, led by', b' Lisa Brett an', b'd Chloe Hughes', b'. Strategic us', b'e of time outs', b' by coach Fion', b'nghuala King s', b'aw the girls f', b'inally settle ', b'into the match', b'. She no doubt', b' reminded them', b' of their team', b' mantra \\xe2\\x80\\x93 no', b' matter how ba', b'dly things see', b'm to be going ', b'\\xe2\\x80\\x98don\\xe2\\x80\\x99t los', b'e your marbles', b'\\xe2\\x80\\x99. Stephanie', b' Mellet had a ', b'great run of s', b'erves and made', b' a stunning sa', b've at this cru', b'cial point in ', b'the set. Aisli', b'ng Croghan mad', b'e some unbelie', b'vable hits fro', b'm the wings an', b'd Edel Nolan s', b'hone as the dr', b'iving force be', b'hind Mount St ', b'Michael\\xe2\\x80\\x99s in', b'credible comeb', b'ack. They won ', b'the third set ', b'25-16 and St L', b'eo\\xe2\\x80\\x99s game be', b'gan to fall ap', b'art.\\r\\n\\r\\nA fear', b' of losing now', b' defined their', b' play, and the', b'y frequently o', b'nly used two o', b'f their three ', b'hits, eager to', b' simply get th', b'e ball across ', b'the net. Meanw', b'hile, Claremor', b'ris grew in co', b'nfidence, scor', b'ing a resoundi', b'ng victory in ', b'the fourth set', b' 25-13.\\r\\n\\r\\nAs ', b'it finally daw', b'ned that Clare', b'morris could a', b'ctually win th', b'is match, the ', b'excitement and', b' tension in th', b'e arena reache', b'd fever pitch,', b' and the daddi', b'es on the side', b'line (Gerry Cr', b'oghan & Con No', b'lan) riled up ', b'the crowd, abl', b'y assisted by ', b'vice-principal', b' Margaret Burk', b'e. However, St', b' Leo\\xe2\\x80\\x99s final', b'ly realised th', b'at it was stil', b'l all to play ', b'for and once a', b'gain their def', b'ence, led by S', b'inead Ruth, be', b'came near-impo', b'ssible to brea', b'k down. Edel N', b'olan made thre', b'e excellent sp', b'ikes in a row ', b'only to find e', b'ach and every ', b'one returned. ', b'Long rallies d', b'efined the 5th', b' and final set', b' (first to 15 ', b'points but the', b' team must win', b' by 2 points) ', b'and every time', b' Claremorris i', b'nched ahead St', b' Leo\\xe2\\x80\\x99s reele', b'd them in agai', b'n. Finally, ho', b'wever, they re', b'ached 14 \\xe2\\x80\\x93 1', b'3 and faced th', b'eir first matc', b'h point. Sinea', b'd Croghan, who', b'se strength wa', b's such a defin', b'ing feature of', b' her play up t', b'o this point, ', b'unfortunately ', b'hit the serve ', b'long and it wa', b's back to stal', b'emate. Two mor', b'e match points', b' followed, but', b' Mount St Mich', b'ael couldn\\xe2\\x80\\x99t', b' seem to finis', b'h Leo\\xe2\\x80\\x99s off.', b' At last, with', b' 2 sets all an', b'd 17-16 on the', b' scoreboard, N', b'ikki Hanley se', b'rved, raced fo', b'rward to set t', b'he ball and Ed', b'el Nolan spike', b'd the girls to', b' the sweetest ', b'victory of the', b'ir lives. No w', b'onder, then, s', b'he was named M', b'ost Valuable P', b'layer of the m', b'atch.Victory s', b'eemed unlikely', b'. Mount Saint ', b'Michael were t', b'wo sets down a', b'nd St. Leo\\xe2\\x80\\x99s', b' certainly had', b' the upper han', b'd in the third', b' set, dominati', b'ng 9 points to', b' 2. Each time ', b'St. Leo\\xe2\\x80\\x99s sc', b'ored, they pou', b'nded the groun', b'd in unison, f', b'urther intimid', b'ating an alrea', b'dy shaky Clare', b'morris team. S', b'o how, in thes', b'e circumstance', b's, did they sn', b'atch victory f', b'rom the jaws o', b'f almost certa', b'in defeat?\\r\\n\\r\\n', b'The first set ', b'seemed to sugg', b'est two teams ', b'who were equal', b'ly matched. Mi', b'chael\\xe2\\x80\\x99s foug', b'ht point for p', b'oint against a', b' Leo\\xe2\\x80\\x99s team ', b'whose defence ', b'was almost imp', b'enetrable, yet', b' Edel Nolan ma', b'naged to hit h', b'ome some impre', b'ssive spikes. ', b'However, as th', b'e set drew to ', b'a close, they ', b'found themselv', b'es unable to f', b'inish the job ', b'and St Leo\\xe2\\x80\\x99s', b' stormed into ', b'the second set', b' with a 25-22 ', b'win in the fir', b'st set under t', b'heir belt.\\r\\n\\r\\n', b'This is where ', b'it all went wr', b'ong for Clarem', b'orris. Having ', b'lost the first', b' set, their ne', b'rves took over', b' and their dif', b'ficulty settli', b'ng into the ma', b'tch was eviden', b't in a plethor', b'a of unforced ', b'errors, despit', b'e excellent po', b'sitioning by N', b'ikki Hanley an', b'd impact subst', b'itutions by Li', b'sa McGreal and', b' Jackie Prende', b'rgast. They lo', b'st the second ', b'set 25-19 and ', b'hope began to ', b'fade for their', b' 200+ supporte', b'rs.\\r\\n\\r\\nThe thi', b'rd set began i', b'n similar fash', b'ion but sensin', b'g that they no', b'w had nothing ', b'to lose \\xe2\\x80\\x93 ex', b'cept of course', b' the All-Irela', b'nd Title \\xe2\\x80\\x93 t', b'he team lifted', b' their game tr', b'emendously, ai', b'ded by the now', b' deafening cri', b'es of their de', b'sperate suppor', b'ters, led by L', b'isa Brett and ', b'Chloe Hughes. ', b'Strategic use ', b'of time outs b', b'y coach Fionng', b'huala King saw', b' the girls fin', b'ally settle in', b'to the match. ', b'She no doubt r', b'eminded them o', b'f their team m', b'antra \\xe2\\x80\\x93 no m', b'atter how badl', b'y things seem ', b'to be going \\xe2\\x80', b'\\x98don\\xe2\\x80\\x99t lose ', b'your marbles\\xe2\\x80', b'\\x99. Stephanie M', b'ellet had a gr', b'eat run of ser', b'ves and made a', b' stunning save', b' at this cruci', b'al point in th', b'e set. Aisling', b' Croghan made ', b'some unbelieva', b'ble hits from ', b'the wings and ', b'Edel Nolan sho', b'ne as the driv', b'ing force behi', b'nd Mount St Mi', b'chael\\xe2\\x80\\x99s incr', b'edible comebac', b'k. They won th', b'e third set 25', b'-16 and St Leo', b'\\xe2\\x80\\x99s game bega', b'n to fall apar', b't.\\r\\n\\r\\nA fear o', b'f losing now d', b'efined their p', b'lay, and they ', b'frequently onl', b'y used two of ', b'their three hi', b'ts, eager to s', b'imply get the ', b'ball across th', b'e net. Meanwhi', b'le, Claremorri', b's grew in conf', b'idence, scorin', b'g a resounding', b' victory in th', b'e fourth set 2', b'5-13.\\r\\n\\r\\nAs it', b' finally dawne', b'd that Claremo', b'rris could act', b'ually win this', b' match, the ex', b'citement and t', b'ension in the ', b'arena reached ', b'fever pitch, a', b'nd the daddies', b' on the sideli', b'ne (Gerry Crog', b'han & Con Nola', b'n) riled up th', b'e crowd, ably ', b'assisted by vi', b'ce-principal M', b'argaret Burke.', b' However, St L', b'eo\\xe2\\x80\\x99s finally', b' realised that', b' it was still ', b'all to play fo', b'r and once aga', b'in their defen', b'ce, led by Sin', b'ead Ruth, beca', b'me near-imposs', b'ible to break ', b'down. Edel Nol', b'an made three ', b'excellent spik', b'es in a row on', b'ly to find eac', b'h and every on', b'e returned. Lo', b'ng rallies def', b'ined the 5th a', b'nd final set (', b'first to 15 po', b'ints but the t', b'eam must win b', b'y 2 points) an', b'd every time C', b'laremorris inc', b'hed ahead St L', b'eo\\xe2\\x80\\x99s reeled ', b'them in again.', b' Finally, howe', b'ver, they reac', b'hed 14 \\xe2\\x80\\x93 13 ', b'and faced thei', b'r first match ', b'point. Sinead ', b'Croghan, whose', b' strength was ', b'such a definin', b'g feature of h', b'er play up to ', b'this point, un', b'fortunately hi', b't the serve lo', b'ng and it was ', b'back to stalem', b'ate. Two more ', b'match points f', b'ollowed, but M', b'ount St Michae', b'l couldn\\xe2\\x80\\x99t s', b'eem to finish ', b'Leo\\xe2\\x80\\x99s off. A', b't last, with 2', b' sets all and ', b'17-16 on the s', b'coreboard, Nik', b'ki Hanley serv', b'ed, raced forw', b'ard to set the', b' ball and Edel', b' Nolan spiked ', b'the girls to t', b'he sweetest vi', b'ctory of their', b' lives. No won', b'der, then, she', b' was named Mos', b't Valuable Pla', b'yer of the mat', b'ch.Victory see', b'med unlikely. ', b'Mount Saint Mi', b'chael were two', b' sets down and', b' St. Leo\\xe2\\x80\\x99s c', b'ertainly had t', b'he upper hand ', b'in the third s', b'et, dominating', b' 9 points to 2', b'. Each time St', b'. Leo\\xe2\\x80\\x99s scor', b'ed, they pound', b'ed the ground ', b'in unison, fur', b'ther intimidat', b'ing an already', b' shaky Claremo', b'rris team. So ', b'how, in these ', b'circumstances,', b' did they snat', b'ch victory fro', b'm the jaws of ', b'almost certain', b' defeat?\\r\\n\\r\\nTh', b'e first set se', b'emed to sugges', b't two teams wh', b'o were equally', b' matched. Mich', b'ael\\xe2\\x80\\x99s fought', b' point for poi', b'nt against a L', b'eo\\xe2\\x80\\x99s team wh', b'ose defence wa', b's almost impen', b'etrable, yet E', b'del Nolan mana', b'ged to hit hom', b'e some impress', b'ive spikes. Ho', b'wever, as the ', b'set drew to a ', b'close, they fo', b'und themselves', b' unable to fin', b'ish the job an', b'd St Leo\\xe2\\x80\\x99s s', b'tormed into th', b'e second set w', b'ith a 25-22 wi', b'n in the first', b' set under the', b'ir belt.\\r\\n\\r\\nTh', b'is is where it', b' all went wron', b'g for Claremor', b'ris. Having lo', b'st the first s', b'et, their nerv', b'es took over a', b'nd their diffi', b'culty settling', b' into the matc', b'h was evident ', b'in a plethora ', b'of unforced er', b'rors, despite ', b'excellent posi', b'tioning by Nik', b'ki Hanley and ', b'impact substit', b'utions by Lisa', b' McGreal and J', b'ackie Prenderg', b'ast. They lost', b' the second se', b't 25-19 and ho', b'pe began to fa', b'de for their 2', b'00+ supporters', b'.\\r\\n\\r\\nThe third', b' set began in ', b'similar fashio', b'n but sensing ', b'that they now ', b'had nothing to', b' lose \\xe2\\x80\\x93 exce', b'pt of course t', b'he All-Ireland', b' Title \\xe2\\x80\\x93 the', b' team lifted t', b'heir game trem', b'endously, aide', b'd by the now d', b'eafening cries', b' of their desp', b'erate supporte', b'rs, led by Lis', b'a Brett and Ch', b'loe Hughes. St', b'rategic use of', b' time outs by ', b'coach Fionnghu', b'ala King saw t', b'he girls final', b'ly settle into', b' the match. Sh', b'e no doubt rem', b'inded them of ', b'their team man', b'tra \\xe2\\x80\\x93 no mat', b'ter how badly ', b'things seem to', b' be going \\xe2\\x80\\x98d', b'on\\xe2\\x80\\x99t lose yo', b'ur marbles\\xe2\\x80\\x99.', b' Stephanie Mel', b'let had a grea', b't run of serve', b's and made a s', b'tunning save a', b't this crucial', b' point in the ', b'set. Aisling C', b'roghan made so', b'me unbelievabl', b'e hits from th', b'e wings and Ed', b'el Nolan shone', b' as the drivin', b'g force behind', b' Mount St Mich', b'ael\\xe2\\x80\\x99s incred', b'ible comeback.', b' They won the ', b'third set 25-1', b'6 and St Leo\\xe2\\x80', b'\\x99s game began ', b'to fall apart.', b'\\r\\n\\r\\nA fear of ', b'losing now def', b'ined their pla', b'y, and they fr', b'equently only ', b'used two of th', b'eir three hits', b', eager to sim', b'ply get the ba', b'll across the ', b'net. Meanwhile', b', Claremorris ', b'grew in confid', b'ence, scoring ', b'a resounding v', b'ictory in the ', b'fourth set 25-', b'13.\\r\\n\\r\\nThe fir', b'st set seemed ', b'to suggest two', b' teams who wer', b'e equally matc', b'hed. Michael\\xe2\\x80', b'\\x99s fought poin', b't for point ag', b'ainst a Leo\\xe2\\x80\\x99', b's team whose d', b'efence was alm', b'ost impenetrab', b'le, yet Edel N', b'olan managed t', b'o hit home som', b'e impressive s', b'pikes. However', b', as the set d', b'rew to a close', b', they found t', b'hemselves unab', b'le to finish t', b'he job and St ', b'Leo\\xe2\\x80\\x99s storme', b'd into the sec', b'ond set with a', b' 25-22 win in ', b'the first set ', b'under their be', b'lt.\\r\\nThe first', b' set seemed to', b' suggest two t', b'eams who were ', b'equally matche', b'd. Michael\\xe2\\x80\\x99s', b' fought point ', b'for point agai', b'nst a Leo\\xe2\\x80\\x99s ', b'team whose def', b'ence was almos', b't impenetrable', b', yet Edel Nol', b'an managed to ', b'hit home some ', b'impressive spi', b'kes. However, ', b'as the set dre', b'w to a close, ', b'they found the', b'mselves unable', b' to finish the', b' job and St Le', b'o\\xe2\\x80\\x99s stormed ', b'into the secon', b'd set with a 2', b'5-22 win in th', b'e first set un', b'der their belt', b'.\\r\\n\\r\\nThe first', b' set seemed to', b' suggest two t', b'eams who were ', b'equally matche', b'd. Michael\\xe2\\x80\\x99s', b' fought point ', b'for point agai', b'nst a Leo\\xe2\\x80\\x99s ', b'team whose def', b'ence was almos', b't impenetrable', b', yet Edel Nol', b'an managed to ', b'hit home some ', b'impressive spi', b'kes. However, ', b'as the set dre', b'w to a close, ', b'they found the', b'mselves unable', b' to finish the', b' job and St Le', b'o\\xe2\\x80\\x99s stormed ', b'into the secon', b'd set with a 2', b'5-22 win in th', b'e first set un', b'der their belt', b'.\\r\\n\\r\\nThis is w', b'here it all we', b'nt wrong for C', b'laremorris. Ha', b'ving lost the ', b'first set, the', b'ir nerves took', b' over and thei', b'r difficulty s', b'ettling into t', b'he match was e', b'vident in a pl', b'ethora of unfo', b'rced errors, d', b'espite excelle', b'nt positioning', b' by Nikki Hanl', b'ey and impact ', b'substitutions ', b'by Lisa McGrea', b'l and Jackie P', b'rendergast. Th', b'ey lost the se', b'cond set 25-19', b' and hope bega', b'n to fade for ', b'their 200+ sup', b'porters.\\r\\n\\r\\nTh', b'e third set be', b'gan in similar', b' fashion but s', b'ensing that th', b'ey now had not', b'hing to lose \\xe2', b'\\x80\\x93 except of c', b'ourse the All-', b'Ireland Title ', b'\\xe2\\x80\\x93 the team l', b'ifted their ga', b'me tremendousl', b'y, aided by th', b'e now deafenin', b'g cries of the', b'ir desperate s', b'upporters, led', b' by Lisa Brett', b' and Chloe Hug', b'hes. Strategic', b' use of time o', b'uts by coach F', b'ionnghuala Kin', b'g saw the girl', b's finally sett', b'le into the ma', b'tch. She no do', b'ubt reminded t', b'hem of their t', b'eam mantra \\xe2\\x80\\x93', b' no matter how', b' badly things ', b'seem to be goi', b'ng \\xe2\\x80\\x98don\\xe2\\x80\\x99t ', b'lose your marb', b'les\\xe2\\x80\\x99. Stepha', b'nie Mellet had', b' a great run o', b'f serves and m', b'ade a stunning', b' save at this ', b'crucial point ', b'in the set. Ai', b'sling Croghan ', b'made some unbe', b'lievable hits ', b'from the wings', b' and Edel Nola', b'n shone as the', b' driving force', b' behind Mount ', b'St Michael\\xe2\\x80\\x99s', b' incredible co', b'meback. They w', b'on the third s', b'et 25-16 and S', b't Leo\\xe2\\x80\\x99s game', b' began to fall', b' apart.\\r\\n\\r\\nA f', b'ear of losing ', b'now defined th', b'eir play, and ', b'they frequentl', b'y only used tw', b'o of their thr', b'ee hits, eager', b' to simply get', b' the ball acro', b'ss the net. Me', b'anwhile, Clare', b'morris grew in', b' confidence, s', b'coring a resou', b'nding victory ', b'in the fourth ', b'set 25-13.\\r\\n\\r\\n', b'As it finally ', b'dawned that Cl', b'aremorris coul', b'd actually win', b' this match, t', b'he excitement ', b'and tension in', b' the arena rea', b'ched fever pit', b'ch, and the da', b'ddies on the s', b'ideline (Gerry', b' Croghan & Con', b' Nolan) riled ', b'up the crowd, ', b'ably assisted ', b'by vice-princi', b'pal Margaret B', b'urke. However,', b' St Leo\\xe2\\x80\\x99s fi', b'nally realised', b' that it was s', b'till all to pl', b'ay for and onc', b'e again their ', b'defence, led b', b'y Sinead Ruth,', b' became near-i', b'mpossible to b', b'reak down. Ede', b'l Nolan made t', b'hree excellent', b' spikes in a r', b'ow only to fin', b'd each and eve', b'ry one returne', b'd. Long rallie', b's defined the ', b'5th and final ', b'set (first to ', b'15 points but ', b'the team must ', b'win by 2 point', b's) and every t', b'ime Claremorri', b's inched ahead', b' St Leo\\xe2\\x80\\x99s re', b'eled them in a', b'gain. Finally,', b' however, they', b' reached 14 \\xe2\\x80', b'\\x93 13 and faced', b' their first m', b'atch point. Si', b'nead Croghan, ', b'whose strength', b' was such a de', b'fining feature', b' of her play u', b'p to this poin', b't, unfortunate', b'ly hit the ser', b've long and it', b' was back to s', b'talemate. Two ', b'more match poi', b'nts followed, ', b'but Mount St M', b'ichael couldn\\xe2', b'\\x80\\x99t seem to fi', b'nish Leo\\xe2\\x80\\x99s o', b'ff. At last, w', b'ith 2 sets all', b' and 17-16 on ', b'the scoreboard', b', Nikki Hanley', b' served, raced', b' forward to se', b't the ball and', b' Edel Nolan sp', b'iked the girls', b' to the sweete', b'st victory of ', b'their lives. N', b'o wonder, then', b', she was name', b'd Most Valuabl', b'e Player of th', b'e match.Victor', b'y seemed unlik', b'ely. Mount Sai', b'nt Michael wer', b'e two sets dow', b'n and St. Leo\\xe2', b'\\x80\\x99s certainly ', b'had the upper ', b'hand in the th', b'ird set, domin', b'ating 9 points', b' to 2. Each ti', b'me St. Leo\\xe2\\x80\\x99s', b' scored, they ', b'pounded the gr', b'ound in unison', b', further inti', b'midating an al', b'ready shaky Cl', b'aremorris team', b'. So how, in t', b'hese circumsta', b'nces, did they', b' snatch victor', b'y from the jaw', b's of almost ce', b'rtain defeat?\\r', b'\\n\\r\\nThe first s', b'et seemed to s', b'uggest two tea', b'ms who were eq', b'ually matched.', b' Michael\\xe2\\x80\\x99s f', b'ought point fo', b'r point agains', b't a Leo\\xe2\\x80\\x99s te', b'am whose defen', b'ce was almost ', b'impenetrable, ', b'yet Edel Nolan', b' managed to hi', b't home some im', b'pressive spike', b's. However, as', b' the set drew ', b'to a close, th', b'ey found thems', b'elves unable t', b'o finish the j', b'ob and St Leo\\xe2', b'\\x80\\x99s stormed in', b'to the second ', b'set with a 25-', b'22 win in the ', b'first set unde', b'r their belt.\\r', b'\\n\\r\\nThis is whe', b're it all went', b' wrong for Cla', b'remorris. Havi', b'ng lost the fi', b'rst set, their', b' nerves took o', b'ver and their ', b'difficulty set', b'tling into the', b' match was evi', b'dent in a plet', b'hora of unforc', b'ed errors, des', b'pite excellent', b' positioning b', b'y Nikki Hanley', b' and impact su', b'bstitutions by', b' Lisa McGreal ', b'and Jackie Pre', b'ndergast. They', b' lost the seco', b'nd set 25-19 a', b'nd hope began ', b'to fade for th', b'eir 200+ suppo', b'rters.\\r\\n\\r\\nThe ', b'third set bega', b'n in similar f', b'ashion but sen', b'sing that they', b' now had nothi', b'ng to lose \\xe2\\x80\\x93', b' except of cou', b'rse the All-Ir', b'eland Title \\xe2\\x80', b'\\x93 the team lif', b'ted their game', b' tremendously,', b' aided by the ', b'now deafening ', b'cries of their', b' desperate sup', b'porters, led b', b'y Lisa Brett a', b'nd Chloe Hughe', b's. Strategic u', b'se of time out', b's by coach Fio', b'nnghuala King ', b'saw the girls ', b'finally settle', b' into the matc', b'h. She no doub', b't reminded the', b'm of their tea', b'm mantra \\xe2\\x80\\x93 n', b'o matter how b', b'adly things se', b'em to be going', b' \\xe2\\x80\\x98don\\xe2\\x80\\x99t lo', b'se your marble', b's\\xe2\\x80\\x99. Stephani', b'e Mellet had a', b' great run of ', b'serves and mad', b'e a stunning s', b'ave at this cr', b'ucial point in', b' the set. Aisl', b'ing Croghan ma', b'de some unbeli', b'evable hits fr', b'om the wings a', b'nd Edel Nolan ', b'shone as the d', b'riving force b', b'ehind Mount St', b' Michael\\xe2\\x80\\x99s i', b'ncredible come', b'back. They won', b' the third set', b' 25-16 and St ', b'Leo\\xe2\\x80\\x99s game b', b'egan to fall a', b'part.\\r\\n\\r\\nA fea', b'r of losing no', b'w defined thei', b'r play, and th', b'ey frequently ', b'only used two ', b'of their three', b' hits, eager t', b'o simply get t', b'he ball across', b' the net. Mean', b'while, Claremo', b'rris grew in c', b'onfidence, sco', b'ring a resound', b'ing victory in', b' the fourth se', b't 25-13.\\r\\n\\r\\nAs', b' it finally da', b'wned that Clar', b'emorris could ', b'actually win t', b'his match, the', b' excitement an', b'd tension in t', b'he arena reach', b'ed fever pitch', b', and the dadd', b'ies on the sid', b'eline (Gerry C', b'roghan & Con N', b'olan) riled up', b' the crowd, ab', b'ly assisted by', b' vice-principa', b'l Margaret Bur', b'ke. However, S', b't Leo\\xe2\\x80\\x99s fina', b'lly realised t', b'hat it was sti', b'll all to play', b' for and once ', b'again their de', b'fence, led by ', b'Sinead Ruth, b', b'ecame near-imp', b'ossible to bre', b'ak down. Edel ', b'Nolan made thr', b'ee excellent s', b'pikes in a row', b' only to find ', b'each and every', b' one returned.', b' Long rallies ', b'defined the 5t', b'h and final se', b't (first to 15', b' points but th', b'e team must wi', b'n by 2 points)', b' and every tim', b'e Claremorris ', b'inched ahead S', b't Leo\\xe2\\x80\\x99s reel', b'ed them in aga', b'in. Finally, h', b'owever, they r', b'eached 14 \\xe2\\x80\\x93 ', b'13 and faced t', b'heir first mat', b'ch point. Sine', b'ad Croghan, wh', b'ose strength w', b'as such a defi', b'ning feature o', b'f her play up ', b'to this point,', b' unfortunately', b' hit the serve', b' long and it w', b'as back to sta', b'lemate. Two mo', b're match point', b's followed, bu', b't Mount St Mic', b'hael couldn\\xe2\\x80\\x99', b't seem to fini', b'sh Leo\\xe2\\x80\\x99s off', b'. At last, wit', b'h 2 sets all a', b'nd 17-16 on th', b'e scoreboard, ', b'Nikki Hanley s', b'erved, raced f', b'orward to set ', b'the ball and E', b'del Nolan spik', b'ed the girls t', b'o the sweetest', b' victory of th', b'eir lives. No ', b'wonder, then, ', b'she was named ', b'Most Valuable ', b'Player of the ', b'match.Victory ', b'seemed unlikel', b'y. Mount Saint', b' Michael were ', b'two sets down ', b'and St. Leo\\xe2\\x80\\x99', b's certainly ha', b'd the upper ha', b'nd in the thir', b'd set, dominat', b'ing 9 points t', b'o 2. Each time', b' St. Leo\\xe2\\x80\\x99s s', b'cored, they po', b'unded the grou', b'nd in unison, ', b'further intimi', b'dating an alre', b'ady shaky Clar', b'emorris team. ', b'So how, in the', b'se circumstanc', b'es, did they s', b'natch victory ', b'from the jaws ', b'of almost cert', b'ain defeat?\\r\\n\\r', b'\\nThe first set', b' seemed to sug', b'gest two teams', b' who were equa', b'lly matched. M', b'ichael\\xe2\\x80\\x99s fou', b'ght point for ', b'point against ', b'a Leo\\xe2\\x80\\x99s team', b' whose defence', b' was almost im', b'penetrable, ye', b't Edel Nolan m', b'anaged to hit ', b'home some impr', b'essive spikes.', b' However, as t', b'he set drew to', b' a close, they', b' found themsel', b'ves unable to ', b'finish the job', b' and St Leo\\xe2\\x80\\x99', b's stormed into', b' the second se', b't with a 25-22', b' win in the fi', b'rst set under ', b'their belt.\\r\\n\\r', b'\\nThis is where', b' it all went w', b'rong for Clare', b'morris. Having', b' lost the firs', b't set, their n', b'erves took ove', b'r and their di', b'fficulty settl', b'ing into the m', b'atch was evide', b'nt in a pletho', b'ra of unforced', b' errors, despi', b'te excellent p', b'ositioning by ', b'Nikki Hanley a', b'nd impact subs', b'titutions by L', b'isa McGreal an', b'd Jackie Prend', b'ergast. They l', b'ost the second', b' set 25-19 and', b' hope began to', b' fade for thei', b'r 200+ support', b'ers.\\r\\n\\r\\nThe th', b'ird set began ', b'in similar fas', b'hion but sensi', b'ng that they n', b'ow had nothing', b' to lose \\xe2\\x80\\x93 e', b'xcept of cours', b'e the All-Irel', b'and Title \\xe2\\x80\\x93 ', b'the team lifte', b'd their game t', b'remendously, a', b'ided by the no', b'w deafening cr', b'ies of their d', b'esperate suppo', b'rters, led by ', b'Lisa Brett and', b' Chloe Hughes.', b' Strategic use', b' of time outs ', b'by coach Fionn', b'ghuala King sa', b'w the girls fi', b'nally settle i', b'nto the match.', b' She no doubt ', b'reminded them ', b'of their team ', b'mantra \\xe2\\x80\\x93 no ', b'matter how bad', b'ly things seem', b' to be going \\xe2', b'\\x80\\x98don\\xe2\\x80\\x99t lose', b' your marbles\\xe2', b'\\x80\\x99. Stephanie ', b'Mellet had a g', b'reat run of se', b'rves and made ', b'a stunning sav', b'e at this cruc', b'ial point in t', b'he set. Aislin', b'g Croghan made', b' some unbeliev', b'able hits from', b' the wings and', b' Edel Nolan sh', b'one as the dri', b'ving force beh', b'ind Mount St M', b'ichael\\xe2\\x80\\x99s inc', b'redible comeba', b'ck. They won t', b'he third set 2', b'5-16 and St Le', b'o\\xe2\\x80\\x99s game beg', b'an to fall apa', b'rt.\\r\\n\\r\\nA fear ', b'of losing now ', b'defined their ', b'play, and they', b' frequently on', b'ly used two of', b' their three h', b'its, eager to ', b'simply get the', b' ball across t', b'he net. Meanwh', b'ile, Claremorr', b'is grew in con', b'fidence, scori', b'ng a resoundin', b'g victory in t', b'he fourth set ', b'25-13.\\r\\n\\r\\nThe ', b'first set seem', b'ed to suggest ', b'two teams who ', b'were equally m', b'atched. Michae', b'l\\xe2\\x80\\x99s fought p', b'oint for point', b' against a Leo', b'\\xe2\\x80\\x99s team whos', b'e defence was ', b'almost impenet', b'rable, yet Ede', b'l Nolan manage', b'd to hit home ', b'some impressiv', b'e spikes. Howe', b'ver, as the se', b't drew to a cl', b'ose, they foun', b'd themselves u', b'nable to finis', b'h the job and ', b'St Leo\\xe2\\x80\\x99s sto', b'rmed into the ', b'second set wit', b'h a 25-22 win ', b'in the first s', b'et under their', b' belt.\\r\\nThe fi', b'rst set seemed', b' to suggest tw', b'o teams who we', b're equally mat', b'ched. Michael\\xe2', b'\\x80\\x99s fought poi', b'nt for point a', b'gainst a Leo\\xe2\\x80', b'\\x99s team whose ', b'defence was al', b'most impenetra', b'ble, yet Edel ', b'Nolan managed ', b'to hit home so', b'me impressive ', b'spikes. Howeve', b'r, as the set ', b'drew to a clos', b'e, they found ', b'themselves una', b'ble to finish ', b'the job and St', b' Leo\\xe2\\x80\\x99s storm', b'ed into the se', b'cond set with ', b'a 25-22 win in', b' the first set', b' under their b', b'elt.\\r\\n\\r\\nThe fi', b'rst set seemed', b' to suggest tw', b'o teams who we', b're equally mat', b'ched. Michael\\xe2', b'\\x80\\x99s fought poi', b'nt for point a', b'gainst a Leo\\xe2\\x80', b'\\x99s team whose ', b'defence was al', b'most impenetra', b'ble, yet Edel ', b'Nolan managed ', b'to hit home so', b'me impressive ', b'spikes. Howeve', b'r, as the set ', b'drew to a clos', b'e, they found ', b'themselves una', b'ble to finish ', b'the job and St', b' Leo\\xe2\\x80\\x99s storm', b'ed into the se', b'cond set with ', b'a 25-22 win in', b' the first set', b' under their b', b'elt.\\r\\n\\r\\nThis i', b's where it all', b' went wrong fo', b'r Claremorris.', b' Having lost t', b'he first set, ', b'their nerves t', b'ook over and t', b'heir difficult', b'y settling int', b'o the match wa', b's evident in a', b' plethora of u', b'nforced errors', b', despite exce', b'llent position', b'ing by Nikki H', b'anley and impa', b'ct substitutio', b'ns by Lisa McG', b'real and Jacki', b'e Prendergast.', b' They lost the', b' second set 25', b'-19 and hope b', b'egan to fade f', b'or their 200+ ', b'supporters.\\r\\n\\r', b'\\nThe third set', b' began in simi', b'lar fashion bu', b't sensing that', b' they now had ', b'nothing to los', b'e \\xe2\\x80\\x93 except o', b'f course the A', b'll-Ireland Tit', b'le \\xe2\\x80\\x93 the tea', b'm lifted their', b' game tremendo', b'usly, aided by', b' the now deafe', b'ning cries of ', b'their desperat', b'e supporters, ', b'led by Lisa Br', b'ett and Chloe ', b'Hughes. Strate', b'gic use of tim', b'e outs by coac', b'h Fionnghuala ', b'King saw the g', b'irls finally s', b'ettle into the', b' match. She no', b' doubt reminde', b'd them of thei', b'r team mantra ', b'\\xe2\\x80\\x93 no matter ', b'how badly thin', b'gs seem to be ', b'going \\xe2\\x80\\x98don\\xe2\\x80', b'\\x99t lose your m', b'arbles\\xe2\\x80\\x99. Ste', b'phanie Mellet ', b'had a great ru', b'n of serves an', b'd made a stunn', b'ing save at th', b'is crucial poi', b'nt in the set.', b' Aisling Crogh', b'an made some u', b'nbelievable hi', b'ts from the wi', b'ngs and Edel N', b'olan shone as ', b'the driving fo', b'rce behind Mou', b'nt St Michael\\xe2', b'\\x80\\x99s incredible', b' comeback. The', b'y won the thir', b'd set 25-16 an', b'd St Leo\\xe2\\x80\\x99s g', b'ame began to f', b'all apart.\\r\\n\\r\\n', b'A fear of losi', b'ng now defined', b' their play, a', b'nd they freque', b'ntly only used', b' two of their ', b'three hits, ea', b'ger to simply ', b'get the ball a', b'cross the net.', b' Meanwhile, Cl', b'aremorris grew', b' in confidence', b', scoring a re', b'sounding victo', b'ry in the four', b'th set 25-13.\\r', b'\\n\\r\\nAs it final', b'ly dawned that', b' Claremorris c', b'ould actually ', b'win this match', b', the exciteme', b'nt and tension', b' in the arena ', b'reached fever ', b'pitch, and the', b' daddies on th', b'e sideline (Ge', b'rry Croghan & ', b'Con Nolan) ril', b'ed up the crow', b'd, ably assist', b'ed by vice-pri', b'ncipal Margare', b't Burke. Howev', b'er, St Leo\\xe2\\x80\\x99s', b' finally reali', b'sed that it wa', b's still all to', b' play for and ', b'once again the', b'ir defence, le', b'd by Sinead Ru', b'th, became nea', b'r-impossible t', b'o break down. ', b'Edel Nolan mad', b'e three excell', b'ent spikes in ', b'a row only to ', b'find each and ', b'every one retu', b'rned. Long ral', b'lies defined t', b'he 5th and fin', b'al set (first ', b'to 15 points b', b'ut the team mu', b'st win by 2 po', b'ints) and ever', b'y time Claremo', b'rris inched ah', b'ead St Leo\\xe2\\x80\\x99s', b' reeled them i', b'n again. Final', b'ly, however, t', b'hey reached 14', b' \\xe2\\x80\\x93 13 and fa', b'ced their firs', b't match point.', b' Sinead Crogha', b'n, whose stren', b'gth was such a', b' defining feat', b'ure of her pla', b'y up to this p', b'oint, unfortun', b'ately hit the ', b'serve long and', b' it was back t', b'o stalemate. T', b'wo more match ', b'points followe', b'd, but Mount S', b't Michael coul', b'dn\\xe2\\x80\\x99t seem to', b' finish Leo\\xe2\\x80\\x99', b's off. At last', b', with 2 sets ', b'all and 17-16 ', b'on the scorebo', b'ard, Nikki Han', b'ley served, ra', b'ced forward to', b' set the ball ', b'and Edel Nolan', b' spiked the gi', b'rls to the swe', b'etest victory ', b'of their lives', b'. No wonder, t', b'hen, she was n', b'amed Most Valu', b'able Player of', b' the match.Vic', b'tory seemed un', b'likely. Mount ', b'Saint Michael ', b'were two sets ', b'down and St. L', b'eo\\xe2\\x80\\x99s certain', b'ly had the upp', b'er hand in the', b' third set, do', b'minating 9 poi', b'nts to 2. Each', b' time St. Leo\\xe2', b'\\x80\\x99s scored, th', b'ey pounded the', b' ground in uni', b'son, further i', b'ntimidating an', b' already shaky', b' Claremorris t', b'eam. So how, i', b'n these circum', b'stances, did t', b'hey snatch vic', b'tory from the ', b'jaws of almost', b' certain defea', b't?\\r\\n\\r\\nThe firs', b't set seemed t', b'o suggest two ', b'teams who were', b' equally match', b'ed. Michael\\xe2\\x80\\x99', b's fought point', b' for point aga', b'inst a Leo\\xe2\\x80\\x99s', b' team whose de', b'fence was almo', b'st impenetrabl', b'e, yet Edel No', b'lan managed to', b' hit home some', b' impressive sp', b'ikes. However,', b' as the set dr', b'ew to a close,', b' they found th', b'emselves unabl', b'e to finish th', b'e job and St L', b'eo\\xe2\\x80\\x99s stormed', b' into the seco', b'nd set with a ', b'25-22 win in t', b'he first set u', b'nder their bel', b't.\\r\\n\\r\\nThis is ', b'where it all w', b'ent wrong for ', b'Claremorris. H', b'aving lost the', b' first set, th', b'eir nerves too', b'k over and the', b'ir difficulty ', b'settling into ', b'the match was ', b'evident in a p', b'lethora of unf', b'orced errors, ', b'despite excell', b'ent positionin', b'g by Nikki Han', b'ley and impact', b' substitutions', b' by Lisa McGre', b'al and Jackie ', b'Prendergast. T', b'hey lost the s', b'econd set 25-1', b'9 and hope beg', b'an to fade for', b' their 200+ su', b'pporters.\\r\\n\\r\\nT', b'he third set b', b'egan in simila', b'r fashion but ', b'sensing that t', b'hey now had no', b'thing to lose ', b'\\xe2\\x80\\x93 except of ', b'course the All', b'-Ireland Title', b' \\xe2\\x80\\x93 the team ', b'lifted their g', b'ame tremendous', b'ly, aided by t', b'he now deafeni', b'ng cries of th', b'eir desperate ', b'supporters, le', b'd by Lisa Bret', b't and Chloe Hu', b'ghes. Strategi', b'c use of time ', b'outs by coach ', b'Fionnghuala Ki', b'ng saw the gir', b'ls finally set', b'tle into the m', b'atch. She no d', b'oubt reminded ', b'them of their ', b'team mantra \\xe2\\x80', b'\\x93 no matter ho', b'w badly things', b' seem to be go', b'ing \\xe2\\x80\\x98don\\xe2\\x80\\x99t', b' lose your mar', b'bles\\xe2\\x80\\x99. Steph', b'anie Mellet ha', b'd a great run ', b'of serves and ', b'made a stunnin', b'g save at this', b' crucial point', b' in the set. A', b'isling Croghan', b' made some unb', b'elievable hits', b' from the wing', b's and Edel Nol', b'an shone as th', b'e driving forc', b'e behind Mount', b' St Michael\\xe2\\x80\\x99', b's incredible c', b'omeback. They ', b'won the third ', b'set 25-16 and ', b'St Leo\\xe2\\x80\\x99s gam', b'e began to fal', b'l apart.\\r\\n\\r\\nA ', b'fear of losing', b' now defined t', b'heir play, and', b' they frequent', b'ly only used t', b'wo of their th', b'ree hits, eage', b'r to simply ge', b't the ball acr', b'oss the net. M', b'eanwhile, Clar', b'emorris grew i', b'n confidence, ', b'scoring a reso', b'unding victory', b' in the fourth', b' set 25-13.\\r\\n\\r', b'\\nAs it finally', b' dawned that C', b'laremorris cou', b'ld actually wi', b'n this match, ', b'the excitement', b' and tension i', b'n the arena re', b'ached fever pi', b'tch, and the d', b'addies on the ', b'sideline (Gerr', b'y Croghan & Co', b'n Nolan) riled', b' up the crowd,', b' ably assisted', b' by vice-princ', b'ipal Margaret ', b'Burke. However', b', St Leo\\xe2\\x80\\x99s f', b'inally realise', b'd that it was ', b'still all to p', b'lay for and on', b'ce again their', b' defence, led ', b'by Sinead Ruth', b', became near-', b'impossible to ', b'break down. Ed', b'el Nolan made ', b'three excellen', b't spikes in a ', b'row only to fi', b'nd each and ev', b'ery one return', b'ed. Long ralli', b'es defined the', b' 5th and final', b' set (first to', b' 15 points but', b' the team must', b' win by 2 poin', b'ts) and every ', b'time Claremorr', b'is inched ahea', b'd St Leo\\xe2\\x80\\x99s r', b'eeled them in ', b'again. Finally', b', however, the', b'y reached 14 \\xe2', b'\\x80\\x93 13 and face', b'd their first ', b'match point. S', b'inead Croghan,', b' whose strengt', b'h was such a d', b'efining featur', b'e of her play ', b'up to this poi', b'nt, unfortunat', b'ely hit the se', b'rve long and i', b't was back to ', b'stalemate. Two', b' more match po', b'ints followed,', b' but Mount St ', b'Michael couldn', b'\\xe2\\x80\\x99t seem to f', b'inish Leo\\xe2\\x80\\x99s ', b'off. At last, ', b'with 2 sets al', b'l and 17-16 on', b' the scoreboar', b'd, Nikki Hanle', b'y served, race', b'd forward to s', b'et the ball an', b'd Edel Nolan s', b'piked the girl', b's to the sweet', b'est victory of', b' their lives. ', b'No wonder, the', b'n, she was nam', b'ed Most Valuab', b'le Player of t', b'he match.Victo', b'ry seemed unli', b'kely. Mount Sa', b'int Michael we', b're two sets do', b'wn and St. Leo', b'\\xe2\\x80\\x99s certainly', b' had the upper', b' hand in the t', b'hird set, domi', b'nating 9 point', b's to 2. Each t', b'ime St. Leo\\xe2\\x80\\x99', b's scored, they', b' pounded the g', b'round in uniso', b'n, further int', b'imidating an a', b'lready shaky C', b'laremorris tea', b'm. So how, in ', b'these circumst', b'ances, did the', b'y snatch victo', b'ry from the ja', b'ws of almost c', b'ertain defeat?', b'\\r\\n\\r\\nThe first ', b'set seemed to ', b'suggest two te', b'ams who were e', b'qually matched', b'. Michael\\xe2\\x80\\x99s ', b'fought point f', b'or point again', b'st a Leo\\xe2\\x80\\x99s t', b'eam whose defe', b'nce was almost', b' impenetrable,', b' yet Edel Nola', b'n managed to h', b'it home some i', b'mpressive spik', b'es. However, a', b's the set drew', b' to a close, t', b'hey found them', b'selves unable ', b'to finish the ', b'job and St Leo', b'\\xe2\\x80\\x99s stormed i', b'nto the second', b' set with a 25', b'-22 win in the', b' first set und', b'er their belt.', b'\\r\\n\\r\\nThis is wh', b'ere it all wen', b't wrong for Cl', b'aremorris. Hav', b'ing lost the f', b'irst set, thei', b'r nerves took ', b'over and their', b' difficulty se', b'ttling into th', b'e match was ev', b'ident in a ple', b'thora of unfor', b'ced errors, de', b'spite excellen', b't positioning ', b'by Nikki Hanle', b'y and impact s', b'ubstitutions b', b'y Lisa McGreal', b' and Jackie Pr', b'endergast. The', b'y lost the sec', b'ond set 25-19 ', b'and hope began', b' to fade for t', b'heir 200+ supp', b'orters.\\r\\n\\r\\nThe', b' third set beg', b'an in similar ', b'fashion but se', b'nsing that the', b'y now had noth', b'ing to lose \\xe2\\x80', b'\\x93 except of co', b'urse the All-I', b'reland Title \\xe2', b'\\x80\\x93 the team li', b'fted their gam', b'e tremendously', b', aided by the', b' now deafening', b' cries of thei', b'r desperate su', b'pporters, led ', b'by Lisa Brett ', b'and Chloe Hugh', b'es. Strategic ', b'use of time ou', b'ts by coach Fi', b'onnghuala King', b' saw the girls', b' finally settl', b'e into the mat', b'ch. She no dou', b'bt reminded th', b'em of their te', b'am mantra \\xe2\\x80\\x93 ', b'no matter how ', b'badly things s', b'eem to be goin', b'g \\xe2\\x80\\x98don\\xe2\\x80\\x99t l', b'ose your marbl', b'es\\xe2\\x80\\x99. Stephan', b'ie Mellet had ', b'a great run of', b' serves and ma', b'de a stunning ', b'save at this c', b'rucial point i', b'n the set. Ais', b'ling Croghan m', b'ade some unbel', b'ievable hits f', b'rom the wings ', b'and Edel Nolan', b' shone as the ', b'driving force ', b'behind Mount S', b't Michael\\xe2\\x80\\x99s ', b'incredible com', b'eback. They wo', b'n the third se', b't 25-16 and St', b' Leo\\xe2\\x80\\x99s game ', b'began to fall ', b'apart.\\r\\n\\r\\nA fe', b'ar of losing n', b'ow defined the', b'ir play, and t', b'hey frequently', b' only used two', b' of their thre', b'e hits, eager ', b'to simply get ', b'the ball acros', b's the net. Mea', b'nwhile, Clarem', b'orris grew in ', b'confidence, sc', b'oring a resoun', b'ding victory i', b'n the fourth s', b'et 25-13.\\r\\n\\r\\nT', b'he first set s', b'eemed to sugge', b'st two teams w', b'ho were equall', b'y matched. Mic', b'hael\\xe2\\x80\\x99s fough', b't point for po', b'int against a ', b'Leo\\xe2\\x80\\x99s team w', b'hose defence w', b'as almost impe', b'netrable, yet ', b'Edel Nolan man', b'aged to hit ho', b'me some impres', b'sive spikes. H', b'owever, as the', b' set drew to a', b' close, they f', b'ound themselve', b's unable to fi', b'nish the job a', b'nd St Leo\\xe2\\x80\\x99s ', b'stormed into t', b'he second set ', b'with a 25-22 w', b'in in the firs', b't set under th', b'eir belt.\\r\\nThe', b' first set see', b'med to suggest', b' two teams who', b' were equally ', b'matched. Micha', b'el\\xe2\\x80\\x99s fought ', b'point for poin', b't against a Le', b'o\\xe2\\x80\\x99s team who', b'se defence was', b' almost impene', b'trable, yet Ed', b'el Nolan manag', b'ed to hit home', b' some impressi', b've spikes. How', b'ever, as the s', b'et drew to a c', b'lose, they fou', b'nd themselves ', b'unable to fini', b'sh the job and', b' St Leo\\xe2\\x80\\x99s st', b'ormed into the', b' second set wi', b'th a 25-22 win', b' in the first ', b'set under thei', b'r belt.\\r\\n\\r\\nThe', b' first set see', b'med to suggest', b' two teams who', b' were equally ', b'matched. Micha', b'el\\xe2\\x80\\x99s fought ', b'point for poin', b't against a Le', b'o\\xe2\\x80\\x99s team who', b'se defence was', b' almost impene', b'trable, yet Ed', b'el Nolan manag', b'ed to hit home', b' some impressi', b've spikes. How', b'ever, as the s', b'et drew to a c', b'lose, they fou', b'nd themselves ', b'unable to fini', b'sh the job and', b' St Leo\\xe2\\x80\\x99s st', b'ormed into the', b' second set wi', b'th a 25-22 win', b' in the first ', b'set under thei', b'r belt.\\r\\n\\r\\nThi', b's is where it ', b'all went wrong', b' for Claremorr', b'is. Having los', b't the first se', b't, their nerve', b's took over an', b'd their diffic', b'ulty settling ', b'into the match', b' was evident i', b'n a plethora o', b'f unforced err', b'ors, despite e', b'xcellent posit', b'ioning by Nikk', b'i Hanley and i', b'mpact substitu', b'tions by Lisa ', b'McGreal and Ja', b'ckie Prenderga', b'st. They lost ', b'the second set', b' 25-19 and hop', b'e began to fad', b'e for their 20', b'0+ supporters.', b'\\r\\n\\r\\nThe third ', b'set began in s', b'imilar fashion', b' but sensing t', b'hat they now h', b'ad nothing to ', b'lose \\xe2\\x80\\x93 excep', b't of course th', b'e All-Ireland ', b'Title \\xe2\\x80\\x93 the ', b'team lifted th', b'eir game treme', b'ndously, aided', b' by the now de', b'afening cries ', b'of their despe', b'rate supporter', b's, led by Lisa', b' Brett and Chl', b'oe Hughes. Str', b'ategic use of ', b'time outs by c', b'oach Fionnghua', b'la King saw th', b'e girls finall', b'y settle into ', b'the match. She', b' no doubt remi', b'nded them of t', b'heir team mant', b'ra \\xe2\\x80\\x93 no matt', b'er how badly t', b'hings seem to ', b'be going \\xe2\\x80\\x98do', b'n\\xe2\\x80\\x99t lose you', b'r marbles\\xe2\\x80\\x99. ', b'Stephanie Mell', b'et had a great', b' run of serves', b' and made a st', b'unning save at', b' this crucial ', b'point in the s', b'et. Aisling Cr', b'oghan made som', b'e unbelievable', b' hits from the', b' wings and Ede', b'l Nolan shone ', b'as the driving', b' force behind ', b'Mount St Micha', b'el\\xe2\\x80\\x99s incredi', b'ble comeback. ', b'They won the t', b'hird set 25-16', b' and St Leo\\xe2\\x80\\x99', b's game began t', b'o fall apart.\\r', b'\\n\\r\\nA fear of l', b'osing now defi', b'ned their play', b', and they fre', b'quently only u', b'sed two of the', b'ir three hits,', b' eager to simp', b'ly get the bal', b'l across the n', b'et. Meanwhile,', b' Claremorris g', b'rew in confide', b'nce, scoring a', b' resounding vi', b'ctory in the f', b'ourth set 25-1', b'3.\\r\\n\\r\\nAs it fi', b'nally dawned t', b'hat Claremorri', b's could actual', b'ly win this ma', b'tch, the excit', b'ement and tens', b'ion in the are', b'na reached fev', b'er pitch, and ', b'the daddies on', b' the sideline ', b'(Gerry Croghan', b' & Con Nolan) ', b'riled up the c', b'rowd, ably ass', b'isted by vice-', b'principal Marg', b'aret Burke. Ho', b'wever, St Leo\\xe2', b'\\x80\\x99s finally re', b'alised that it', b' was still all', b' to play for a', b'nd once again ', b'their defence,', b' led by Sinead', b' Ruth, became ', b'near-impossibl', b'e to break dow', b'n. Edel Nolan ', b'made three exc', b'ellent spikes ', b'in a row only ', b'to find each a', b'nd every one r', b'eturned. Long ', b'rallies define', b'd the 5th and ', b'final set (fir', b'st to 15 point', b's but the team', b' must win by 2', b' points) and e', b'very time Clar', b'emorris inched', b' ahead St Leo\\xe2', b'\\x80\\x99s reeled the', b'm in again. Fi', b'nally, however', b', they reached', b' 14 \\xe2\\x80\\x93 13 and', b' faced their f', b'irst match poi', b'nt. Sinead Cro', b'ghan, whose st', b'rength was suc', b'h a defining f', b'eature of her ', b'play up to thi', b's point, unfor', b'tunately hit t', b'he serve long ', b'and it was bac', b'k to stalemate', b'. Two more mat', b'ch points foll', b'owed, but Moun', b't St Michael c', b'ouldn\\xe2\\x80\\x99t seem', b' to finish Leo', b'\\xe2\\x80\\x99s off. At l', b'ast, with 2 se', b'ts all and 17-', b'16 on the scor', b'eboard, Nikki ', b'Hanley served,', b' raced forward', b' to set the ba', b'll and Edel No', b'lan spiked the', b' girls to the ', b'sweetest victo', b'ry of their li', b'ves. No wonder', b', then, she wa', b's named Most V', b'aluable Player', b' of the match.', b'Victory seemed', b' unlikely. Mou', b'nt Saint Micha', b'el were two se', b'ts down and St', b'. Leo\\xe2\\x80\\x99s cert', b'ainly had the ', b'upper hand in ', b'the third set,', b' dominating 9 ', b'points to 2. E', b'ach time St. L', b'eo\\xe2\\x80\\x99s scored,', b' they pounded ', b'the ground in ', b'unison, furthe', b'r intimidating', b' an already sh', b'aky Claremorri', b's team. So how', b', in these cir', b'cumstances, di', b'd they snatch ', b'victory from t', b'he jaws of alm', b'ost certain de', b'feat?\\r\\n\\r\\nThe f', b'irst set seeme', b'd to suggest t', b'wo teams who w', b'ere equally ma', b'tched. Michael', b'\\xe2\\x80\\x99s fought po', b'int for point ', b'against a Leo\\xe2', b'\\x80\\x99s team whose', b' defence was a', b'lmost impenetr', b'able, yet Edel', b' Nolan managed', b' to hit home s', b'ome impressive', b' spikes. Howev', b'er, as the set', b' drew to a clo', b'se, they found', b' themselves un', b'able to finish', b' the job and S', b't Leo\\xe2\\x80\\x99s stor', b'med into the s', b'econd set with', b' a 25-22 win i', b'n the first se', b't under their ', b'belt.\\r\\n\\r\\nThis ', b'is where it al', b'l went wrong f', b'or Claremorris', b'. Having lost ', b'the first set,', b' their nerves ', b'took over and ', b'their difficul', b'ty settling in', b'to the match w', b'as evident in ', b'a plethora of ', b'unforced error', b's, despite exc', b'ellent positio', b'ning by Nikki ', b'Hanley and imp', b'act substituti', b'ons by Lisa Mc', b'Greal and Jack', b'ie Prendergast', b'. They lost th', b'e second set 2', b'5-19 and hope ', b'began to fade ', b'for their 200+', b' supporters.\\r\\n', b'\\r\\nThe third se', b't began in sim', b'ilar fashion b', b'ut sensing tha', b't they now had', b' nothing to lo', b'se \\xe2\\x80\\x93 except ', b'of course the ', b'All-Ireland Ti', b'tle \\xe2\\x80\\x93 the te', b'am lifted thei', b'r game tremend', b'ously, aided b', b'y the now deaf', b'ening cries of', b' their despera', b'te supporters,', b' led by Lisa B', b'rett and Chloe', b' Hughes. Strat', b'egic use of ti', b'me outs by coa', b'ch Fionnghuala', b' King saw the ', b'girls finally ', b'settle into th', b'e match. She n', b'o doubt remind', b'ed them of the', b'ir team mantra', b' \\xe2\\x80\\x93 no matter', b' how badly thi', b'ngs seem to be', b' going \\xe2\\x80\\x98don\\xe2', b'\\x80\\x99t lose your ', b'marbles\\xe2\\x80\\x99. St', b'ephanie Mellet', b' had a great r', b'un of serves a', b'nd made a stun', b'ning save at t', b'his crucial po', b'int in the set', b'. Aisling Crog', b'han made some ', b'unbelievable h', b'its from the w', b'ings and Edel ', b'Nolan shone as', b' the driving f', b'orce behind Mo', b'unt St Michael', b'\\xe2\\x80\\x99s incredibl', b'e comeback. Th', b'ey won the thi', b'rd set 25-16 a', b'nd St Leo\\xe2\\x80\\x99s ', b'game began to ', b'fall apart.\\r\\n\\r', b'\\nA fear of los', b'ing now define', b'd their play, ', b'and they frequ', b'ently only use', b'd two of their', b' three hits, e', b'ager to simply', b' get the ball ', b'across the net', b'. Meanwhile, C', b'laremorris gre', b'w in confidenc', b'e, scoring a r', b'esounding vict', b'ory in the fou', b'rth set 25-13.', b'\\r\\n\\r\\nAs it fina', b'lly dawned tha', b't Claremorris ', b'could actually', b' win this matc', b'h, the excitem', b'ent and tensio', b'n in the arena', b' reached fever', b' pitch, and th', b'e daddies on t', b'he sideline (G', b'erry Croghan &', b' Con Nolan) ri', b'led up the cro', b'wd, ably assis', b'ted by vice-pr', b'incipal Margar', b'et Burke. Howe', b'ver, St Leo\\xe2\\x80\\x99', b's finally real', b'ised that it w', b'as still all t', b'o play for and', b' once again th', b'eir defence, l', b'ed by Sinead R', b'uth, became ne', b'ar-impossible ', b'to break down.', b' Edel Nolan ma', b'de three excel', b'lent spikes in', b' a row only to', b' find each and', b' every one ret', b'urned. Long ra', b'llies defined ', b'the 5th and fi', b'nal set (first', b' to 15 points ', b'but the team m', b'ust win by 2 p', b'oints) and eve', b'ry time Clarem', b'orris inched a', b'head St Leo\\xe2\\x80\\x99', b's reeled them ', b'in again. Fina', b'lly, however, ', b'they reached 1', b'4 \\xe2\\x80\\x93 13 and f', b'aced their fir', b'st match point', b'. Sinead Crogh', b'an, whose stre', b'ngth was such ', b'a defining fea', b'ture of her pl', b'ay up to this ', b'point, unfortu', b'nately hit the', b' serve long an', b'd it was back ', b'to stalemate. ', b'Two more match', b' points follow', b'ed, but Mount ', b'St Michael cou', b'ldn\\xe2\\x80\\x99t seem t', b'o finish Leo\\xe2\\x80', b'\\x99s off. At las', b't, with 2 sets', b' all and 17-16', b' on the scoreb', b'oard, Nikki Ha', b'nley served, r', b'aced forward t', b'o set the ball', b' and Edel Nola', b'n spiked the g', b'irls to the sw', b'eetest victory', b' of their live', b's. No wonder, ', b'then, she was ', b'named Most Val', b'uable Player o', b'f the match.Vi', b'ctory seemed u', b'nlikely. Mount', b' Saint Michael', b' were two sets', b' down and St. ', b'Leo\\xe2\\x80\\x99s certai', b'nly had the up', b'per hand in th', b'e third set, d', b'ominating 9 po', b'ints to 2. Eac', b'h time St. Leo', b'\\xe2\\x80\\x99s scored, t', b'hey pounded th', b'e ground in un', b'ison, further ', b'intimidating a', b'n already shak', b'y Claremorris ', b'team. So how, ', b'in these circu', b'mstances, did ', b'they snatch vi', b'ctory from the', b' jaws of almos', b't certain defe', b'at?\\r\\n\\r\\nThe fir', b'st set seemed ', b'to suggest two', b' teams who wer', b'e equally matc', b'hed. Michael\\xe2\\x80', b'\\x99s fought poin', b't for point ag', b'ainst a Leo\\xe2\\x80\\x99', b's team whose d', b'efence was alm', b'ost impenetrab', b'le, yet Edel N', b'olan managed t', b'o hit home som', b'e impressive s', b'pikes. However', b', as the set d', b'rew to a close', b', they found t', b'hemselves unab', b'le to finish t', b'he job and St ', b'Leo\\xe2\\x80\\x99s storme', b'd into the sec', b'ond set with a', b' 25-22 win in ', b'the first set ', b'under their be', b'lt.\\r\\n\\r\\nThis is', b' where it all ', b'went wrong for', b' Claremorris. ', b'Having lost th', b'e first set, t', b'heir nerves to', b'ok over and th', b'eir difficulty', b' settling into', b' the match was', b' evident in a ', b'plethora of un', b'forced errors,', b' despite excel', b'lent positioni', b'ng by Nikki Ha', b'nley and impac', b't substitution', b's by Lisa McGr', b'eal and Jackie', b' Prendergast. ', b'They lost the ', b'second set 25-', b'19 and hope be', b'gan to fade fo', b'r their 200+ s', b'upporters.\\r\\n\\r\\n', b'The third set ', b'began in simil', b'ar fashion but', b' sensing that ', b'they now had n', b'othing to lose', b' \\xe2\\x80\\x93 except of', b' course the Al', b'l-Ireland Titl', b'e \\xe2\\x80\\x93 the team', b' lifted their ', b'game tremendou', b'sly, aided by ', b'the now deafen', b'ing cries of t', b'heir desperate', b' supporters, l', b'ed by Lisa Bre', b'tt and Chloe H', b'ughes. Strateg', b'ic use of time', b' outs by coach', b' Fionnghuala K', b'ing saw the gi', b'rls finally se', b'ttle into the ', b'match. She no ', b'doubt reminded', b' them of their', b' team mantra \\xe2', b'\\x80\\x93 no matter h', b'ow badly thing', b's seem to be g', b'oing \\xe2\\x80\\x98don\\xe2\\x80\\x99', b't lose your ma', b'rbles\\xe2\\x80\\x99. Step', b'hanie Mellet h', b'ad a great run', b' of serves and', b' made a stunni', b'ng save at thi', b's crucial poin', b't in the set. ', b'Aisling Crogha', b'n made some un', b'believable hit', b's from the win', b'gs and Edel No', b'lan shone as t', b'he driving for', b'ce behind Moun', b't St Michael\\xe2\\x80', b'\\x99s incredible ', b'comeback. They', b' won the third', b' set 25-16 and', b' St Leo\\xe2\\x80\\x99s ga', b'me began to fa', b'll apart.\\r\\n\\r\\nA', b' fear of losin', b'g now defined ', b'their play, an', b'd they frequen', b'tly only used ', b'two of their t', b'hree hits, eag', b'er to simply g', b'et the ball ac', b'ross the net. ', b'Meanwhile, Cla', b'remorris grew ', b'in confidence,', b' scoring a res', b'ounding victor', b'y in the fourt', b'h set 25-13.\\r\\n', b'\\r\\nThe first se', b't seemed to su', b'ggest two team', b's who were equ', b'ally matched. ', b'Michael\\xe2\\x80\\x99s fo', b'ught point for', b' point against', b' a Leo\\xe2\\x80\\x99s tea', b'm whose defenc', b'e was almost i', b'mpenetrable, y', b'et Edel Nolan ', b'managed to hit', b' home some imp', b'ressive spikes', b'. However, as ', b'the set drew t', b'o a close, the', b'y found themse', b'lves unable to', b' finish the jo', b'b and St Leo\\xe2\\x80', b'\\x99s stormed int', b'o the second s', b'et with a 25-2', b'2 win in the f', b'irst set under', b' their belt.\\r\\n', b'The first set ', b'seemed to sugg', b'est two teams ', b'who were equal', b'ly matched. Mi', b'chael\\xe2\\x80\\x99s foug', b'ht point for p', b'oint against a', b' Leo\\xe2\\x80\\x99s team ', b'whose defence ', b'was almost imp', b'enetrable, yet', b' Edel Nolan ma', b'naged to hit h', b'ome some impre', b'ssive spikes. ', b'However, as th', b'e set drew to ', b'a close, they ', b'found themselv', b'es unable to f', b'inish the job ', b'and St Leo\\xe2\\x80\\x99s', b' stormed into ', b'the second set', b' with a 25-22 ', b'win in the fir', b'st set under t', b'heir belt.\\r\\n\\r\\n', b'The first set ', b'seemed to sugg', b'est two teams ', b'who were equal', b'ly matched. Mi', b'chael\\xe2\\x80\\x99s foug', b'ht point for p', b'oint against a', b' Leo\\xe2\\x80\\x99s team ', b'whose defence ', b'was almost imp', b'enetrable, yet', b' Edel Nolan ma', b'naged to hit h', b'ome some impre', b'ssive spikes. ', b'However, as th', b'e set drew to ', b'a close, they ', b'found themselv', b'es unable to f', b'inish the job ', b'and St Leo\\xe2\\x80\\x99s', b' stormed into ', b'the second set', b' with a 25-22 ', b'win in the fir', b'st set under t', b'heir belt.\\r\\n\\r\\n', b'This is where ', b'it all went wr', b'ong for Clarem', b'orris. Having ', b'lost the first', b' set, their ne', b'rves took over', b' and their dif', b'ficulty settli', b'ng into the ma', b'tch was eviden', b't in a plethor', b'a of unforced ', b'errors, despit', b'e excellent po', b'sitioning by N', b'ikki Hanley an', b'd impact subst', b'itutions by Li', b'sa McGreal and', b' Jackie Prende', b'rgast. They lo', b'st the second ', b'set 25-19 and ', b'hope began to ', b'fade for their', b' 200+ supporte', b'rs.\\r\\n\\r\\nThe thi', b'rd set began i', b'n similar fash', b'ion but sensin', b'g that they no', b'w had nothing ', b'to lose \\xe2\\x80\\x93 ex', b'cept of course', b' the All-Irela', b'nd Title \\xe2\\x80\\x93 t', b'he team lifted', b' their game tr', b'emendously, ai', b'ded by the now', b' deafening cri', b'es of their de', b'sperate suppor', b'ters, led by L', b'isa Brett and ', b'Chloe Hughes. ', b'Strategic use ', b'of time outs b', b'y coach Fionng', b'huala King saw', b' the girls fin', b'ally settle in', b'to the match. ', b'She no doubt r', b'eminded them o', b'f their team m', b'antra \\xe2\\x80\\x93 no m', b'atter how badl', b'y things seem ', b'to be going \\xe2\\x80', b'\\x98don\\xe2\\x80\\x99t lose ', b'your marbles\\xe2\\x80', b'\\x99. Stephanie M', b'ellet had a gr', b'eat run of ser', b'ves and made a', b' stunning save', b' at this cruci', b'al point in th', b'e set. Aisling', b' Croghan made ', b'some unbelieva', b'ble hits from ', b'the wings and ', b'Edel Nolan sho', b'ne as the driv', b'ing force behi', b'nd Mount St Mi', b'chael\\xe2\\x80\\x99s incr', b'edible comebac', b'k. They won th', b'e third set 25', b'-16 and St Leo', b'\\xe2\\x80\\x99s game bega', b'n to fall apar', b't.\\r\\n\\r\\nA fear o', b'f losing now d', b'efined their p', b'lay, and they ', b'frequently onl', b'y used two of ', b'their three hi', b'ts, eager to s', b'imply get the ', b'ball across th', b'e net. Meanwhi', b'le, Claremorri', b's grew in conf', b'idence, scorin', b'g a resounding', b' victory in th', b'e fourth set 2', b'5-13.\\r\\n\\r\\nAs it', b' finally dawne', b'd that Claremo', b'rris could act', b'ually win this', b' match, the ex', b'citement and t', b'ension in the ', b'arena reached ', b'fever pitch, a', b'nd the daddies', b' on the sideli', b'ne (Gerry Crog', b'han & Con Nola', b'n) riled up th', b'e crowd, ably ', b'assisted by vi', b'ce-principal M', b'argaret Burke.', b' However, St L', b'eo\\xe2\\x80\\x99s finally', b' realised that', b' it was still ', b'all to play fo', b'r and once aga', b'in their defen', b'ce, led by Sin', b'ead Ruth, beca', b'me near-imposs', b'ible to break ', b'down. Edel Nol', b'an made three ', b'excellent spik', b'es in a row on', b'ly to find eac', b'h and every on', b'e returned. Lo', b'ng rallies def', b'ined the 5th a', b'nd final set (', b'first to 15 po', b'ints but the t', b'eam must win b', b'y 2 points) an', b'd every time C', b'laremorris inc', b'hed ahead St L', b'eo\\xe2\\x80\\x99s reeled ', b'them in again.', b' Finally, howe', b'ver, they reac', b'hed 14 \\xe2\\x80\\x93 13 ', b'and faced thei', b'r first match ', b'point. Sinead ', b'Croghan, whose', b' strength was ', b'such a definin', b'g feature of h', b'er play up to ', b'this point, un', b'fortunately hi', b't the serve lo', b'ng and it was ', b'back to stalem', b'ate. Two more ', b'match points f', b'ollowed, but M', b'ount St Michae', b'l couldn\\xe2\\x80\\x99t s', b'eem to finish ', b'Leo\\xe2\\x80\\x99s off. A', b't last, with 2', b' sets all and ', b'17-16 on the s', b'coreboard, Nik', b'ki Hanley serv', b'ed, raced forw', b'ard to set the', b' ball and Edel', b' Nolan spiked ', b'the girls to t', b'he sweetest vi', b'ctory of their', b' lives. No won', b'der, then, she', b' was named Mos', b't Valuable Pla', b'yer of the mat', b'ch.Victory see', b'med unlikely. ', b'Mount Saint Mi', b'chael were two', b' sets down and', b' St. Leo\\xe2\\x80\\x99s c', b'ertainly had t', b'he upper hand ', b'in the third s', b'et, dominating', b' 9 points to 2', b'. Each time St', b'. Leo\\xe2\\x80\\x99s scor', b'ed, they pound', b'ed the ground ', b'in unison, fur', b'ther intimidat', b'ing an already', b' shaky Claremo', b'rris team. So ', b'how, in these ', b'circumstances,', b' did they snat', b'ch victory fro', b'm the jaws of ', b'almost certain', b' defeat?\\r\\n\\r\\nTh', b'e first set se', b'emed to sugges', b't two teams wh', b'o were equally', b' matched. Mich', b'ael\\xe2\\x80\\x99s fought', b' point for poi', b'nt against a L', b'eo\\xe2\\x80\\x99s team wh', b'ose defence wa', b's almost impen', b'etrable, yet E', b'del Nolan mana', b'ged to hit hom', b'e some impress', b'ive spikes. Ho', b'wever, as the ', b'set drew to a ', b'close, they fo', b'und themselves', b' unable to fin', b'ish the job an', b'd St Leo\\xe2\\x80\\x99s s', b'tormed into th', b'e second set w', b'ith a 25-22 wi', b'n in the first', b' set under the', b'ir belt.\\r\\n\\r\\nTh', b'is is where it', b' all went wron', b'g for Claremor', b'ris. Having lo', b'st the first s', b'et, their nerv', b'es took over a', b'nd their diffi', b'culty settling', b' into the matc', b'h was evident ', b'in a plethora ', b'of unforced er', b'rors, despite ', b'excellent posi', b'tioning by Nik', b'ki Hanley and ', b'impact substit', b'utions by Lisa', b' McGreal and J', b'ackie Prenderg', b'ast. They lost', b' the second se', b't 25-19 and ho', b'pe began to fa', b'de for their 2', b'00+ supporters', b'.\\r\\n\\r\\nThe third', b' set began in ', b'similar fashio', b'n but sensing ', b'that they now ', b'had nothing to', b' lose \\xe2\\x80\\x93 exce', b'pt of course t', b'he All-Ireland', b' Title \\xe2\\x80\\x93 the', b' team lifted t', b'heir game trem', b'endously, aide', b'd by the now d', b'eafening cries', b' of their desp', b'erate supporte', b'rs, led by Lis', b'a Brett and Ch', b'loe Hughes. St', b'rategic use of', b' time outs by ', b'coach Fionnghu', b'ala King saw t', b'he girls final', b'ly settle into', b' the match. Sh', b'e no doubt rem', b'inded them of ', b'their team man', b'tra \\xe2\\x80\\x93 no mat', b'ter how badly ', b'things seem to', b' be going \\xe2\\x80\\x98d', b'on\\xe2\\x80\\x99t lose yo', b'ur marbles\\xe2\\x80\\x99.', b' Stephanie Mel', b'let had a grea', b't run of serve', b's and made a s', b'tunning save a', b't this crucial', b' point in the ', b'set. Aisling C', b'roghan made so', b'me unbelievabl', b'e hits from th', b'e wings and Ed', b'el Nolan shone', b' as the drivin', b'g force behind', b' Mount St Mich', b'ael\\xe2\\x80\\x99s incred', b'ible comeback.', b' They won the ', b'third set 25-1', b'6 and St Leo\\xe2\\x80', b'\\x99s game began ', b'to fall apart.', b'\\r\\n\\r\\nA fear of ', b'losing now def', b'ined their pla', b'y, and they fr', b'equently only ', b'used two of th', b'eir three hits', b', eager to sim', b'ply get the ba', b'll across the ', b'net. Meanwhile', b', Claremorris ', b'grew in confid', b'ence, scoring ', b'a resounding v', b'ictory in the ', b'fourth set 25-', b'13.\\r\\n\\r\\nAs it f', b'inally dawned ', b'that Claremorr', b'is could actua', b'lly win this m', b'atch, the exci', b'tement and ten', b'sion in the ar', b'ena reached fe', b'ver pitch, and', b' the daddies o', b'n the sideline', b' (Gerry Crogha', b'n & Con Nolan)', b' riled up the ', b'crowd, ably as', b'sisted by vice', b'-principal Mar', b'garet Burke. H', b'owever, St Leo', b'\\xe2\\x80\\x99s finally r', b'ealised that i', b't was still al', b'l to play for ', b'and once again', b' their defence', b', led by Sinea', b'd Ruth, became', b' near-impossib', b'le to break do', b'wn. Edel Nolan', b' made three ex', b'cellent spikes', b' in a row only', b' to find each ', b'and every one ', b'returned. Long', b' rallies defin', b'ed the 5th and', b' final set (fi', b'rst to 15 poin', b'ts but the tea', b'm must win by ', b'2 points) and ', b'every time Cla', b'remorris inche', b'd ahead St Leo', b'\\xe2\\x80\\x99s reeled th', b'em in again. F', b'inally, howeve', b'r, they reache', b'd 14 \\xe2\\x80\\x93 13 an', b'd faced their ', b'first match po', b'int. Sinead Cr', b'oghan, whose s', b'trength was su', b'ch a defining ', b'feature of her', b' play up to th', b'is point, unfo', b'rtunately hit ', b'the serve long', b' and it was ba', b'ck to stalemat', b'e. Two more ma', b'tch points fol', b'lowed, but Mou', b'nt St Michael ', b'couldn\\xe2\\x80\\x99t see', b'm to finish Le', b'o\\xe2\\x80\\x99s off. At ', b'last, with 2 s', b'ets all and 17', b'-16 on the sco', b'reboard, Nikki', b' Hanley served', b', raced forwar', b'd to set the b', b'all and Edel N', b'olan spiked th', b'e girls to the', b' sweetest vict', b'ory of their l', b'ives. No wonde', b'r, then, she w', b'as named Most ', b'Valuable Playe', b'r of the match', b'.Victory seeme', b'd unlikely. Mo', b'unt Saint Mich', b'ael were two s', b'ets down and S', b't. Leo\\xe2\\x80\\x99s cer', b'tainly had the', b' upper hand in', b' the third set', b', dominating 9', b' points to 2. ', b'Each time St. ', b'Leo\\xe2\\x80\\x99s scored', b', they pounded', b' the ground in', b' unison, furth', b'er intimidatin', b'g an already s', b'haky Claremorr', b'is team. So ho', b'w, in these ci', b'rcumstances, d', b'id they snatch', b' victory from ', b'the jaws of al', b'most certain d', b'efeat?\\r\\n\\r\\nThe ', b'first set seem', b'ed to suggest ', b'two teams who ', b'were equally m', b'atched. Michae', b'l\\xe2\\x80\\x99s fought p', b'oint for point', b' against a Leo', b'\\xe2\\x80\\x99s team whos', b'e defence was ', b'almost impenet', b'rable, yet Ede', b'l Nolan manage', b'd to hit home ', b'some impressiv', b'e spikes. Howe', b'ver, as the se', b't drew to a cl', b'ose, they foun', b'd themselves u', b'nable to finis', b'h the job and ', b'St Leo\\xe2\\x80\\x99s sto', b'rmed into the ', b'second set wit', b'h a 25-22 win ', b'in the first s', b'et under their', b' belt.\\r\\n\\r\\nThis', b' is where it a', b'll went wrong ', b'for Claremorri', b's. Having lost', b' the first set', b', their nerves', b' took over and', b' their difficu', b'lty settling i', b'nto the match ', b'was evident in', b' a plethora of', b' unforced erro', b'rs, despite ex', b'cellent positi', b'oning by Nikki', b' Hanley and im', b'pact substitut', b'ions by Lisa M', b'cGreal and Jac', b'kie Prendergas', b't. They lost t', b'he second set ', b'25-19 and hope', b' began to fade', b' for their 200', b'+ supporters.\\r', b'\\n\\r\\nThe third s', b'et began in si', b'milar fashion ', b'but sensing th', b'at they now ha', b'd nothing to l', b'ose \\xe2\\x80\\x93 except', b' of course the', b' All-Ireland T', b'itle \\xe2\\x80\\x93 the t', b'eam lifted the', b'ir game tremen', b'dously, aided ', b'by the now dea', b'fening cries o', b'f their desper', b'ate supporters', b', led by Lisa ', b'Brett and Chlo', b'e Hughes. Stra', b'tegic use of t', b'ime outs by co', b'ach Fionnghual', b'a King saw the', b' girls finally', b' settle into t', b'he match. She ', b'no doubt remin', b'ded them of th', b'eir team mantr', b'a \\xe2\\x80\\x93 no matte', b'r how badly th', b'ings seem to b', b'e going \\xe2\\x80\\x98don', b'\\xe2\\x80\\x99t lose your', b' marbles\\xe2\\x80\\x99. S', b'tephanie Melle', b't had a great ', b'run of serves ', b'and made a stu', b'nning save at ', b'this crucial p', b'oint in the se', b't. Aisling Cro', b'ghan made some', b' unbelievable ', b'hits from the ', b'wings and Edel', b' Nolan shone a', b's the driving ', b'force behind M', b'ount St Michae', b'l\\xe2\\x80\\x99s incredib', b'le comeback. T', b'hey won the th', b'ird set 25-16 ', b'and St Leo\\xe2\\x80\\x99s', b' game began to', b' fall apart.\\r\\n', b'\\r\\nA fear of lo', b'sing now defin', b'ed their play,', b' and they freq', b'uently only us', b'ed two of thei', b'r three hits, ', b'eager to simpl', b'y get the ball', b' across the ne', b't. Meanwhile, ', b'Claremorris gr', b'ew in confiden', b'ce, scoring a ', b'resounding vic', b'tory in the fo', b'urth set 25-13', b'.\\r\\n\\r\\nThe first', b' set seemed to', b' suggest two t', b'eams who were ', b'equally matche', b'd. Michael\\xe2\\x80\\x99s', b' fought point ', b'for point agai', b'nst a Leo\\xe2\\x80\\x99s ', b'team whose def', b'ence was almos', b't impenetrable', b', yet Edel Nol', b'an managed to ', b'hit home some ', b'impressive spi', b'kes. However, ', b'as the set dre', b'w to a close, ', b'they found the', b'mselves unable', b' to finish the', b' job and St Le', b'o\\xe2\\x80\\x99s stormed ', b'into the secon', b'd set with a 2', b'5-22 win in th', b'e first set un', b'der their belt', b'.\\r\\nThe first s', b'et seemed to s', b'uggest two tea', b'ms who were eq', b'ually matched.', b' Michael\\xe2\\x80\\x99s f', b'ought point fo', b'r point agains', b't a Leo\\xe2\\x80\\x99s te', b'am whose defen', b'ce was almost ', b'impenetrable, ', b'yet Edel Nolan', b' managed to hi', b't home some im', b'pressive spike', b's. However, as', b' the set drew ', b'to a close, th', b'ey found thems', b'elves unable t', b'o finish the j', b'ob and St Leo\\xe2', b'\\x80\\x99s stormed in', b'to the second ', b'set with a 25-', b'22 win in the ', b'first set unde', b'r their belt.\\r', b'\\n\\r\\nThe first s', b'et seemed to s', b'uggest two tea', b'ms who were eq', b'ually matched.', b' Michael\\xe2\\x80\\x99s f', b'ought point fo', b'r point agains', b't a Leo\\xe2\\x80\\x99s te', b'am whose defen', b'ce was almost ', b'impenetrable, ', b'yet Edel Nolan', b' managed to hi', b't home some im', b'pressive spike', b's. However, as', b' the set drew ', b'to a close, th', b'ey found thems', b'elves unable t', b'o finish the j', b'ob and St Leo\\xe2', b'\\x80\\x99s stormed in', b'to the second ', b'set with a 25-', b'22 win in the ', b'first set unde', b'r their belt.\\r', b'\\n\\r\\nThis is whe', b're it all went', b' wrong for Cla', b'remorris. Havi', b'ng lost the fi', b'rst set, their', b' nerves took o', b'ver and their ', b'difficulty set', b'tling into the', b' match was evi', b'dent in a plet', b'hora of unforc', b'ed errors, des', b'pite excellent', b' positioning b', b'y Nikki Hanley', b' and impact su', b'bstitutions by', b' Lisa McGreal ', b'and Jackie Pre', b'ndergast. They', b' lost the seco', b'nd set 25-19 a', b'nd hope began ', b'to fade for th', b'eir 200+ suppo', b'rters.\\r\\n\\r\\nThe ', b'third set bega', b'n in similar f', b'ashion but sen', b'sing that they', b' now had nothi', b'ng to lose \\xe2\\x80\\x93', b' except of cou', b'rse the All-Ir', b'eland Title \\xe2\\x80', b'\\x93 the team lif', b'ted their game', b' tremendously,', b' aided by the ', b'now deafening ', b'cries of their', b' desperate sup', b'porters, led b', b'y Lisa Brett a', b'nd Chloe Hughe', b's. Strategic u', b'se of time out', b's by coach Fio', b'nnghuala King ', b'saw the girls ', b'finally settle', b' into the matc', b'h. She no doub', b't reminded the', b'm of their tea', b'm mantra \\xe2\\x80\\x93 n', b'o matter how b', b'adly things se', b'em to be going', b' \\xe2\\x80\\x98don\\xe2\\x80\\x99t lo', b'se your marble', b's\\xe2\\x80\\x99. Stephani', b'e Mellet had a', b' great run of ', b'serves and mad', b'e a stunning s', b'ave at this cr', b'ucial point in', b' the set. Aisl', b'ing Croghan ma', b'de some unbeli', b'evable hits fr', b'om the wings a', b'nd Edel Nolan ', b'shone as the d', b'riving force b', b'ehind Mount St', b' Michael\\xe2\\x80\\x99s i', b'ncredible come', b'back. They won', b' the third set', b' 25-16 and St ', b'Leo\\xe2\\x80\\x99s game b', b'egan to fall a', b'part.\\r\\n\\r\\nA fea', b'r of losing no', b'w defined thei', b'r play, and th', b'ey frequently ', b'only used two ', b'of their three', b' hits, eager t', b'o simply get t', b'he ball across', b' the net. Mean', b'while, Claremo', b'rris grew in c', b'onfidence, sco', b'ring a resound', b'ing victory in', b' the fourth se', b't 25-13.\\r\\n\\r\\nAs', b' it finally da', b'wned that Clar', b'emorris could ', b'actually win t', b'his match, the', b' excitement an', b'd tension in t', b'he arena reach', b'ed fever pitch', b', and the dadd', b'ies on the sid', b'eline (Gerry C', b'roghan & Con N', b'olan) riled up', b' the crowd, ab', b'ly assisted by', b' vice-principa', b'l Margaret Bur', b'ke. However, S', b't Leo\\xe2\\x80\\x99s fina', b'lly realised t', b'hat it was sti', b'll all to play', b' for and once ', b'again their de', b'fence, led by ', b'Sinead Ruth, b', b'ecame near-imp', b'ossible to bre', b'ak down. Edel ', b'Nolan made thr', b'ee excellent s', b'pikes in a row', b' only to find ', b'each and every', b' one returned.', b' Long rallies ', b'defined the 5t', b'h and final se', b't (first to 15', b' points but th', b'e team must wi', b'n by 2 points)', b' and every tim', b'e Claremorris ', b'inched ahead S', b't Leo\\xe2\\x80\\x99s reel', b'ed them in aga', b'in. Finally, h', b'owever, they r', b'eached 14 \\xe2\\x80\\x93 ', b'13 and faced t', b'heir first mat', b'ch point. Sine', b'ad Croghan, wh', b'ose strength w', b'as such a defi', b'ning feature o', b'f her play up ', b'to this point,', b' unfortunately', b' hit the serve', b' long and it w', b'as back to sta', b'lemate. Two mo', b're match point', b's followed, bu', b't Mount St Mic', b'hael couldn\\xe2\\x80\\x99', b't seem to fini', b'sh Leo\\xe2\\x80\\x99s off', b'. At last, wit', b'h 2 sets all a', b'nd 17-16 on th', b'e scoreboard, ', b'Nikki Hanley s', b'erved, raced f', b'orward to set ', b'the ball and E', b'del Nolan spik', b'ed the girls t', b'o the sweetest', b' victory of th', b'eir lives. No ', b'wonder, then, ', b'she was named ', b'Most Valuable ', b'Player of the ', b'match.Victory ', b'seemed unlikel', b'y. Mount Saint', b' Michael were ', b'two sets down ', b'and St. Leo\\xe2\\x80\\x99', b's certainly ha', b'd the upper ha', b'nd in the thir', b'd set, dominat', b'ing 9 points t', b'o 2. Each time', b' St. Leo\\xe2\\x80\\x99s s', b'cored, they po', b'unded the grou', b'nd in unison, ', b'further intimi', b'dating an alre', b'ady shaky Clar', b'emorris team. ', b'So how, in the', b'se circumstanc', b'es, did they s', b'natch victory ', b'from the jaws ', b'of almost cert', b'ain defeat?\\r\\n\\r', b'\\nThe first set', b' seemed to sug', b'gest two teams', b' who were equa', b'lly matched. M', b'ichael\\xe2\\x80\\x99s fou', b'ght point for ', b'point against ', b'a Leo\\xe2\\x80\\x99s team', b' whose defence', b' was almost im', b'penetrable, ye', b't Edel Nolan m', b'anaged to hit ', b'home some impr', b'essive spikes.', b' However, as t', b'he set drew to', b' a close, they', b' found themsel', b'ves unable to ', b'finish the job', b' and St Leo\\xe2\\x80\\x99', b's stormed into', b' the second se', b't with a 25-22', b' win in the fi', b'rst set under ', b'their belt.\\r\\n\\r', b'\\nThis is where', b' it all went w', b'rong for Clare', b'morris. Having', b' lost the firs', b't set, their n', b'erves took ove', b'r and their di', b'fficulty settl', b'ing into the m', b'atch was evide', b'nt in a pletho', b'ra of unforced', b' errors, despi', b'te excellent p', b'ositioning by ', b'Nikki Hanley a', b'nd impact subs', b'titutions by L', b'isa McGreal an', b'd Jackie Prend', b'ergast. They l', b'ost the second', b' set 25-19 and', b' hope began to', b' fade for thei', b'r 200+ support', b'ers.\\r\\n\\r\\nThe th', b'ird set began ', b'in similar fas', b'hion but sensi', b'ng that they n', b'ow had nothing', b' to lose \\xe2\\x80\\x93 e', b'xcept of cours', b'e the All-Irel', b'and Title \\xe2\\x80\\x93 ', b'the team lifte', b'd their game t', b'remendously, a', b'ided by the no', b'w deafening cr', b'ies of their d', b'esperate suppo', b'rters, led by ', b'Lisa Brett and', b' Chloe Hughes.', b' Strategic use', b' of time outs ', b'by coach Fionn', b'ghuala King sa', b'w the girls fi', b'nally settle i', b'nto the match.', b' She no doubt ', b'reminded them ', b'of their team ', b'mantra \\xe2\\x80\\x93 no ', b'matter how bad', b'ly things seem', b' to be going \\xe2', b'\\x80\\x98don\\xe2\\x80\\x99t lose', b' your marbles\\xe2', b'\\x80\\x99. Stephanie ', b'Mellet had a g', b'reat run of se', b'rves and made ', b'a stunning sav', b'e at this cruc', b'ial point in t', b'he set. Aislin', b'g Croghan made', b' some unbeliev', b'able hits from', b' the wings and', b' Edel Nolan sh', b'one as the dri', b'ving force beh', b'ind Mount St M', b'ichael\\xe2\\x80\\x99s inc', b'redible comeba', b'ck. They won t', b'he third set 2', b'5-16 and St Le', b'o\\xe2\\x80\\x99s game beg', b'an to fall apa', b'rt.\\r\\n\\r\\nA fear ', b'of losing now ', b'defined their ', b'play, and they', b' frequently on', b'ly used two of', b' their three h', b'its, eager to ', b'simply get the', b' ball across t', b'he net. Meanwh', b'ile, Claremorr', b'is grew in con', b'fidence, scori', b'ng a resoundin', b'g victory in t', b'he fourth set ', b'25-13.\\r\\n\\r\\nAs i', b't finally dawn', b'ed that Clarem', b'orris could ac', b'tually win thi', b's match, the e', b'xcitement and ', b'tension in the', b' arena reached', b' fever pitch, ', b'and the daddie', b's on the sidel', b'ine (Gerry Cro', b'ghan & Con Nol', b'an) riled up t', b'he crowd, ably', b' assisted by v', b'ice-principal ', b'Margaret Burke', b'. However, St ', b'Leo\\xe2\\x80\\x99s finall', b'y realised tha', b't it was still', b' all to play f', b'or and once ag', b'ain their defe', b'nce, led by Si', b'nead Ruth, bec', b'ame near-impos', b'sible to break', b' down. Edel No', b'lan made three', b' excellent spi', b'kes in a row o', b'nly to find ea', b'ch and every o', b'ne returned. L', b'ong rallies de', b'fined the 5th ', b'and final set ', b'(first to 15 p', b'oints but the ', b'team must win ', b'by 2 points) a', b'nd every time ', b'Claremorris in', b'ched ahead St ', b'Leo\\xe2\\x80\\x99s reeled', b' them in again', b'. Finally, how', b'ever, they rea', b'ched 14 \\xe2\\x80\\x93 13', b' and faced the', b'ir first match', b' point. Sinead', b' Croghan, whos', b'e strength was', b' such a defini', b'ng feature of ', b'her play up to', b' this point, u', b'nfortunately h', b'it the serve l', b'ong and it was', b' back to stale', b'mate. Two more', b' match points ', b'followed, but ', b'Mount St Micha', b'el couldn\\xe2\\x80\\x99t ', b'seem to finish', b' Leo\\xe2\\x80\\x99s off. ', b'At last, with ', b'2 sets all and', b' 17-16 on the ', b'scoreboard, Ni', b'kki Hanley ser', b'ved, raced for', b'ward to set th', b'e ball and Ede', b'l Nolan spiked', b' the girls to ', b'the sweetest v', b'ictory of thei', b'r lives. No wo', b'nder, then, sh', b'e was named Mo', b'st Valuable Pl', b'ayer of the ma', b'tch.Victory se', b'emed unlikely.', b' Mount Saint M', b'ichael were tw', b'o sets down an', b'd St. Leo\\xe2\\x80\\x99s ', b'certainly had ', b'the upper hand', b' in the third ', b'set, dominatin', b'g 9 points to ', b'2. Each time S', b't. Leo\\xe2\\x80\\x99s sco', b'red, they poun', b'ded the ground', b' in unison, fu', b'rther intimida', b'ting an alread', b'y shaky Clarem', b'orris team. So', b' how, in these', b' circumstances', b', did they sna', b'tch victory fr', b'om the jaws of', b' almost certai', b'n defeat?\\r\\n\\r\\nT', b'he first set s', b'eemed to sugge', b'st two teams w', b'ho were equall', b'y matched. Mic', b'hael\\xe2\\x80\\x99s fough', b't point for po', b'int against a ', b'Leo\\xe2\\x80\\x99s team w', b'hose defence w', b'as almost impe', b'netrable, yet ', b'Edel Nolan man', b'aged to hit ho', b'me some impres', b'sive spikes. H', b'owever, as the', b' set drew to a', b' close, they f', b'ound themselve', b's unable to fi', b'nish the job a', b'nd St Leo\\xe2\\x80\\x99s ', b'stormed into t', b'he second set ', b'with a 25-22 w', b'in in the firs', b't set under th', b'eir belt.\\r\\n\\r\\nT', b'his is where i', b't all went wro', b'ng for Claremo', b'rris. Having l', b'ost the first ', b'set, their ner', b'ves took over ', b'and their diff', b'iculty settlin', b'g into the mat', b'ch was evident', b' in a plethora', b' of unforced e', b'rrors, despite', b' excellent pos', b'itioning by Ni', b'kki Hanley and', b' impact substi', b'tutions by Lis', b'a McGreal and ', b'Jackie Prender', b'gast. They los', b't the second s', b'et 25-19 and h', b'ope began to f', b'ade for their ', b'200+ supporter', b's.\\r\\n\\r\\nThe thir', b'd set began in', b' similar fashi', b'on but sensing', b' that they now', b' had nothing t', b'o lose \\xe2\\x80\\x93 exc', b'ept of course ', b'the All-Irelan', b'd Title \\xe2\\x80\\x93 th', b'e team lifted ', b'their game tre', b'mendously, aid', b'ed by the now ', b'deafening crie', b's of their des', b'perate support', b'ers, led by Li', b'sa Brett and C', b'hloe Hughes. S', b'trategic use o', b'f time outs by', b' coach Fionngh', b'uala King saw ', b'the girls fina', b'lly settle int', b'o the match. S', b'he no doubt re', b'minded them of', b' their team ma', b'ntra \\xe2\\x80\\x93 no ma', b'tter how badly', b' things seem t', b'o be going \\xe2\\x80\\x98', b'don\\xe2\\x80\\x99t lose y', b'our marbles\\xe2\\x80\\x99', b'. Stephanie Me', b'llet had a gre', b'at run of serv', b'es and made a ', b'stunning save ', b'at this crucia', b'l point in the', b' set. Aisling ', b'Croghan made s', b'ome unbelievab', b'le hits from t', b'he wings and E', b'del Nolan shon', b'e as the drivi', b'ng force behin', b'd Mount St Mic', b'hael\\xe2\\x80\\x99s incre', b'dible comeback', b'. They won the', b' third set 25-', b'16 and St Leo\\xe2', b'\\x80\\x99s game began', b' to fall apart', b'.\\r\\n\\r\\nA fear of', b' losing now de', b'fined their pl', b'ay, and they f', b'requently only', b' used two of t', b'heir three hit', b's, eager to si', b'mply get the b', b'all across the', b' net. Meanwhil', b'e, Claremorris', b' grew in confi', b'dence, scoring', b' a resounding ', b'victory in the', b' fourth set 25', b'-13.\\r\\n\\r\\nThe fi', b'rst set seemed', b' to suggest tw', b'o teams who we', b're equally mat', b'ched. Michael\\xe2', b'\\x80\\x99s fought poi', b'nt for point a', b'gainst a Leo\\xe2\\x80', b'\\x99s team whose ', b'defence was al', b'most impenetra', b'ble, yet Edel ', b'Nolan managed ', b'to hit home so', b'me impressive ', b'spikes. Howeve', b'r, as the set ', b'drew to a clos', b'e, they found ', b'themselves una', b'ble to finish ', b'the job and St', b' Leo\\xe2\\x80\\x99s storm', b'ed into the se', b'cond set with ', b'a 25-22 win in', b' the first set', b' under their b', b'elt.\\r\\nThe firs', b't set seemed t', b'o suggest two ', b'teams who were', b' equally match', b'ed. Michael\\xe2\\x80\\x99', b's fought point', b' for point aga', b'inst a Leo\\xe2\\x80\\x99s', b' team whose de', b'fence was almo', b'st impenetrabl', b'e, yet Edel No', b'lan managed to', b' hit home some', b' impressive sp', b'ikes. However,', b' as the set dr', b'ew to a close,', b' they found th', b'emselves unabl', b'e to finish th', b'e job and St L', b'eo\\xe2\\x80\\x99s stormed', b' into the seco', b'nd set with a ', b'25-22 win in t', b'he first set u', b'nder their bel', b't.\\r\\n\\r\\nThe firs', b't set seemed t', b'o suggest two ', b'teams who were', b' equally match', b'ed. Michael\\xe2\\x80\\x99', b's fought point', b' for point aga', b'inst a Leo\\xe2\\x80\\x99s', b' team whose de', b'fence was almo', b'st impenetrabl', b'e, yet Edel No', b'lan managed to', b' hit home some', b' impressive sp', b'ikes. However,', b' as the set dr', b'ew to a close,', b' they found th', b'emselves unabl', b'e to finish th', b'e job and St L', b'eo\\xe2\\x80\\x99s stormed', b' into the seco', b'nd set with a ', b'25-22 win in t', b'he first set u', b'nder their bel', b't.\\r\\n\\r\\nThis is ', b'where it all w', b'ent wrong for ', b'Claremorris. H', b'aving lost the', b' first set, th', b'eir nerves too', b'k over and the', b'ir difficulty ', b'settling into ', b'the match was ', b'evident in a p', b'lethora of unf', b'orced errors, ', b'despite excell', b'ent positionin', b'g by Nikki Han', b'ley and impact', b' substitutions', b' by Lisa McGre', b'al and Jackie ', b'Prendergast. T', b'hey lost the s', b'econd set 25-1', b'9 and hope beg', b'an to fade for', b' their 200+ su', b'pporters.\\r\\n\\r\\nT', b'he third set b', b'egan in simila', b'r fashion but ', b'sensing that t', b'hey now had no', b'thing to lose ', b'\\xe2\\x80\\x93 except of ', b'course the All', b'-Ireland Title', b' \\xe2\\x80\\x93 the team ', b'lifted their g', b'ame tremendous', b'ly, aided by t', b'he now deafeni', b'ng cries of th', b'eir desperate ', b'supporters, le', b'd by Lisa Bret', b't and Chloe Hu', b'ghes. Strategi', b'c use of time ', b'outs by coach ', b'Fionnghuala Ki', b'ng saw the gir', b'ls finally set', b'tle into the m', b'atch. She no d', b'oubt reminded ', b'them of their ', b'team mantra \\xe2\\x80', b'\\x93 no matter ho', b'w badly things', b' seem to be go', b'ing \\xe2\\x80\\x98don\\xe2\\x80\\x99t', b' lose your mar', b'bles\\xe2\\x80\\x99. Steph', b'anie Mellet ha', b'd a great run ', b'of serves and ', b'made a stunnin', b'g save at this', b' crucial point', b' in the set. A', b'isling Croghan', b' made some unb', b'elievable hits', b' from the wing', b's and Edel Nol', b'an shone as th', b'e driving forc', b'e behind Mount', b' St Michael\\xe2\\x80\\x99', b's incredible c', b'omeback. They ', b'won the third ', b'set 25-16 and ', b'St Leo\\xe2\\x80\\x99s gam', b'e began to fal', b'l apart.\\r\\n\\r\\nA ', b'fear of losing', b' now defined t', b'heir play, and', b' they frequent', b'ly only used t', b'wo of their th', b'ree hits, eage', b'r to simply ge', b't the ball acr', b'oss the net. M', b'eanwhile, Clar', b'emorris grew i', b'n confidence, ', b'scoring a reso', b'unding victory', b' in the fourth', b' set 25-13.\\r\\n\\r', b'\\nAs it finally', b' dawned that C', b'laremorris cou', b'ld actually wi', b'n this match, ', b'the excitement', b' and tension i', b'n the arena re', b'ached fever pi', b'tch, and the d', b'addies on the ', b'sideline (Gerr', b'y Croghan & Co', b'n Nolan) riled', b' up the crowd,', b' ably assisted', b' by vice-princ', b'ipal Margaret ', b'Burke. However', b', St Leo\\xe2\\x80\\x99s f', b'inally realise', b'd that it was ', b'still all to p', b'lay for and on', b'ce again their', b' defence, led ', b'by Sinead Ruth', b', became near-', b'impossible to ', b'break down. Ed', b'el Nolan made ', b'three excellen', b't spikes in a ', b'row only to fi', b'nd each and ev', b'ery one return', b'ed. Long ralli', b'es defined the', b' 5th and final', b' set (first to', b' 15 points but', b' the team must', b' win by 2 poin', b'ts) and every ', b'time Claremorr', b'is inched ahea', b'd St Leo\\xe2\\x80\\x99s r', b'eeled them in ', b'again. Finally', b', however, the', b'y reached 14 \\xe2', b'\\x80\\x93 13 and face', b'd their first ', b'match point. S', b'inead Croghan,', b' whose strengt', b'h was such a d', b'efining featur', b'e of her play ', b'up to this poi', b'nt, unfortunat', b'ely hit the se', b'rve long and i', b't was back to ', b'stalemate. Two', b' more match po', b'ints followed,', b' but Mount St ', b'Michael couldn', b'\\xe2\\x80\\x99t seem to f', b'inish Leo\\xe2\\x80\\x99s ', b'off. At last, ', b'with 2 sets al', b'l and 17-16 on', b' the scoreboar', b'd, Nikki Hanle', b'y served, race', b'd forward to s', b'et the ball an', b'd Edel Nolan s', b'piked the girl', b's to the sweet', b'est victory of', b' their lives. ', b'No wonder, the', b'n, she was nam', b'ed Most Valuab', b'le Player of t', b'he match.Victo', b'ry seemed unli', b'kely. Mount Sa', b'int Michael we', b're two sets do', b'wn and St. Leo', b'\\xe2\\x80\\x99s certainly', b' had the upper', b' hand in the t', b'hird set, domi', b'nating 9 point', b's to 2. Each t', b'ime St. Leo\\xe2\\x80\\x99', b's scored, they', b' pounded the g', b'round in uniso', b'n, further int', b'imidating an a', b'lready shaky C', b'laremorris tea', b'm. So how, in ', b'these circumst', b'ances, did the', b'y snatch victo', b'ry from the ja', b'ws of almost c', b'ertain defeat?', b'\\r\\n\\r\\nThe first ', b'set seemed to ', b'suggest two te', b'ams who were e', b'qually matched', b'. Michael\\xe2\\x80\\x99s ', b'fought point f', b'or point again', b'st a Leo\\xe2\\x80\\x99s t', b'eam whose defe', b'nce was almost', b' impenetrable,', b' yet Edel Nola', b'n managed to h', b'it home some i', b'mpressive spik', b'es. However, a', b's the set drew', b' to a close, t', b'hey found them', b'selves unable ', b'to finish the ', b'job and St Leo', b'\\xe2\\x80\\x99s stormed i', b'nto the second', b' set with a 25', b'-22 win in the', b' first set und', b'er their belt.', b'\\r\\n\\r\\nThis is wh', b'ere it all wen', b't wrong for Cl', b'aremorris. Hav', b'ing lost the f', b'irst set, thei', b'r nerves took ', b'over and their', b' difficulty se', b'ttling into th', b'e match was ev', b'ident in a ple', b'thora of unfor', b'ced errors, de', b'spite excellen', b't positioning ', b'by Nikki Hanle', b'y and impact s', b'ubstitutions b', b'y Lisa McGreal', b' and Jackie Pr', b'endergast. The', b'y lost the sec', b'ond set 25-19 ', b'and hope began', b' to fade for t', b'heir 200+ supp', b'orters.\\r\\n\\r\\nThe', b' third set beg', b'an in similar ', b'fashion but se', b'nsing that the', b'y now had noth', b'ing to lose \\xe2\\x80', b'\\x93 except of co', b'urse the All-I', b'reland Title \\xe2', b'\\x80\\x93 the team li', b'fted their gam', b'e tremendously', b', aided by the', b' now deafening', b' cries of thei', b'r desperate su', b'pporters, led ', b'by Lisa Brett ', b'and Chloe Hugh', b'es. Strategic ', b'use of time ou', b'ts by coach Fi', b'onnghuala King', b' saw the girls', b' finally settl', b'e into the mat', b'ch. She no dou', b'bt reminded th', b'em of their te', b'am mantra \\xe2\\x80\\x93 ', b'no matter how ', b'badly things s', b'eem to be goin', b'g \\xe2\\x80\\x98don\\xe2\\x80\\x99t l', b'ose your marbl', b'es\\xe2\\x80\\x99. Stephan', b'ie Mellet had ', b'a great run of', b' serves and ma', b'de a stunning ', b'save at this c', b'rucial point i', b'n the set. Ais', b'ling Croghan m', b'ade some unbel', b'ievable hits f', b'rom the wings ', b'and Edel Nolan', b' shone as the ', b'driving force ', b'behind Mount S', b't Michael\\xe2\\x80\\x99s ', b'incredible com', b'eback. They wo', b'n the third se', b't 25-16 and St', b' Leo\\xe2\\x80\\x99s game ', b'began to fall ', b'apart.\\r\\n\\r\\nA fe', b'ar of losing n', b'ow defined the', b'ir play, and t', b'hey frequently', b' only used two', b' of their thre', b'e hits, eager ', b'to simply get ', b'the ball acros', b's the net. Mea', b'nwhile, Clarem', b'orris grew in ', b'confidence, sc', b'oring a resoun', b'ding victory i', b'n the fourth s', b'et 25-13.\\r\\n\\r\\nA', b's it finally d', b'awned that Cla', b'remorris could', b' actually win ', b'this match, th', b'e excitement a', b'nd tension in ', b'the arena reac', b'hed fever pitc', b'h, and the dad', b'dies on the si', b'deline (Gerry ', b'Croghan & Con ', b'Nolan) riled u', b'p the crowd, a', b'bly assisted b', b'y vice-princip', b'al Margaret Bu', b'rke. However, ', b'St Leo\\xe2\\x80\\x99s fin', b'ally realised ', b'that it was st', b'ill all to pla', b'y for and once', b' again their d', b'efence, led by', b' Sinead Ruth, ', b'became near-im', b'possible to br', b'eak down. Edel', b' Nolan made th', b'ree excellent ', b'spikes in a ro', b'w only to find', b' each and ever', b'y one returned', b'. Long rallies', b' defined the 5', b'th and final s', b'et (first to 1', b'5 points but t', b'he team must w', b'in by 2 points', b') and every ti', b'me Claremorris', b' inched ahead ', b'St Leo\\xe2\\x80\\x99s ree', b'led them in ag', b'ain. Finally, ', b'however, they ', b'reached 14 \\xe2\\x80\\x93', b' 13 and faced ', b'their first ma', b'tch point. Sin', b'ead Croghan, w', b'hose strength ', b'was such a def', b'ining feature ', b'of her play up', b' to this point', b', unfortunatel', b'y hit the serv', b'e long and it ', b'was back to st', b'alemate. Two m', b'ore match poin', b'ts followed, b', b'ut Mount St Mi', b'chael couldn\\xe2\\x80', b'\\x99t seem to fin', b'ish Leo\\xe2\\x80\\x99s of', b'f. At last, wi', b'th 2 sets all ', b'and 17-16 on t', b'he scoreboard,', b' Nikki Hanley ', b'served, raced ', b'forward to set', b' the ball and ', b'Edel Nolan spi', b'ked the girls ', b'to the sweetes', b't victory of t', b'heir lives. No', b' wonder, then,', b' she was named', b' Most Valuable', b' Player of the', b' match.Victory', b' seemed unlike', b'ly. Mount Sain', b't Michael were', b' two sets down', b' and St. Leo\\xe2\\x80', b'\\x99s certainly h', b'ad the upper h', b'and in the thi', b'rd set, domina', b'ting 9 points ', b'to 2. Each tim', b'e St. Leo\\xe2\\x80\\x99s ', b'scored, they p', b'ounded the gro', b'und in unison,', b' further intim', b'idating an alr', b'eady shaky Cla', b'remorris team.', b' So how, in th', b'ese circumstan', b'ces, did they ', b'snatch victory', b' from the jaws', b' of almost cer', b'tain defeat?\\r\\n', b'\\r\\nThe first se', b't seemed to su', b'ggest two team', b's who were equ', b'ally matched. ', b'Michael\\xe2\\x80\\x99s fo', b'ught point for', b' point against', b' a Leo\\xe2\\x80\\x99s tea', b'm whose defenc', b'e was almost i', b'mpenetrable, y', b'et Edel Nolan ', b'managed to hit', b' home some imp', b'ressive spikes', b'. However, as ', b'the set drew t', b'o a close, the', b'y found themse', b'lves unable to', b' finish the jo', b'b and St Leo\\xe2\\x80', b'\\x99s stormed int', b'o the second s', b'et with a 25-2', b'2 win in the f', b'irst set under', b' their belt.\\r\\n', b'\\r\\nThis is wher', b'e it all went ', b'wrong for Clar', b'emorris. Havin', b'g lost the fir', b'st set, their ', b'nerves took ov', b'er and their d', b'ifficulty sett', b'ling into the ', b'match was evid', b'ent in a pleth', b'ora of unforce', b'd errors, desp', b'ite excellent ', b'positioning by', b' Nikki Hanley ', b'and impact sub', b'stitutions by ', b'Lisa McGreal a', b'nd Jackie Pren', b'dergast. They ', b'lost the secon', b'd set 25-19 an', b'd hope began t', b'o fade for the', b'ir 200+ suppor', b'ters.\\r\\n\\r\\nThe t', b'hird set began', b' in similar fa', b'shion but sens', b'ing that they ', b'now had nothin', b'g to lose \\xe2\\x80\\x93 ', b'except of cour', b'se the All-Ire', b'land Title \\xe2\\x80\\x93', b' the team lift', b'ed their game ', b'tremendously, ', b'aided by the n', b'ow deafening c', b'ries of their ', b'desperate supp', b'orters, led by', b' Lisa Brett an', b'd Chloe Hughes', b'. Strategic us', b'e of time outs', b' by coach Fion', b'nghuala King s', b'aw the girls f', b'inally settle ', b'into the match', b'. She no doubt', b' reminded them', b' of their team', b' mantra \\xe2\\x80\\x93 no', b' matter how ba', b'dly things see', b'm to be going ', b'\\xe2\\x80\\x98don\\xe2\\x80\\x99t los', b'e your marbles', b'\\xe2\\x80\\x99. Stephanie', b' Mellet had a ', b'great run of s', b'erves and made', b' a stunning sa', b've at this cru', b'cial point in ', b'the set. Aisli', b'ng Croghan mad', b'e some unbelie', b'vable hits fro', b'm the wings an', b'd Edel Nolan s', b'hone as the dr', b'iving force be', b'hind Mount St ', b'Michael\\xe2\\x80\\x99s in', b'credible comeb', b'ack. They won ', b'the third set ', b'25-16 and St L', b'eo\\xe2\\x80\\x99s game be', b'gan to fall ap', b'art.\\r\\n\\r\\nA fear', b' of losing now', b' defined their', b' play, and the', b'y frequently o', b'nly used two o', b'f their three ', b'hits, eager to', b' simply get th', b'e ball across ', b'the net. Meanw', b'hile, Claremor', b'ris grew in co', b'nfidence, scor', b'ing a resoundi', b'ng victory in ', b'the fourth set', b' 25-13.\\r\\n\\r\\nThe', b' first set see', b'med to suggest', b' two teams who', b' were equally ', b'matched. Micha', b'el\\xe2\\x80\\x99s fought ', b'point for poin', b't against a Le', b'o\\xe2\\x80\\x99s team who', b'se defence was', b' almost impene', b'trable, yet Ed', b'el Nolan manag', b'ed to hit home', b' some impressi', b've spikes. How', b'ever, as the s', b'et drew to a c', b'lose, they fou', b'nd themselves ', b'unable to fini', b'sh the job and', b' St Leo\\xe2\\x80\\x99s st', b'ormed into the', b' second set wi', b'th a 25-22 win', b' in the first ', b'set under thei', b'r belt.\\r\\nThe f', b'irst set seeme', b'd to suggest t', b'wo teams who w', b'ere equally ma', b'tched. Michael', b'\\xe2\\x80\\x99s fought po', b'int for point ', b'against a Leo\\xe2', b'\\x80\\x99s team whose', b' defence was a', b'lmost impenetr', b'able, yet Edel', b' Nolan managed', b' to hit home s', b'ome impressive', b' spikes. Howev', b'er, as the set', b' drew to a clo', b'se, they found', b' themselves un', b'able to finish', b' the job and S', b't Leo\\xe2\\x80\\x99s stor', b'med into the s', b'econd set with', b' a 25-22 win i', b'n the first se', b't under their ', b'belt.\\r\\n\\r\\nThe f', b'irst set seeme', b'd to suggest t', b'wo teams who w', b'ere equally ma', b'tched. Michael', b'\\xe2\\x80\\x99s fought po', b'int for point ', b'against a Leo\\xe2', b'\\x80\\x99s team whose', b' defence was a', b'lmost impenetr', b'able, yet Edel', b' Nolan managed', b' to hit home s', b'ome impressive', b' spikes. Howev', b'er, as the set', b' drew to a clo', b'se, they found', b' themselves un', b'able to finish', b' the job and S', b't Leo\\xe2\\x80\\x99s stor', b'med into the s', b'econd set with', b' a 25-22 win i', b'n the first se', b't under their ', b'belt.\\r\\n\\r\\nThis ', b'is where it al', b'l went wrong f', b'or Claremorris', b'. Having lost ', b'the first set,', b' their nerves ', b'took over and ', b'their difficul', b'ty settling in', b'to the match w', b'as evident in ', b'a plethora of ', b'unforced error', b's, despite exc', b'ellent positio', b'ning by Nikki ', b'Hanley and imp', b'act substituti', b'ons by Lisa Mc', b'Greal and Jack', b'ie Prendergast', b'. They lost th', b'e second set 2', b'5-19 and hope ', b'began to fade ', b'for their 200+', b' supporters.\\r\\n', b'\\r\\nThe third se', b't began in sim', b'ilar fashion b', b'ut sensing tha', b't they now had', b' nothing to lo', b'se \\xe2\\x80\\x93 except ', b'of course the ', b'All-Ireland Ti', b'tle \\xe2\\x80\\x93 the te', b'am lifted thei', b'r game tremend', b'ously, aided b', b'y the now deaf', b'ening cries of', b' their despera', b'te supporters,', b' led by Lisa B', b'rett and Chloe', b' Hughes. Strat', b'egic use of ti', b'me outs by coa', b'ch Fionnghuala', b' King saw the ', b'girls finally ', b'settle into th', b'e match. She n', b'o doubt remind', b'ed them of the', b'ir team mantra', b' \\xe2\\x80\\x93 no matter', b' how badly thi', b'ngs seem to be', b' going \\xe2\\x80\\x98don\\xe2', b'\\x80\\x99t lose your ', b'marbles\\xe2\\x80\\x99. St', b'ephanie Mellet', b' had a great r', b'un of serves a', b'nd made a stun', b'ning save at t', b'his crucial po', b'int in the set', b'. Aisling Crog', b'han made some ', b'unbelievable h', b'its from the w', b'ings and Edel ', b'Nolan shone as', b' the driving f', b'orce behind Mo', b'unt St Michael', b'\\xe2\\x80\\x99s incredibl', b'e comeback. Th', b'ey won the thi', b'rd set 25-16 a', b'nd St Leo\\xe2\\x80\\x99s ', b'game began to ', b'fall apart.\\r\\n\\r', b'\\nA fear of los', b'ing now define', b'd their play, ', b'and they frequ', b'ently only use', b'd two of their', b' three hits, e', b'ager to simply', b' get the ball ', b'across the net', b'. Meanwhile, C', b'laremorris gre', b'w in confidenc', b'e, scoring a r', b'esounding vict', b'ory in the fou', b'rth set 25-13.', b'\\r\\n\\r\\nAs it fina', b'lly dawned tha', b't Claremorris ', b'could actually', b' win this matc', b'h, the excitem', b'ent and tensio', b'n in the arena', b' reached fever', b' pitch, and th', b'e daddies on t', b'he sideline (G', b'erry Croghan &', b' Con Nolan) ri', b'led up the cro', b'wd, ably assis', b'ted by vice-pr', b'incipal Margar', b'et Burke. Howe', b'ver, St Leo\\xe2\\x80\\x99', b's finally real', b'ised that it w', b'as still all t', b'o play for and', b' once again th', b'eir defence, l', b'ed by Sinead R', b'uth, became ne', b'ar-impossible ', b'to break down.', b' Edel Nolan ma', b'de three excel', b'lent spikes in', b' a row only to', b' find each and', b' every one ret', b'urned. Long ra', b'llies defined ', b'the 5th and fi', b'nal set (first', b' to 15 points ', b'but the team m', b'ust win by 2 p', b'oints) and eve', b'ry time Clarem', b'orris inched a', b'head St Leo\\xe2\\x80\\x99', b's reeled them ', b'in again. Fina', b'lly, however, ', b'they reached 1', b'4 \\xe2\\x80\\x93 13 and f', b'aced their fir', b'st match point', b'. Sinead Crogh', b'an, whose stre', b'ngth was such ', b'a defining fea', b'ture of her pl', b'ay up to this ', b'point, unfortu', b'nately hit the', b' serve long an', b'd it was back ', b'to stalemate. ', b'Two more match', b' points follow', b'ed, but Mount ', b'St Michael cou', b'ldn\\xe2\\x80\\x99t seem t', b'o finish Leo\\xe2\\x80', b'\\x99s off. At las', b't, with 2 sets', b' all and 17-16', b' on the scoreb', b'oard, Nikki Ha', b'nley served, r', b'aced forward t', b'o set the ball', b' and Edel Nola', b'n spiked the g', b'irls to the sw', b'eetest victory', b' of their live', b's. No wonder, ', b'then, she was ', b'named Most Val', b'uable Player o', b'f the match.Vi', b'ctory seemed u', b'nlikely. Mount', b' Saint Michael', b' were two sets', b' down and St. ', b'Leo\\xe2\\x80\\x99s certai', b'nly had the up', b'per hand in th', b'e third set, d', b'ominating 9 po', b'ints to 2. Eac', b'h time St. Leo', b'\\xe2\\x80\\x99s scored, t', b'hey pounded th', b'e ground in un', b'ison, further ', b'intimidating a', b'n already shak', b'y Claremorris ', b'team. So how, ', b'in these circu', b'mstances, did ', b'they snatch vi', b'ctory from the', b' jaws of almos', b't certain defe', b'at?\\r\\n\\r\\nThe fir', b'st set seemed ', b'to suggest two', b' teams who wer', b'e equally matc', b'hed. Michael\\xe2\\x80', b'\\x99s fought poin', b't for point ag', b'ainst a Leo\\xe2\\x80\\x99', b's team whose d', b'efence was alm', b'ost impenetrab', b'le, yet Edel N', b'olan managed t', b'o hit home som', b'e impressive s', b'pikes. However', b', as the set d', b'rew to a close', b', they found t', b'hemselves unab', b'le to finish t', b'he job and St ', b'Leo\\xe2\\x80\\x99s storme', b'd into the sec', b'ond set with a', b' 25-22 win in ', b'the first set ', b'under their be', b'lt.\\r\\n\\r\\nThis is', b' where it all ', b'went wrong for', b' Claremorris. ', b'Having lost th', b'e first set, t', b'heir nerves to', b'ok over and th', b'eir difficulty', b' settling into', b' the match was', b' evident in a ', b'plethora of un', b'forced errors,', b' despite excel', b'lent positioni', b'ng by Nikki Ha', b'nley and impac', b't substitution', b's by Lisa McGr', b'eal and Jackie', b' Prendergast. ', b'They lost the ', b'second set 25-', b'19 and hope be', b'gan to fade fo', b'r their 200+ s', b'upporters.\\r\\n\\r\\n', b'The third set ', b'began in simil', b'ar fashion but', b' sensing that ', b'they now had n', b'othing to lose', b' \\xe2\\x80\\x93 except of', b' course the Al', b'l-Ireland Titl', b'e \\xe2\\x80\\x93 the team', b' lifted their ', b'game tremendou', b'sly, aided by ', b'the now deafen', b'ing cries of t', b'heir desperate', b' supporters, l', b'ed by Lisa Bre', b'tt and Chloe H', b'ughes. Strateg', b'ic use of time', b' outs by coach', b' Fionnghuala K', b'ing saw the gi', b'rls finally se', b'ttle into the ', b'match. She no ', b'doubt reminded', b' them of their', b' team mantra \\xe2', b'\\x80\\x93 no matter h', b'ow badly thing', b's seem to be g', b'oing \\xe2\\x80\\x98don\\xe2\\x80\\x99', b't lose your ma', b'rbles\\xe2\\x80\\x99. Step', b'hanie Mellet h', b'ad a great run', b' of serves and', b' made a stunni', b'ng save at thi', b's crucial poin', b't in the set. ', b'Aisling Crogha', b'n made some un', b'believable hit', b's from the win', b'gs and Edel No', b'lan shone as t', b'he driving for', b'ce behind Moun', b't St Michael\\xe2\\x80', b'\\x99s incredible ', b'comeback. They', b' won the third', b' set 25-16 and', b' St Leo\\xe2\\x80\\x99s ga', b'me began to fa', b'll apart.\\r\\n\\r\\nA', b' fear of losin', b'g now defined ', b'their play, an', b'd they frequen', b'tly only used ', b'two of their t', b'hree hits, eag', b'er to simply g', b'et the ball ac', b'ross the net. ', b'Meanwhile, Cla', b'remorris grew ', b'in confidence,', b' scoring a res', b'ounding victor', b'y in the fourt', b'h set 25-13.\\r\\n', b'\\r\\nAs it finall', b'y dawned that ', b'Claremorris co', b'uld actually w', b'in this match,', b' the excitemen', b't and tension ', b'in the arena r', b'eached fever p', b'itch, and the ', b'daddies on the', b' sideline (Ger', b'ry Croghan & C', b'on Nolan) rile', b'd up the crowd', b', ably assiste', b'd by vice-prin', b'cipal Margaret', b' Burke. Howeve', b'r, St Leo\\xe2\\x80\\x99s ', b'finally realis', b'ed that it was', b' still all to ', b'play for and o', b'nce again thei', b'r defence, led', b' by Sinead Rut', b'h, became near', b'-impossible to', b' break down. E', b'del Nolan made', b' three excelle', b'nt spikes in a', b' row only to f', b'ind each and e', b'very one retur', b'ned. Long rall', b'ies defined th', b'e 5th and fina', b'l set (first t', b'o 15 points bu', b't the team mus', b't win by 2 poi', b'nts) and every', b' time Claremor', b'ris inched ahe', b'ad St Leo\\xe2\\x80\\x99s ', b'reeled them in', b' again. Finall', b'y, however, th', b'ey reached 14 ', b'\\xe2\\x80\\x93 13 and fac', b'ed their first', b' match point. ', b'Sinead Croghan', b', whose streng', b'th was such a ', b'defining featu', b're of her play', b' up to this po', b'int, unfortuna', b'tely hit the s', b'erve long and ', b'it was back to', b' stalemate. Tw', b'o more match p', b'oints followed', b', but Mount St', b' Michael could', b'n\\xe2\\x80\\x99t seem to ', b'finish Leo\\xe2\\x80\\x99s', b' off. At last,', b' with 2 sets a', b'll and 17-16 o', b'n the scoreboa', b'rd, Nikki Hanl', b'ey served, rac', b'ed forward to ', b'set the ball a', b'nd Edel Nolan ', b'spiked the gir', b'ls to the swee', b'test victory o', b'f their lives.', b' No wonder, th', b'en, she was na', b'med Most Valua', b'ble Player of ', b'the match.Vict', b'ory seemed unl', b'ikely. Mount S', b'aint Michael w', b'ere two sets d', b'own and St. Le', b'o\\xe2\\x80\\x99s certainl', b'y had the uppe', b'r hand in the ', b'third set, dom', b'inating 9 poin', b'ts to 2. Each ', b'time St. Leo\\xe2\\x80', b'\\x99s scored, the', b'y pounded the ', b'ground in unis', b'on, further in', b'timidating an ', b'already shaky ', b'Claremorris te', b'am. So how, in', b' these circums', b'tances, did th', b'ey snatch vict', b'ory from the j', b'aws of almost ', b'certain defeat', b'?\\r\\n\\r\\nThe first', b' set seemed to', b' suggest two t', b'eams who were ', b'equally matche', b'd. Michael\\xe2\\x80\\x99s', b' fought point ', b'for point agai', b'nst a Leo\\xe2\\x80\\x99s ', b'team whose def', b'ence was almos', b't impenetrable', b', yet Edel Nol', b'an managed to ', b'hit home some ', b'impressive spi', b'kes. However, ', b'as the set dre', b'w to a close, ', b'they found the', b'mselves unable', b' to finish the', b' job and St Le', b'o\\xe2\\x80\\x99s stormed ', b'into the secon', b'd set with a 2', b'5-22 win in th', b'e first set un', b'der their belt', b'.\\r\\n\\r\\nThis is w', b'here it all we', b'nt wrong for C', b'laremorris. Ha', b'ving lost the ', b'first set, the', b'ir nerves took', b' over and thei', b'r difficulty s', b'ettling into t', b'he match was e', b'vident in a pl', b'ethora of unfo', b'rced errors, d', b'espite excelle', b'nt positioning', b' by Nikki Hanl', b'ey and impact ', b'substitutions ', b'by Lisa McGrea', b'l and Jackie P', b'rendergast. Th', b'ey lost the se', b'cond set 25-19', b' and hope bega', b'n to fade for ', b'their 200+ sup', b'porters.\\r\\n\\r\\nTh', b'e third set be', b'gan in similar', b' fashion but s', b'ensing that th', b'ey now had not', b'hing to lose \\xe2', b'\\x80\\x93 except of c', b'ourse the All-', b'Ireland Title ', b'\\xe2\\x80\\x93 the team l', b'ifted their ga', b'me tremendousl', b'y, aided by th', b'e now deafenin', b'g cries of the', b'ir desperate s', b'upporters, led', b' by Lisa Brett', b' and Chloe Hug', b'hes. Strategic', b' use of time o', b'uts by coach F', b'ionnghuala Kin', b'g saw the girl', b's finally sett', b'le into the ma', b'tch. She no do', b'ubt reminded t', b'hem of their t', b'eam mantra \\xe2\\x80\\x93', b' no matter how', b' badly things ', b'seem to be goi', b'ng \\xe2\\x80\\x98don\\xe2\\x80\\x99t ', b'lose your marb', b'les\\xe2\\x80\\x99. Stepha', b'nie Mellet had', b' a great run o', b'f serves and m', b'ade a stunning', b' save at this ', b'crucial point ', b'in the set. Ai', b'sling Croghan ', b'made some unbe', b'lievable hits ', b'from the wings', b' and Edel Nola', b'n shone as the', b' driving force', b' behind Mount ', b'St Michael\\xe2\\x80\\x99s', b' incredible co', b'meback. They w', b'on the third s', b'et 25-16 and S', b't Leo\\xe2\\x80\\x99s game', b' began to fall', b' apart.\\r\\n\\r\\nA f', b'ear of losing ', b'now defined th', b'eir play, and ', b'they frequentl', b'y only used tw', b'o of their thr', b'ee hits, eager', b' to simply get', b' the ball acro', b'ss the net. Me', b'anwhile, Clare', b'morris grew in', b' confidence, s', b'coring a resou', b'nding victory ', b'in the fourth ', b'set 25-13.\\r\\n\\r\\n', b'The first set ', b'seemed to sugg', b'est two teams ', b'who were equal', b'ly matched. Mi', b'chael\\xe2\\x80\\x99s foug', b'ht point for p', b'oint against a', b' Leo\\xe2\\x80\\x99s team ', b'whose defence ', b'was almost imp', b'enetrable, yet', b' Edel Nolan ma', b'naged to hit h', b'ome some impre', b'ssive spikes. ', b'However, as th', b'e set drew to ', b'a close, they ', b'found themselv', b'es unable to f', b'inish the job ', b'and St Leo\\xe2\\x80\\x99s', b' stormed into ', b'the second set', b' with a 25-22 ', b'win in the fir', b'st set under t', b'heir belt.\\r\\nTh', b'e first set se', b'emed to sugges', b't two teams wh', b'o were equally', b' matched. Mich', b'ael\\xe2\\x80\\x99s fought', b' point for poi', b'nt against a L', b'eo\\xe2\\x80\\x99s team wh', b'ose defence wa', b's almost impen', b'etrable, yet E', b'del Nolan mana', b'ged to hit hom', b'e some impress', b'ive spikes. Ho', b'wever, as the ', b'set drew to a ', b'close, they fo', b'und themselves', b' unable to fin', b'ish the job an', b'd St Leo\\xe2\\x80\\x99s s', b'tormed into th', b'e second set w', b'ith a 25-22 wi', b'n in the first', b' set under the', b'ir belt.\\r\\n\\r\\nTh', b'e first set se', b'emed to sugges', b't two teams wh', b'o were equally', b' matched. Mich', b'ael\\xe2\\x80\\x99s fought', b' point for poi', b'nt against a L', b'eo\\xe2\\x80\\x99s team wh', b'ose defence wa', b's almost impen', b'etrable, yet E', b'del Nolan mana', b'ged to hit hom', b'e some impress', b'ive spikes. Ho', b'wever, as the ', b'set drew to a ', b'close, they fo', b'und themselves', b' unable to fin', b'ish the job an', b'd St Leo\\xe2\\x80\\x99s s', b'tormed into th', b'e second set w', b'ith a 25-22 wi', b'n in the first', b' set under the', b'ir belt.\\r\\n\\r\\nTh', b'is is where it', b' all went wron', b'g for Claremor', b'ris. Having lo', b'st the first s', b'et, their nerv', b'es took over a', b'nd their diffi', b'culty settling', b' into the matc', b'h was evident ', b'in a plethora ', b'of unforced er', b'rors, despite ', b'excellent posi', b'tioning by Nik', b'ki Hanley and ', b'impact substit', b'utions by Lisa', b' McGreal and J', b'ackie Prenderg', b'ast. They lost', b' the second se', b't 25-19 and ho', b'pe began to fa', b'de for their 2', b'00+ supporters', b'.\\r\\n\\r\\nThe third', b' set began in ', b'similar fashio', b'n but sensing ', b'that they now ', b'had nothing to', b' lose \\xe2\\x80\\x93 exce', b'pt of course t', b'he All-Ireland', b' Title \\xe2\\x80\\x93 the', b' team lifted t', b'heir game trem', b'endously, aide', b'd by the now d', b'eafening cries', b' of their desp', b'erate supporte', b'rs, led by Lis', b'a Brett and Ch', b'loe Hughes. St', b'rategic use of', b' time outs by ', b'coach Fionnghu', b'ala King saw t', b'he girls final', b'ly settle into', b' the match. Sh', b'e no doubt rem', b'inded them of ', b'their team man', b'tra \\xe2\\x80\\x93 no mat', b'ter how badly ', b'things seem to', b' be going \\xe2\\x80\\x98d', b'on\\xe2\\x80\\x99t lose yo', b'ur marbles\\xe2\\x80\\x99.', b' Stephanie Mel', b'let had a grea', b't run of serve', b's and made a s', b'tunning save a', b't this crucial', b' point in the ', b'set. Aisling C', b'roghan made so', b'me unbelievabl', b'e hits from th', b'e wings and Ed', b'el Nolan shone', b' as the drivin', b'g force behind', b' Mount St Mich', b'ael\\xe2\\x80\\x99s incred', b'ible comeback.', b' They won the ', b'third set 25-1', b'6 and St Leo\\xe2\\x80', b'\\x99s game began ', b'to fall apart.', b'\\r\\n\\r\\nA fear of ', b'losing now def', b'ined their pla', b'y, and they fr', b'equently only ', b'used two of th', b'eir three hits', b', eager to sim', b'ply get the ba', b'll across the ', b'net. Meanwhile', b', Claremorris ', b'grew in confid', b'ence, scoring ', b'a resounding v', b'ictory in the ', b'fourth set 25-', b'13.\\r\\n\\r\\nAs it f', b'inally dawned ', b'that Claremorr', b'is could actua', b'lly win this m', b'atch, the exci', b'tement and ten', b'sion in the ar', b'ena reached fe', b'ver pitch, and', b' the daddies o', b'n the sideline', b' (Gerry Crogha', b'n & Con Nolan)', b' riled up the ', b'crowd, ably as', b'sisted by vice', b'-principal Mar', b'garet Burke. H', b'owever, St Leo', b'\\xe2\\x80\\x99s finally r', b'ealised that i', b't was still al', b'l to play for ', b'and once again', b' their defence', b', led by Sinea', b'd Ruth, became', b' near-impossib', b'le to break do', b'wn. Edel Nolan', b' made three ex', b'cellent spikes', b' in a row only', b' to find each ', b'and every one ', b'returned. Long', b' rallies defin', b'ed the 5th and', b' final set (fi', b'rst to 15 poin', b'ts but the tea', b'm must win by ', b'2 points) and ', b'every time Cla', b'remorris inche', b'd ahead St Leo', b'\\xe2\\x80\\x99s reeled th', b'em in again. F', b'inally, howeve', b'r, they reache', b'd 14 \\xe2\\x80\\x93 13 an', b'd faced their ', b'first match po', b'int. Sinead Cr', b'oghan, whose s', b'trength was su', b'ch a defining ', b'feature of her', b' play up to th', b'is point, unfo', b'rtunately hit ', b'the serve long', b' and it was ba', b'ck to stalemat', b'e. Two more ma', b'tch points fol', b'lowed, but Mou', b'nt St Michael ', b'couldn\\xe2\\x80\\x99t see', b'm to finish Le', b'o\\xe2\\x80\\x99s off. At ', b'last, with 2 s', b'ets all and 17', b'-16 on the sco', b'reboard, Nikki', b' Hanley served', b', raced forwar', b'd to set the b', b'all and Edel N', b'olan spiked th', b'e girls to the', b' sweetest vict', b'ory of their l', b'ives. No wonde', b'r, then, she w', b'as named Most ', b'Valuable Playe', b'r of the match', b'.Victory seeme', b'd unlikely. Mo', b'unt Saint Mich', b'ael were two s', b'ets down and S', b't. Leo\\xe2\\x80\\x99s cer', b'tainly had the', b' upper hand in', b' the third set', b', dominating 9', b' points to 2. ', b'Each time St. ', b'Leo\\xe2\\x80\\x99s scored', b', they pounded', b' the ground in', b' unison, furth', b'er intimidatin', b'g an already s', b'haky Claremorr', b'is team. So ho', b'w, in these ci', b'rcumstances, d', b'id they snatch', b' victory from ', b'the jaws of al', b'most certain d', b'efeat?\\r\\n\\r\\nThe ', b'first set seem', b'ed to suggest ', b'two teams who ', b'were equally m', b'atched. Michae', b'l\\xe2\\x80\\x99s fought p', b'oint for point', b' against a Leo', b'\\xe2\\x80\\x99s team whos', b'e defence was ', b'almost impenet', b'rable, yet Ede', b'l Nolan manage', b'd to hit home ', b'some impressiv', b'e spikes. Howe', b'ver, as the se', b't drew to a cl', b'ose, they foun', b'd themselves u', b'nable to finis', b'h the job and ', b'St Leo\\xe2\\x80\\x99s sto', b'rmed into the ', b'second set wit', b'h a 25-22 win ', b'in the first s', b'et under their', b' belt.\\r\\n\\r\\nThis', b' is where it a', b'll went wrong ', b'for Claremorri', b's. Having lost', b' the first set', b', their nerves', b' took over and', b' their difficu', b'lty settling i', b'nto the match ', b'was evident in', b' a plethora of', b' unforced erro', b'rs, despite ex', b'cellent positi', b'oning by Nikki', b' Hanley and im', b'pact substitut', b'ions by Lisa M', b'cGreal and Jac', b'kie Prendergas', b't. They lost t', b'he second set ', b'25-19 and hope', b' began to fade', b' for their 200', b'+ supporters.\\r', b'\\n\\r\\nThe third s', b'et began in si', b'milar fashion ', b'but sensing th', b'at they now ha', b'd nothing to l', b'ose \\xe2\\x80\\x93 except', b' of course the', b' All-Ireland T', b'itle \\xe2\\x80\\x93 the t', b'eam lifted the', b'ir game tremen', b'dously, aided ', b'by the now dea', b'fening cries o', b'f their desper', b'ate supporters', b', led by Lisa ', b'Brett and Chlo', b'e Hughes. Stra', b'tegic use of t', b'ime outs by co', b'ach Fionnghual', b'a King saw the', b' girls finally', b' settle into t', b'he match. She ', b'no doubt remin', b'ded them of th', b'eir team mantr', b'a \\xe2\\x80\\x93 no matte', b'r how badly th', b'ings seem to b', b'e going \\xe2\\x80\\x98don', b'\\xe2\\x80\\x99t lose your', b' marbles\\xe2\\x80\\x99. S', b'tephanie Melle', b't had a great ', b'run of serves ', b'and made a stu', b'nning save at ', b'this crucial p', b'oint in the se', b't. Aisling Cro', b'ghan made some', b' unbelievable ', b'hits from the ', b'wings and Edel', b' Nolan shone a', b's the driving ', b'force behind M', b'ount St Michae', b'l\\xe2\\x80\\x99s incredib', b'le comeback. T', b'hey won the th', b'ird set 25-16 ', b'and St Leo\\xe2\\x80\\x99s', b' game began to', b' fall apart.\\r\\n', b'\\r\\nA fear of lo', b'sing now defin', b'ed their play,', b' and they freq', b'uently only us', b'ed two of thei', b'r three hits, ', b'eager to simpl', b'y get the ball', b' across the ne', b't. Meanwhile, ', b'Claremorris gr', b'ew in confiden', b'ce, scoring a ', b'resounding vic', b'tory in the fo', b'urth set 25-13', b'.\\r\\n\\r\\nAs it fin', b'ally dawned th', b'at Claremorris', b' could actuall', b'y win this mat', b'ch, the excite', b'ment and tensi', b'on in the aren', b'a reached feve', b'r pitch, and t', b'he daddies on ', b'the sideline (', b'Gerry Croghan ', b'& Con Nolan) r', b'iled up the cr', b'owd, ably assi', b'sted by vice-p', b'rincipal Marga', b'ret Burke. How', b'ever, St Leo\\xe2\\x80', b'\\x99s finally rea', b'lised that it ', b'was still all ', b'to play for an', b'd once again t', b'heir defence, ', b'led by Sinead ', b'Ruth, became n', b'ear-impossible', b' to break down', b'. Edel Nolan m', b'ade three exce', b'llent spikes i', b'n a row only t', b'o find each an', b'd every one re', b'turned. Long r', b'allies defined', b' the 5th and f', b'inal set (firs', b't to 15 points', b' but the team ', b'must win by 2 ', b'points) and ev', b'ery time Clare', b'morris inched ', b'ahead St Leo\\xe2\\x80', b'\\x99s reeled them', b' in again. Fin', b'ally, however,', b' they reached ', b'14 \\xe2\\x80\\x93 13 and ', b'faced their fi', b'rst match poin', b't. Sinead Crog', b'han, whose str', b'ength was such', b' a defining fe', b'ature of her p', b'lay up to this', b' point, unfort', b'unately hit th', b'e serve long a', b'nd it was back', b' to stalemate.', b' Two more matc', b'h points follo', b'wed, but Mount', b' St Michael co', b'uldn\\xe2\\x80\\x99t seem ', b'to finish Leo\\xe2', b'\\x80\\x99s off. At la', b'st, with 2 set', b's all and 17-1', b'6 on the score', b'board, Nikki H', b'anley served, ', b'raced forward ', b'to set the bal', b'l and Edel Nol', b'an spiked the ', b'girls to the s', b'weetest victor', b'y of their liv', b'es. No wonder,', b' then, she was', b' named Most Va', b'luable Player ', b'of the match.V', b'ictory seemed ', b'unlikely. Moun', b't Saint Michae', b'l were two set', b's down and St.', b' Leo\\xe2\\x80\\x99s certa', b'inly had the u', b'pper hand in t', b'he third set, ', b'dominating 9 p', b'oints to 2. Ea', b'ch time St. Le', b'o\\xe2\\x80\\x99s scored, ', b'they pounded t', b'he ground in u', b'nison, further', b' intimidating ', b'an already sha', b'ky Claremorris', b' team. So how,', b' in these circ', b'umstances, did', b' they snatch v', b'ictory from th', b'e jaws of almo', b'st certain def', b'eat?\\r\\n\\r\\nThe fi', b'rst set seemed', b' to suggest tw', b'o teams who we', b're equally mat', b'ched. Michael\\xe2', b'\\x80\\x99s fought poi', b'nt for point a', b'gainst a Leo\\xe2\\x80', b'\\x99s team whose ', b'defence was al', b'most impenetra', b'ble, yet Edel ', b'Nolan managed ', b'to hit home so', b'me impressive ', b'spikes. Howeve', b'r, as the set ', b'drew to a clos', b'e, they found ', b'themselves una', b'ble to finish ', b'the job and St', b' Leo\\xe2\\x80\\x99s storm', b'ed into the se', b'cond set with ', b'a 25-22 win in', b' the first set', b' under their b', b'elt.\\r\\n\\r\\nThis i', b's where it all', b' went wrong fo', b'r Claremorris.', b' Having lost t', b'he first set, ', b'their nerves t', b'ook over and t', b'heir difficult', b'y settling int', b'o the match wa', b's evident in a', b' plethora of u', b'nforced errors', b', despite exce', b'llent position', b'ing by Nikki H', b'anley and impa', b'ct substitutio', b'ns by Lisa McG', b'real and Jacki', b'e Prendergast.', b' They lost the', b' second set 25', b'-19 and hope b', b'egan to fade f', b'or their 200+ ', b'supporters.\\r\\n\\r', b'\\nThe third set', b' began in simi', b'lar fashion bu', b't sensing that', b' they now had ', b'nothing to los', b'e \\xe2\\x80\\x93 except o', b'f course the A', b'll-Ireland Tit', b'le \\xe2\\x80\\x93 the tea', b'm lifted their', b' game tremendo', b'usly, aided by', b' the now deafe', b'ning cries of ', b'their desperat', b'e supporters, ', b'led by Lisa Br', b'ett and Chloe ', b'Hughes. Strate', b'gic use of tim', b'e outs by coac', b'h Fionnghuala ', b'King saw the g', b'irls finally s', b'ettle into the', b' match. She no', b' doubt reminde', b'd them of thei', b'r team mantra ', b'\\xe2\\x80\\x93 no matter ', b'how badly thin', b'gs seem to be ', b'going \\xe2\\x80\\x98don\\xe2\\x80', b'\\x99t lose your m', b'arbles\\xe2\\x80\\x99. Ste', b'phanie Mellet ', b'had a great ru', b'n of serves an', b'd made a stunn', b'ing save at th', b'is crucial poi', b'nt in the set.', b' Aisling Crogh', b'an made some u', b'nbelievable hi', b'ts from the wi', b'ngs and Edel N', b'olan shone as ', b'the driving fo', b'rce behind Mou', b'nt St Michael\\xe2', b'\\x80\\x99s incredible', b' comeback. The', b'y won the thir', b'd set 25-16 an', b'd St Leo\\xe2\\x80\\x99s g', b'ame began to f', b'all apart.\\r\\n\\r\\n', b'A fear of losi', b'ng now defined', b' their play, a', b'nd they freque', b'ntly only used', b' two of their ', b'three hits, ea', b'ger to simply ', b'get the ball a', b'cross the net.', b' Meanwhile, Cl', b'aremorris grew', b' in confidence', b', scoring a re', b'sounding victo', b'ry in the four', b'th set 25-13.\\r', b'\\n\\r\\nThe first s', b'et seemed to s', b'uggest two tea', b'ms who were eq', b'ually matched.', b' Michael\\xe2\\x80\\x99s f', b'ought point fo', b'r point agains', b't a Leo\\xe2\\x80\\x99s te', b'am whose defen', b'ce was almost ', b'impenetrable, ', b'yet Edel Nolan', b' managed to hi', b't home some im', b'pressive spike', b's. However, as', b' the set drew ', b'to a close, th', b'ey found thems', b'elves unable t', b'o finish the j', b'ob and St Leo\\xe2', b'\\x80\\x99s stormed in', b'to the second ', b'set with a 25-', b'22 win in the ', b'first set unde', b'r their belt.\\r', b'\\nThe first set', b' seemed to sug', b'gest two teams', b' who were equa', b'lly matched. M', b'ichael\\xe2\\x80\\x99s fou', b'ght point for ', b'point against ', b'a Leo\\xe2\\x80\\x99s team', b' whose defence', b' was almost im', b'penetrable, ye', b't Edel Nolan m', b'anaged to hit ', b'home some impr', b'essive spikes.', b' However, as t', b'he set drew to', b' a close, they', b' found themsel', b'ves unable to ', b'finish the job', b' and St Leo\\xe2\\x80\\x99', b's stormed into', b' the second se', b't with a 25-22', b' win in the fi', b'rst set under ', b'their belt.\\r\\n\\r', b'\\nThe first set', b' seemed to sug', b'gest two teams', b' who were equa', b'lly matched. M', b'ichael\\xe2\\x80\\x99s fou', b'ght point for ', b'point against ', b'a Leo\\xe2\\x80\\x99s team', b' whose defence', b' was almost im', b'penetrable, ye', b't Edel Nolan m', b'anaged to hit ', b'home some impr', b'essive spikes.', b' However, as t', b'he set drew to', b' a close, they', b' found themsel', b'ves unable to ', b'finish the job', b' and St Leo\\xe2\\x80\\x99', b's stormed into', b' the second se', b't with a 25-22', b' win in the fi', b'rst set under ', b'their belt.\\r\\n\\r', b'\\nThis is where', b' it all went w', b'rong for Clare', b'morris. Having', b' lost the firs', b't set, their n', b'erves took ove', b'r and their di', b'fficulty settl', b'ing into the m', b'atch was evide', b'nt in a pletho', b'ra of unforced', b' errors, despi', b'te excellent p', b'ositioning by ', b'Nikki Hanley a', b'nd impact subs', b'titutions by L', b'isa McGreal an', b'd Jackie Prend', b'ergast. They l', b'ost the second', b' set 25-19 and', b' hope began to', b' fade for thei', b'r 200+ support', b'ers.\\r\\n\\r\\nThe th', b'ird set began ', b'in similar fas', b'hion but sensi', b'ng that they n', b'ow had nothing', b' to lose \\xe2\\x80\\x93 e', b'xcept of cours', b'e the All-Irel', b'and Title \\xe2\\x80\\x93 ', b'the team lifte', b'd their game t', b'remendously, a', b'ided by the no', b'w deafening cr', b'ies of their d', b'esperate suppo', b'rters, led by ', b'Lisa Brett and', b' Chloe Hughes.', b' Strategic use', b' of time outs ', b'by coach Fionn', b'ghuala King sa', b'w the girls fi', b'nally settle i', b'nto the match.', b' She no doubt ', b'reminded them ', b'of their team ', b'mantra \\xe2\\x80\\x93 no ', b'matter how bad', b'ly things seem', b' to be going \\xe2', b'\\x80\\x98don\\xe2\\x80\\x99t lose', b' your marbles\\xe2', b'\\x80\\x99. Stephanie ', b'Mellet had a g', b'reat run of se', b'rves and made ', b'a stunning sav', b'e at this cruc', b'ial point in t', b'he set. Aislin', b'g Croghan made', b' some unbeliev', b'able hits from', b' the wings and', b' Edel Nolan sh', b'one as the dri', b'ving force beh', b'ind Mount St M', b'ichael\\xe2\\x80\\x99s inc', b'redible comeba', b'ck. They won t', b'he third set 2', b'5-16 and St Le', b'o\\xe2\\x80\\x99s game beg', b'an to fall apa', b'rt.\\r\\n\\r\\nA fear ', b'of losing now ', b'defined their ', b'play, and they', b' frequently on', b'ly used two of', b' their three h', b'its, eager to ', b'simply get the', b' ball across t', b'he net. Meanwh', b'ile, Claremorr', b'is grew in con', b'fidence, scori', b'ng a resoundin', b'g victory in t', b'he fourth set ', b'25-13.\\r\\n\\r\\nAs i', b't finally dawn', b'ed that Clarem', b'orris could ac', b'tually win thi', b's match, the e', b'xcitement and ', b'tension in the', b' arena reached', b' fever pitch, ', b'and the daddie', b's on the sidel', b'ine (Gerry Cro', b'ghan & Con Nol', b'an) riled up t', b'he crowd, ably', b' assisted by v', b'ice-principal ', b'Margaret Burke', b'. However, St ', b'Leo\\xe2\\x80\\x99s finall', b'y realised tha', b't it was still', b' all to play f', b'or and once ag', b'ain their defe', b'nce, led by Si', b'nead Ruth, bec', b'ame near-impos', b'sible to break', b' down. Edel No', b'lan made three', b' excellent spi', b'kes in a row o', b'nly to find ea', b'ch and every o', b'ne returned. L', b'ong rallies de', b'fined the 5th ', b'and final set ', b'(first to 15 p', b'oints but the ', b'team must win ', b'by 2 points) a', b'nd every time ', b'Claremorris in', b'ched ahead St ', b'Leo\\xe2\\x80\\x99s reeled', b' them in again', b'. Finally, how', b'ever, they rea', b'ched 14 \\xe2\\x80\\x93 13', b' and faced the', b'ir first match', b' point. Sinead', b' Croghan, whos', b'e strength was', b' such a defini', b'ng feature of ', b'her play up to', b' this point, u', b'nfortunately h', b'it the serve l', b'ong and it was', b' back to stale', b'mate. Two more', b' match points ', b'followed, but ', b'Mount St Micha', b'el couldn\\xe2\\x80\\x99t ', b'seem to finish', b' Leo\\xe2\\x80\\x99s off. ', b'At last, with ', b'2 sets all and', b' 17-16 on the ', b'scoreboard, Ni', b'kki Hanley ser', b'ved, raced for', b'ward to set th', b'e ball and Ede', b'l Nolan spiked', b' the girls to ', b'the sweetest v', b'ictory of thei', b'r lives. No wo', b'nder, then, sh', b'e was named Mo', b'st Valuable Pl', b'ayer of the ma', b'tch.Victory se', b'emed unlikely.', b' Mount Saint M', b'ichael were tw', b'o sets down an', b'd St. Leo\\xe2\\x80\\x99s ', b'certainly had ', b'the upper hand', b' in the third ', b'set, dominatin', b'g 9 points to ', b'2. Each time S', b't. Leo\\xe2\\x80\\x99s sco', b'red, they poun', b'ded the ground', b' in unison, fu', b'rther intimida', b'ting an alread', b'y shaky Clarem', b'orris team. So', b' how, in these', b' circumstances', b', did they sna', b'tch victory fr', b'om the jaws of', b' almost certai', b'n defeat?\\r\\n\\r\\nT', b'he first set s', b'eemed to sugge', b'st two teams w', b'ho were equall', b'y matched. Mic', b'hael\\xe2\\x80\\x99s fough', b't point for po', b'int against a ', b'Leo\\xe2\\x80\\x99s team w', b'hose defence w', b'as almost impe', b'netrable, yet ', b'Edel Nolan man', b'aged to hit ho', b'me some impres', b'sive spikes. H', b'owever, as the', b' set drew to a', b' close, they f', b'ound themselve', b's unable to fi', b'nish the job a', b'nd St Leo\\xe2\\x80\\x99s ', b'stormed into t', b'he second set ', b'with a 25-22 w', b'in in the firs', b't set under th', b'eir belt.\\r\\n\\r\\nT', b'his is where i', b't all went wro', b'ng for Claremo', b'rris. Having l', b'ost the first ', b'set, their ner', b'ves took over ', b'and their diff', b'iculty settlin', b'g into the mat', b'ch was evident', b' in a plethora', b' of unforced e', b'rrors, despite', b' excellent pos', b'itioning by Ni', b'kki Hanley and', b' impact substi', b'tutions by Lis', b'a McGreal and ', b'Jackie Prender', b'gast. They los', b't the second s', b'et 25-19 and h', b'ope began to f', b'ade for their ', b'200+ supporter', b's.\\r\\n\\r\\nThe thir', b'd set began in', b' similar fashi', b'on but sensing', b' that they now', b' had nothing t', b'o lose \\xe2\\x80\\x93 exc', b'ept of course ', b'the All-Irelan', b'd Title \\xe2\\x80\\x93 th', b'e team lifted ', b'their game tre', b'mendously, aid', b'ed by the now ', b'deafening crie', b's of their des', b'perate support', b'ers, led by Li', b'sa Brett and C', b'hloe Hughes. S', b'trategic use o', b'f time outs by', b' coach Fionngh', b'uala King saw ', b'the girls fina', b'lly settle int', b'o the match. S', b'he no doubt re', b'minded them of', b' their team ma', b'ntra \\xe2\\x80\\x93 no ma', b'tter how badly', b' things seem t', b'o be going \\xe2\\x80\\x98', b'don\\xe2\\x80\\x99t lose y', b'our marbles\\xe2\\x80\\x99', b'. Stephanie Me', b'llet had a gre', b'at run of serv', b'es and made a ', b'stunning save ', b'at this crucia', b'l point in the', b' set. Aisling ', b'Croghan made s', b'ome unbelievab', b'le hits from t', b'he wings and E', b'del Nolan shon', b'e as the drivi', b'ng force behin', b'd Mount St Mic', b'hael\\xe2\\x80\\x99s incre', b'dible comeback', b'. They won the', b' third set 25-', b'16 and St Leo\\xe2', b'\\x80\\x99s game began', b' to fall apart', b'.\\r\\n\\r\\nA fear of', b' losing now de', b'fined their pl', b'ay, and they f', b'requently only', b' used two of t', b'heir three hit', b's, eager to si', b'mply get the b', b'all across the', b' net. Meanwhil', b'e, Claremorris', b' grew in confi', b'dence, scoring', b' a resounding ', b'victory in the', b' fourth set 25', b'-13.\\r\\n\\r\\nAs it ', b'finally dawned', b' that Claremor', b'ris could actu', b'ally win this ', b'match, the exc', b'itement and te', b'nsion in the a', b'rena reached f', b'ever pitch, an', b'd the daddies ', b'on the sidelin', b'e (Gerry Crogh', b'an & Con Nolan', b') riled up the', b' crowd, ably a', b'ssisted by vic', b'e-principal Ma', b'rgaret Burke. ', b'However, St Le', b'o\\xe2\\x80\\x99s finally ', b'realised that ', b'it was still a', b'll to play for', b' and once agai', b'n their defenc', b'e, led by Sine', b'ad Ruth, becam', b'e near-impossi', b'ble to break d', b'own. Edel Nola', b'n made three e', b'xcellent spike', b's in a row onl', b'y to find each', b' and every one', b' returned. Lon', b'g rallies defi', b'ned the 5th an', b'd final set (f', b'irst to 15 poi', b'nts but the te', b'am must win by', b' 2 points) and', b' every time Cl', b'aremorris inch', b'ed ahead St Le', b'o\\xe2\\x80\\x99s reeled t', b'hem in again. ', b'Finally, howev', b'er, they reach', b'ed 14 \\xe2\\x80\\x93 13 a', b'nd faced their', b' first match p', b'oint. Sinead C', b'roghan, whose ', b'strength was s', b'uch a defining', b' feature of he', b'r play up to t', b'his point, unf', b'ortunately hit', b' the serve lon', b'g and it was b', b'ack to stalema', b'te. Two more m', b'atch points fo', b'llowed, but Mo', b'unt St Michael', b' couldn\\xe2\\x80\\x99t se', b'em to finish L', b'eo\\xe2\\x80\\x99s off. At', b' last, with 2 ', b'sets all and 1', b'7-16 on the sc', b'oreboard, Nikk', b'i Hanley serve', b'd, raced forwa', b'rd to set the ', b'ball and Edel ', b'Nolan spiked t', b'he girls to th', b'e sweetest vic', b'tory of their ', b'lives. No wond', b'er, then, she ', b'was named Most', b' Valuable Play', b'er of the matc', b'h.Victory seem', b'ed unlikely. M', b'ount Saint Mic', b'hael were two ', b'sets down and ', b'St. Leo\\xe2\\x80\\x99s ce', b'rtainly had th', b'e upper hand i', b'n the third se', b't, dominating ', b'9 points to 2.', b' Each time St.', b' Leo\\xe2\\x80\\x99s score', b'd, they pounde', b'd the ground i', b'n unison, furt', b'her intimidati', b'ng an already ', b'shaky Claremor', b'ris team. So h', b'ow, in these c', b'ircumstances, ', b'did they snatc', b'h victory from', b' the jaws of a', b'lmost certain ', b'defeat?\\r\\n\\r\\nThe', b' first set see', b'med to suggest', b' two teams who', b' were equally ', b'matched. Micha', b'el\\xe2\\x80\\x99s fought ', b'point for poin', b't against a Le', b'o\\xe2\\x80\\x99s team who', b'se defence was', b' almost impene', b'trable, yet Ed', b'el Nolan manag', b'ed to hit home', b' some impressi', b've spikes. How', b'ever, as the s', b'et drew to a c', b'lose, they fou', b'nd themselves ', b'unable to fini', b'sh the job and', b' St Leo\\xe2\\x80\\x99s st', b'ormed into the', b' second set wi', b'th a 25-22 win', b' in the first ', b'set under thei', b'r belt.\\r\\n\\r\\nThi', b's is where it ', b'all went wrong', b' for Claremorr', b'is. Having los', b't the first se', b't, their nerve', b's took over an', b'd their diffic', b'ulty settling ', b'into the match', b' was evident i', b'n a plethora o', b'f unforced err', b'ors, despite e', b'xcellent posit', b'ioning by Nikk', b'i Hanley and i', b'mpact substitu', b'tions by Lisa ', b'McGreal and Ja', b'ckie Prenderga', b'st. They lost ', b'the second set', b' 25-19 and hop', b'e began to fad', b'e for their 20', b'0+ supporters.', b'\\r\\n\\r\\nThe third ', b'set began in s', b'imilar fashion', b' but sensing t', b'hat they now h', b'ad nothing to ', b'lose \\xe2\\x80\\x93 excep', b't of course th', b'e All-Ireland ', b'Title \\xe2\\x80\\x93 the ', b'team lifted th', b'eir game treme', b'ndously, aided', b' by the now de', b'afening cries ', b'of their despe', b'rate supporter', b's, led by Lisa', b' Brett and Chl', b'oe Hughes. Str', b'ategic use of ', b'time outs by c', b'oach Fionnghua', b'la King saw th', b'e girls finall', b'y settle into ', b'the match. She', b' no doubt remi', b'nded them of t', b'heir team mant', b'ra \\xe2\\x80\\x93 no matt', b'er how badly t', b'hings seem to ', b'be going \\xe2\\x80\\x98do', b'n\\xe2\\x80\\x99t lose you', b'r marbles\\xe2\\x80\\x99. ', b'Stephanie Mell', b'et had a great', b' run of serves', b' and made a st', b'unning save at', b' this crucial ', b'point in the s', b'et. Aisling Cr', b'oghan made som', b'e unbelievable', b' hits from the', b' wings and Ede', b'l Nolan shone ', b'as the driving', b' force behind ', b'Mount St Micha', b'el\\xe2\\x80\\x99s incredi', b'ble comeback. ', b'They won the t', b'hird set 25-16', b' and St Leo\\xe2\\x80\\x99', b's game began t', b'o fall apart.\\r', b'\\n\\r\\nA fear of l', b'osing now defi', b'ned their play', b', and they fre', b'quently only u', b'sed two of the', b'ir three hits,', b' eager to simp', b'ly get the bal', b'l across the n', b'et. Meanwhile,', b' Claremorris g', b'rew in confide', b'nce, scoring a', b' resounding vi', b'ctory in the f', b'ourth set 25-1', b'3.\\r\\n\\r\\nThe firs', b't set seemed t', b'o suggest two ', b'teams who were', b' equally match', b'ed. Michael\\xe2\\x80\\x99', b's fought point', b' for point aga', b'inst a Leo\\xe2\\x80\\x99s', b' team whose de', b'fence was almo', b'st impenetrabl', b'e, yet Edel No', b'lan managed to', b' hit home some', b' impressive sp', b'ikes. However,', b' as the set dr', b'ew to a close,', b' they found th', b'emselves unabl', b'e to finish th', b'e job and St L', b'eo\\xe2\\x80\\x99s stormed', b' into the seco', b'nd set with a ', b'25-22 win in t', b'he first set u', b'nder their bel', b't.\\r\\nThe first ', b'set seemed to ', b'suggest two te', b'ams who were e', b'qually matched', b'. Michael\\xe2\\x80\\x99s ', b'fought point f', b'or point again', b'st a Leo\\xe2\\x80\\x99s t', b'eam whose defe', b'nce was almost', b' impenetrable,', b' yet Edel Nola', b'n managed to h', b'it home some i', b'mpressive spik', b'es. However, a', b's the set drew', b' to a close, t', b'hey found them', b'selves unable ', b'to finish the ', b'job and St Leo', b'\\xe2\\x80\\x99s stormed i', b'nto the second', b' set with a 25', b'-22 win in the', b' first set und', b'er their belt.', b'\\r\\n\\r\\n\\r\\n\\r\\nThe th', b'ird set began ', b'in similar fas', b'hion but sensi', b'ng that they n', b'ow had nothing', b' to lose \\xe2\\x80\\x93 e', b'xcept of cours', b'e the All-Irel', b'and Title \\xe2\\x80\\x93 ', b'the team lifte', b'd their game t', b'remendously, a', b'ided by the no', b'w deafening cr', b'ies of their d', b'esperate suppo', b'rters, led by ', b'Lisa Brett and', b' Chloe Hughes.', b' Strategic use', b' of time outs ', b'by coach Fionn', b'ghuala King sa', b'w the girls fi', b'nally settle i', b'nto the match.', b' She no doubt ', b'reminded them ', b'of their team ', b'mantra \\xe2\\x80\\x93 no ', b'matter how bad', b'ly things seem', b' to be going \\xe2', b'\\x80\\x98don\\xe2\\x80\\x99t lose', b' your marbles\\xe2', b'\\x80\\x99. Stephanie ', b'Mellet had a g', b'reat run of se', b'rves and made ', b'a stunning sav', b'e at this cruc', b'ial point in t', b'he set. Aislin', b'g Croghan made', b' some unbeliev', b'able hits from', b' the wings and', b' Edel Nolan sh', b'one as the dri', b'ving force beh', b'ind Mount St M', b'ichael\\xe2\\x80\\x99s inc', b'redible comeba', b'ck. They won t', b'he third set 2', b'5-16 and St Le', b'o\\xe2\\x80\\x99s game beg', b'an to fall apa', b'rt.\\r\\n\\r\\n\\r\\n\\r\\nThe', b' third set beg', b'an in similar ', b'fashion but se', b'nsing that the', b'y now had noth', b'ing to lose \\xe2\\x80', b'\\x93 except of co', b'urse the All-I', b'reland Title \\xe2', b'\\x80\\x93 the team li', b'fted their gam', b'e tremendously', b', aided by the', b' now deafening', b' cries of thei', b'r desperate su', b'pporters, led ', b'by Lisa Brett ', b'and Chloe Hugh', b'es. Strategic ', b'use of time ou', b'ts by coach Fi', b'onnghuala King', b' saw the girls', b' finally settl', b'e into the mat', b'ch. She no dou', b'bt reminded th', b'em of their te', b'am mantra \\xe2\\x80\\x93 ', b'no matter how ', b'badly things s', b'eem to be goin', b'g \\xe2\\x80\\x98don\\xe2\\x80\\x99t l', b'ose your marbl', b'es\\xe2\\x80\\x99. Stephan', b'ie Mellet had ', b'a great run of', b' serves and ma', b'de a stunning ', b'save at this c', b'rucial point i', b'n the set. Ais', b'ling Croghan m', b'ade some unbel', b'ievable hits f', b'rom the wings ', b'and Edel Nolan', b' shone as the ', b'driving force ', b'behind Mount S', b't Michael\\xe2\\x80\\x99s ', b'incredible com', b'eback. They wo', b'n the third se', b't 25-16 and St', b' Leo\\xe2\\x80\\x99s game ', b'began to fall ', b'apart.\\r\\n\\r\\n\\r\\nAs', b' it finally da', b'wned that Clar', b'emorris could ', b'actually win t', b'his match, the', b' excitement an', b'd tension in t', b'he arena reach', b'ed fever pitch', b', and the dadd', b'ies on the sid', b'eline (Gerry C', b'roghan & Con N', b'olan) riled up', b' the crowd, ab', b'ly assisted by', b' vice-principa', b'l Margaret Bur', b'ke. However, S', b't Leo\\xe2\\x80\\x99s fina', b'lly realised t', b'hat it was sti', b'll all to play', b' for and once ', b'again their de', b'fence, led by ', b'Sinead Ruth, b', b'ecame near-imp', b'ossible to bre', b'ak down. Edel ', b'Nolan made thr', b'ee excellent s', b'pikes in a row', b' only to find ', b'each and every', b' one returned.', b' Long rallies ', b'defined the 5t', b'h and final se', b't (first to 15', b' points but th', b'e team must wi', b'n by 2 points)', b' and every tim', b'e Claremorris ', b'inched ahead S', b't Leo\\xe2\\x80\\x99s reel', b'ed them in aga', b'in. Finally, h', b'owever, they r', b'eached 14 \\xe2\\x80\\x93 ', b'13 and faced t', b'heir first mat', b'ch point. Sine', b'ad Croghan, wh', b'ose strength w', b'as such a defi', b'ning feature o', b'f her play up ', b'to this point,', b' unfortunately', b' hit the serve', b' long and it w', b'as back to sta', b'lemate. Two mo', b're match point', b's followed, bu', b't Mount St Mic', b'hael couldn\\xe2\\x80\\x99', b't seem to fini', b'sh Leo\\xe2\\x80\\x99s off', b'. At last, wit', b'h 2 sets all a', b'nd 17-16 on th', b'e scoreboard, ', b'Nikki Hanley s', b'erved, raced f', b'orward to set ', b'the ball and E', b'del Nolan spik', b'ed the girls t', b'o the sweetest', b' victory of th', b'eir lives. No ', b'wonder, then, ', b'she was named ', b'Most Valuable ', b'Player of the ', b'match.']\n"
          ]
        }
      ]
    },
    {
      "cell_type": "code",
      "source": [
        "with open('output_100KB.txt', 'wb') as f:\n",
        "\n",
        "    # write the bytes object to the file\n",
        "   for i in range(1,len(Unpadded_100KB)):\n",
        "     decrypted_data = Unpadded_100KB[i]\n",
        "     f.write(decrypted_data)"
      ],
      "metadata": {
        "id": "cpuiKfwf8F4b"
      },
      "execution_count": null,
      "outputs": []
    },
    {
      "cell_type": "markdown",
      "source": [
        "## Comparison with RSA using {1 KB, 5 KB} file:"
      ],
      "metadata": {
        "id": "w2UtBmv0Kn3m"
      }
    },
    {
      "cell_type": "code",
      "source": [
        "import os\n",
        "from Crypto.PublicKey import RSA\n",
        "from Crypto.Cipher import PKCS1_OAEP\n",
        "\n",
        "def encrypt_file(input_path, output_path, key):\n",
        "    # Initialize cipher object\n",
        "    cipher = PKCS1_OAEP.new(key)\n",
        "\n",
        "    # Define chunk size\n",
        "    chunk_size = 32 # 1 MB\n",
        "\n",
        "    # Read input file in chunks and encrypt each chunk\n",
        "    with open(input_path, 'rb') as in_file, open(output_path, 'wb') as out_file:\n",
        "        while True:\n",
        "            chunk = in_file.read(chunk_size)\n",
        "            if len(chunk) == 0:\n",
        "                break\n",
        "            encrypted_chunk = cipher.encrypt(chunk)\n",
        "            out_file.write(encrypted_chunk)\n",
        "\n",
        "def decrypt_file(input_path, output_path, key):\n",
        "    # Initialize cipher object\n",
        "    cipher = PKCS1_OAEP.new(key)\n",
        "\n",
        "    # Define chunk size\n",
        "    chunk_size = 256  # 1 MB\n",
        "\n",
        "    # Read input file in chunks and decrypt each chunk\n",
        "    with open(input_path, 'rb') as in_file, open(output_path, 'wb') as out_file:\n",
        "        while True:\n",
        "            encrypted_chunk = in_file.read(chunk_size)\n",
        "            if len(encrypted_chunk) == 0:\n",
        "                break\n",
        "            decrypted_chunk = cipher.decrypt(encrypted_chunk)\n",
        "            out_file.write(decrypted_chunk)\n"
      ],
      "metadata": {
        "id": "XnlcG2VQ-A8t"
      },
      "execution_count": null,
      "outputs": []
    },
    {
      "cell_type": "markdown",
      "source": [
        "## 1KB file:"
      ],
      "metadata": {
        "id": "zWCzOsw-T6JJ"
      }
    },
    {
      "cell_type": "code",
      "source": [
        "# Example usage\n",
        "input_file = '1KB_file.txt'\n",
        "encrypted_file = 'encrypted.bin'\n",
        "decrypted_file = '1KB_decrypted_RSA.txt'\n",
        "\n",
        "# Generate RSA key pair\n",
        "key_RSA = RSA.generate(2048)\n",
        "\n",
        "# Encrypt the input file\n",
        "start_time_encrypt = time.time() \n",
        "encrypt_file(input_file, encrypted_file, key_RSA)\n",
        "end_time_encrypt = time.time() \n",
        "\n",
        "# Decrypt the encrypted file\n",
        "start_time_decrypt = time.time() \n",
        "decrypt_file(encrypted_file, decrypted_file, key_RSA)\n",
        "end_time_decypt = time.time()\n",
        "\n",
        "# Delete key object from memory\n",
        "del key_RSA\n",
        "print(\"Time taken for encyption: \",\"{:.4f}\".format(end_time_encrypt - start_time_encrypt), \"seconds\")\n",
        "print(\"Time taken for decryption: \",\"{:.4f}\".format(end_time_decypt - start_time_decrypt), \"seconds\")"
      ],
      "metadata": {
        "id": "SA7BxnWM9KO-",
        "colab": {
          "base_uri": "https://localhost:8080/"
        },
        "outputId": "4c7fc2af-0175-4ab6-f56d-f0d2925406b2"
      },
      "execution_count": null,
      "outputs": [
        {
          "output_type": "stream",
          "name": "stdout",
          "text": [
            "Time taken for encyption:  0.0614 seconds\n",
            "Time taken for decryption:  0.0850 seconds\n"
          ]
        }
      ]
    },
    {
      "cell_type": "markdown",
      "source": [
        "## 5KB file:"
      ],
      "metadata": {
        "id": "Ky_xyqGqT4u0"
      }
    },
    {
      "cell_type": "code",
      "source": [
        "# Example usage\n",
        "input_file = '5KB_file.txt'\n",
        "encrypted_file = '5B_encrypted.bin'\n",
        "decrypted_file = '5KB_decrypted_RSA.txt'\n",
        "\n",
        "# Generate RSA key pair\n",
        "key_RSA = RSA.generate(2048)\n",
        "\n",
        "# Encrypt the input file\n",
        "start_time_encrypt = time.time() \n",
        "encrypt_file(input_file, encrypted_file, key_RSA)\n",
        "end_time_encrypt = time.time() \n",
        "\n",
        "# Decrypt the encrypted file\n",
        "start_time_decrypt = time.time() \n",
        "decrypt_file(encrypted_file, decrypted_file, key_RSA)\n",
        "end_time_decypt = time.time()\n",
        "\n",
        "# Delete key object from memory\n",
        "del key_RSA\n",
        "print(\"Time taken for encyption: \",\"{:.4f}\".format(end_time_encrypt - start_time_encrypt), \"seconds\")\n",
        "print(\"Time taken for decryption: \",\"{:.4f}\".format(end_time_decypt - start_time_decrypt), \"seconds\")"
      ],
      "metadata": {
        "id": "vF6AAOG38kWI",
        "colab": {
          "base_uri": "https://localhost:8080/"
        },
        "outputId": "def2a89d-4e7e-4ad3-9463-3f8b706608b6"
      },
      "execution_count": null,
      "outputs": [
        {
          "output_type": "stream",
          "name": "stdout",
          "text": [
            "Time taken for encyption:  0.1949 seconds\n",
            "Time taken for decryption:  0.4079 seconds\n"
          ]
        }
      ]
    },
    {
      "cell_type": "markdown",
      "source": [
        "## Evaluate the performance of the standard CFB mode for Encryption and Decryption:"
      ],
      "metadata": {
        "id": "XpjmoQj0UGOj"
      }
    },
    {
      "cell_type": "code",
      "source": [
        "def get_file_as_a_one_text(file_name):\n",
        "\n",
        "  with open(file_name ,'rb') as file:\n",
        "    lines = file.read()\n",
        "  \n",
        "  return (lines)"
      ],
      "metadata": {
        "id": "xdC-9savFR8r"
      },
      "execution_count": null,
      "outputs": []
    },
    {
      "cell_type": "code",
      "source": [
        "file_text_1KB = get_file_as_a_one_text('1KB_file.txt')"
      ],
      "metadata": {
        "id": "FTNIXMNRFa05"
      },
      "execution_count": null,
      "outputs": []
    },
    {
      "cell_type": "code",
      "source": [
        "file_text_5KB = get_file_as_a_one_text('5KB_file.txt')"
      ],
      "metadata": {
        "id": "YubX9ZrdFbL-"
      },
      "execution_count": null,
      "outputs": []
    },
    {
      "cell_type": "code",
      "source": [
        "file_text_10KB = get_file_as_a_one_text('10KB_file.txt')"
      ],
      "metadata": {
        "id": "REEQ8euUFdnS"
      },
      "execution_count": null,
      "outputs": []
    },
    {
      "cell_type": "code",
      "source": [
        "file_text_100KB = get_file_as_a_one_text('100KB_file.txt')"
      ],
      "metadata": {
        "id": "lo51kX-PFgFW"
      },
      "execution_count": null,
      "outputs": []
    },
    {
      "cell_type": "code",
      "source": [
        "from Crypto.Cipher import AES\n",
        "\n",
        "def pad_iv(iv):\n",
        "    \"\"\"Pad the initialization vector to 16 bytes.\"\"\"\n",
        "    if len(iv) < 16:\n",
        "        return iv.ljust(16, b'\\x00')\n",
        "    elif len(iv) > 16:\n",
        "        return iv[:16]\n",
        "    else:\n",
        "        return iv\n",
        "\n",
        "def cfb_encrypt(plaintext, iv, Key):\n",
        "    \n",
        "    iv = pad_iv(iv)\n",
        "    cipher = AES.new(Key, AES.MODE_CFB, iv=iv, segment_size=128)\n",
        "    ciphertext = cipher.encrypt(plaintext)\n",
        "    return ciphertext\n",
        "\n",
        "def cfb_decrypt(ciphertext, iv, Key):\n",
        "  \n",
        "    iv = pad_iv(iv)\n",
        "    cipher = AES.new(Key, AES.MODE_CFB, iv=iv, segment_size=128)\n",
        "    plaintext = cipher.decrypt(ciphertext)\n",
        "    return plaintext"
      ],
      "metadata": {
        "id": "YH5I24O9FlUj"
      },
      "execution_count": null,
      "outputs": []
    },
    {
      "cell_type": "markdown",
      "source": [
        "## 1KB file:"
      ],
      "metadata": {
        "id": "-B4nUioIFJOn"
      }
    },
    {
      "cell_type": "code",
      "source": [
        "# Encryption part: \n",
        "\n",
        "start_time_encrypt = time.time() \n",
        "standard_cipher_1KB = cfb_encrypt(file_text_1KB, IV, key)\n",
        "end_time_encrypt = time.time() \n",
        "#print(cipher_100KB)\n",
        "print(\"Time taken for encyption: \",\"{:.4f}\".format(end_time_encrypt - start_time_encrypt), \"seconds\")\n",
        "\n",
        "\n",
        "# Decryption part:\n",
        "\n",
        "start_time_decrypt = time.time() \n",
        "standard_decrypted_1KB = cfb_decrypt(standard_cipher_1KB, IV, key)\n",
        "end_time_decypt = time.time()\n",
        "#print(decrypted_100KB)\n",
        "print(\"Time taken for decryption: \",\"{:.4f}\".format(end_time_decypt - start_time_decrypt), \"seconds\")"
      ],
      "metadata": {
        "id": "Ckca2nSuGvt3",
        "colab": {
          "base_uri": "https://localhost:8080/"
        },
        "outputId": "6b4c9921-0278-4730-c5c6-6001f4478070"
      },
      "execution_count": null,
      "outputs": [
        {
          "output_type": "stream",
          "name": "stdout",
          "text": [
            "Time taken for encyption:  0.0005 seconds\n",
            "Time taken for decryption:  0.0003 seconds\n"
          ]
        }
      ]
    },
    {
      "cell_type": "code",
      "source": [
        "with open('standard_output_1KB.txt', 'wb') as f:\n",
        "    # write the bytes object to the file\n",
        "    for i in range(0, len(standard_decrypted_1KB), 1024):\n",
        "        decrypted_data = standard_decrypted_1KB[i:i+1024]\n",
        "        f.write(bytes(decrypted_data))"
      ],
      "metadata": {
        "id": "X10010yaHMqB"
      },
      "execution_count": null,
      "outputs": []
    },
    {
      "cell_type": "markdown",
      "source": [
        "## 5KB file:"
      ],
      "metadata": {
        "id": "Mo3tJP3SFINk"
      }
    },
    {
      "cell_type": "code",
      "source": [
        "# Encryption part: \n",
        "\n",
        "start_time_encrypt = time.time() \n",
        "standard_cipher_5KB = cfb_encrypt(file_text_5KB, IV, key)\n",
        "end_time_encrypt = time.time() \n",
        "#print(cipher_100KB)\n",
        "print(\"Time taken for encyption: \",\"{:.4f}\".format(end_time_encrypt - start_time_encrypt), \"seconds\")\n",
        "\n",
        "\n",
        "# Decryption part:\n",
        "\n",
        "start_time_decrypt = time.time() \n",
        "standard_decrypted_5KB = cfb_decrypt(standard_cipher_5KB, IV, key)\n",
        "end_time_decypt = time.time()\n",
        "#print(decrypted_100KB)\n",
        "print(\"Time taken for decryption: \",\"{:.4f}\".format(end_time_decypt - start_time_decrypt), \"seconds\")"
      ],
      "metadata": {
        "id": "Lv1j1jBpIYaK",
        "colab": {
          "base_uri": "https://localhost:8080/"
        },
        "outputId": "6aebfbdd-ff9e-4784-fac5-3384fab5c0fa"
      },
      "execution_count": null,
      "outputs": [
        {
          "output_type": "stream",
          "name": "stdout",
          "text": [
            "Time taken for encyption:  0.0004 seconds\n",
            "Time taken for decryption:  0.0002 seconds\n"
          ]
        }
      ]
    },
    {
      "cell_type": "code",
      "source": [
        "with open('standard_output_5KB.txt', 'wb') as f:\n",
        "    # write the bytes object to the file\n",
        "    for i in range(0, len(standard_decrypted_5KB), 1024):\n",
        "        decrypted_data = standard_decrypted_5KB[i:i+1024]\n",
        "        f.write(bytes(decrypted_data))"
      ],
      "metadata": {
        "id": "llRIYad_Id0z"
      },
      "execution_count": null,
      "outputs": []
    },
    {
      "cell_type": "markdown",
      "source": [
        "## 10KB file:"
      ],
      "metadata": {
        "id": "0sY4jpmCFKr4"
      }
    },
    {
      "cell_type": "code",
      "source": [
        "# Encryption part: \n",
        "\n",
        "start_time_encrypt = time.time() \n",
        "standard_cipher_10KB = cfb_encrypt(file_text_10KB, IV, key)\n",
        "end_time_encrypt = time.time() \n",
        "#print(cipher_100KB)\n",
        "print(\"Time taken for encyption: \",\"{:.4f}\".format(end_time_encrypt - start_time_encrypt), \"seconds\")\n",
        "\n",
        "\n",
        "# Decryption part:\n",
        "\n",
        "start_time_decrypt = time.time() \n",
        "standard_decrypted_10KB = cfb_decrypt(standard_cipher_10KB, IV, key)\n",
        "end_time_decypt = time.time()\n",
        "#print(decrypted_100KB)\n",
        "print(\"Time taken for decryption: \",\"{:.4f}\".format(end_time_decypt - start_time_decrypt), \"seconds\")"
      ],
      "metadata": {
        "id": "2k_G8KWWIZyI",
        "colab": {
          "base_uri": "https://localhost:8080/"
        },
        "outputId": "5dd53820-eab0-48e4-ccae-201c0a0d0a54"
      },
      "execution_count": null,
      "outputs": [
        {
          "output_type": "stream",
          "name": "stdout",
          "text": [
            "Time taken for encyption:  0.0003 seconds\n",
            "Time taken for decryption:  0.0002 seconds\n"
          ]
        }
      ]
    },
    {
      "cell_type": "code",
      "source": [
        "with open('standard_output_10KB.txt', 'wb') as f:\n",
        "    # write the bytes object to the file\n",
        "    for i in range(0, len(standard_decrypted_10KB), 1024):\n",
        "        decrypted_data = standard_decrypted_10KB[i:i+1024]\n",
        "        f.write(bytes(decrypted_data))"
      ],
      "metadata": {
        "id": "UMloVVbZIe_X"
      },
      "execution_count": null,
      "outputs": []
    },
    {
      "cell_type": "markdown",
      "source": [
        "## 100KB file:"
      ],
      "metadata": {
        "id": "dtrCfZagFMDL"
      }
    },
    {
      "cell_type": "code",
      "source": [
        "# Encryption part: \n",
        "\n",
        "start_time_encrypt = time.time() \n",
        "standard_cipher_100KB = cfb_encrypt(file_text_100KB, IV, key)\n",
        "end_time_encrypt = time.time() \n",
        "#print(cipher_100KB)\n",
        "print(\"Time taken for encyption: \",\"{:.4f}\".format(end_time_encrypt - start_time_encrypt), \"seconds\")\n",
        "\n",
        "\n",
        "# Decryption part:\n",
        "\n",
        "start_time_decrypt = time.time() \n",
        "standard_decrypted_100KB = cfb_decrypt(standard_cipher_100KB, IV, key)\n",
        "end_time_decypt = time.time()\n",
        "#print(decrypted_100KB)\n",
        "print(\"Time taken for decryption: \",\"{:.4f}\".format(end_time_decypt - start_time_decrypt), \"seconds\")"
      ],
      "metadata": {
        "id": "dnvIjx6PVLjT",
        "colab": {
          "base_uri": "https://localhost:8080/"
        },
        "outputId": "2b23472b-bc92-4274-ea3b-9dc434373d15"
      },
      "execution_count": null,
      "outputs": [
        {
          "output_type": "stream",
          "name": "stdout",
          "text": [
            "Time taken for encyption:  0.0015 seconds\n",
            "Time taken for decryption:  0.0039 seconds\n"
          ]
        }
      ]
    },
    {
      "cell_type": "code",
      "source": [
        "with open('standard_output_100KB.txt', 'wb') as f:\n",
        "    # write the bytes object to the file\n",
        "    for i in range(0, len(standard_decrypted_100KB), 1024):\n",
        "        decrypted_data = standard_decrypted_100KB[i:i+1024]\n",
        "        f.write(bytes(decrypted_data))"
      ],
      "metadata": {
        "id": "nrpv2-2SIgGj"
      },
      "execution_count": null,
      "outputs": []
    },
    {
      "cell_type": "code",
      "source": [
        "def standard_CFB_mode(plaintext, key, iv, mode):\n",
        "    cipher = AES.new(key, AES.MODE_CFB, iv)\n",
        "    if mode == 'encrypt':\n",
        "        return cipher.encrypt(plaintext)\n",
        "    elif mode == 'decrypt':\n",
        "        return cipher.decrypt(plaintext)\n",
        "    else:\n",
        "        raise ValueError(\"Invalid mode: choose 'encrypt' or 'decrypt'\")\n",
        "\n",
        "\n",
        "# Encrypt and decrypt the files using the standard CFB mode and measure the time taken\n",
        "\n",
        "file_sizes = [1, 5, 10, 100]  # KB\n",
        "file_names = ['1KB_file.txt', '5KB_file.txt', '10KB_file.txt', '100KB_file.txt']\n",
        "\n",
        "for file_size, file_name in zip(file_sizes, file_names):\n",
        "    with open(file_name, 'rb') as f:\n",
        "        plaintext = f.read()\n",
        "\n",
        "    # Encrypt\n",
        "  \n",
        "    import os\n",
        "\n",
        "    key = os.urandom(16)\n",
        "    start_time_encrypt = time.time()\n",
        "    ciphertext = standard_CFB_mode(plaintext, key, IV, 'encrypt')\n",
        "    end_time_encrypt = time.time()\n",
        "    print(f\"Time taken for {file_size}KB file encryption: {end_time_encrypt - start_time_encrypt:.4f} seconds\")\n",
        "\n",
        "    # Decrypt\n",
        "    start_time_decrypt = time.time()\n",
        "    decrypted_text = standard_CFB_mode(ciphertext, key, IV, 'decrypt')\n",
        "    end_time_decrypt = time.time()\n",
        "    print(f\"Time taken for {file_size}KB file decryption: {end_time_decrypt - start_time_decrypt:.4f} seconds\")"
      ],
      "metadata": {
        "id": "pusNuVRNTKp5",
        "colab": {
          "base_uri": "https://localhost:8080/"
        },
        "outputId": "b80d07eb-1211-4271-8e84-78647b374c95"
      },
      "execution_count": null,
      "outputs": [
        {
          "output_type": "stream",
          "name": "stdout",
          "text": [
            "Time taken for 1KB file encryption: 0.0002 seconds\n",
            "Time taken for 1KB file decryption: 0.0001 seconds\n",
            "Time taken for 5KB file encryption: 0.0004 seconds\n",
            "Time taken for 5KB file decryption: 0.0004 seconds\n",
            "Time taken for 10KB file encryption: 0.0007 seconds\n",
            "Time taken for 10KB file decryption: 0.0006 seconds\n",
            "Time taken for 100KB file encryption: 0.0072 seconds\n",
            "Time taken for 100KB file decryption: 0.0045 seconds\n"
          ]
        }
      ]
    }
  ]
}